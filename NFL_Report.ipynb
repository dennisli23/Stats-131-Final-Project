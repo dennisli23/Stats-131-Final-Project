{
 "cells": [
  {
   "cell_type": "markdown",
   "metadata": {},
   "source": [
    "# Stats 131 Final Project"
   ]
  },
  {
   "cell_type": "markdown",
   "metadata": {},
   "source": [
    "## Project Overview"
   ]
  },
  {
   "cell_type": "markdown",
   "metadata": {},
   "source": [
    "In the National Football League (NFL), a franchise's starting quarterback is often considered the most important position and player on the team. A quarterback in the NFL is tasked with directing the offense and being an extension of the coaching staff whom call plays for the quarterback relay to his team. Because of their critical importance to their team, a quarterback is often the highest paid player on his respective team. There is a narrative in the NFL that a team cannot excel without good quarterback. With that said, our project aims to using Principal Component Analysis and K-Means Clustering to see whether or not we can separate quarterbacks into distinct tiers or clusters to see whether or not we can see what makes up an elite quarterback in the NFL."
   ]
  },
  {
   "cell_type": "markdown",
   "metadata": {},
   "source": [
    "## Background Information\n",
    "\n",
    "### Football Terms\n",
    "\n",
    "- <b>First-String Players</b> The players on a football team who play most, if not all, of the teams offensive or defensive plays. These players are deemed as the starters.\n",
    "- <b>Possession:</b> When a team has the football and is trying to score.\n",
    "- <b>Rushing:</b> When a player is handed off the ball by the quarterback to run with the football.\n",
    "- <b>Reception:</b> When a player catches the football from a pass.\n",
    "- <b>Target:</b> A receiver is considered to be targeted by the quarterback when a pass is thrown in his direction.\n",
    "- <b>Rushing the passer:</b> Different from rushing, this is when players on the defense try to break past the offensive line to sack the quarterback.\n",
    "- <b>Tackle:</b> Taking down a player when they have the football.\n",
    "- <b>Sack:</b> Tackling the quarterback when he was trying to make a passing play.\n",
    "- <b>Blocking:</b> Cutting off a defensive player's path to tackling the offensive player who has the ball.\n",
    "- <b>Snap:</b> When the center gives the ball from under his legs to the quarterback, thus starting the play.\n",
    "- <b>Line of Scrimmage:</b> The imaginary line between the two teams where the football is snapped. \n",
    "- <b>Down (verb):</b> When the ball carrier is tackled to the ground by the defensive team. A player is considered to be down if any part of his body other than his hands or feet touch the ground while having contact with a defensive player. A ball carrier can also be considered down if he runs out of bounds.\n",
    "- <b>Down (noun):</b> A play. A team is given 4 sets of downs per offensive possession. \n",
    "- <b>First Down:</b> Advancing the ball 10 yards past the line of scrimmage. Obtaining a first down results in a fresh set of 4 downs for the offensive team. \n",
    "- <b>End Zone:</b> The area at the ends of the field where a team must cross into to score.\n",
    "- <b>Goal Line:</b> The line that designates the beginning of the endzone.\n",
    "- <b>Touchdown:</b> When a team gets into the opposing team's endzone. Touchdowns are worth 6 points.\n",
    "- <b>Field Goal:</b> When a kicker kicks the football between the goal posts. Field Goals are worth 3 points.\n",
    "- <b>Extra Point:</b> When a team scores a touchdown, they have the option to kick the ball through the goal posts from 15 yards from the goal line to score 1 point.\n",
    "- <b>2-Point Conversion:</b> After scoring a touchdown, the team can opt to run one offensive play ran from the 2 yard line that is worth 2 points if the team reaches the endzone.\n",
    "- <b>Safety:</b> When a ball carrier is tackled in their own endzone. A safety is worth 2 points to the defensive team and awards possession to the defensive team. \n",
    "- <b>Checkdown:</b> A short, dump-off pass, usually to a team's running back, when all wide receivers are covered.\n",
    "- <b>Offensive Line:</b> Players on the offense who line up in front of the quarterback at the line of scrimmage. Consist of the Center, Offesive Guard, and Offensive Tackles. \n",
    "- <b>Defensive Line:</b> Players on the defense who line up opposite of the offensive line to try to sack the quarterback. Consist of the Defensive Tackles and Defensive Ends.\n",
    "- <b>Defensive Backs:</b> Defensive Players who try to prevent the wide receivers catching passes.\n",
    "- <b>Field Position:</b> Where the offensive team is on the field\n",
    "- <b>Punting:</b> On 4th down, a team can punt the ball back towards their opponents own endzone to prevent their opponent from having good field position.\n",
    "- <b>Turnover:</b>: When the offensive team gives up the ball to the defensive team. A turnover can be achieved on downs, an interception, or fumble.\n",
    "- <b>Interception/Pick:</b> When a defensive player catches a pass from the offensive team's quarterback. Results in a change in possession. \n",
    "- <b>Fumble:</b> When a ball carrier loses the football. If the ball is recovered by the offensive team, they retain possession. If the ball is recovered by the defensive team, it is a lost fumble and the defensive team now has possession. After a fumble, the next down is started at the spot where the football was recovered.  \n",
    "- <b>Turnover on Downs:</b> When a team fails to advance the ball 10 yards past the line of scrimmage. If a team punts the ball, it is not considered a turnover on downs.\n",
    "- <b>Audible:</b> When the quarterback changes the play at the line of scrimmage.\n",
    "- <b>Blitz:</b> When extra players, other than the defensive lineman, are sent to try to sack the quarterback.\n",
    "- <b>Lateral:</b> A pass thrown parallel to or in the backwards direction from a team's goal line.\n",
    "- <b>Red Zone:</b> When the offensive team is within 20 yards of the opposing team's endzone.\n",
    "- <b>Hail Mary:</b> A very long, desperation pass made in an attempt to score. Usually these passes occur at the end of games where the offensive team must score to win the game. Hail Marys are usually unsuccessful.\n",
    "- <b>Kickoff:</b> The start of a new possesion after the other team has scored. The opposing team kicks the ball toward the other team's endzone.\n",
    "- <b>Onside Kick:</b> During a kickoff, a team may elect to kick the ball a very short distance in an attempt to get another offensive possession. The onside kick must travel at least 15 yards before player on the kicking team may touch the ball, but a kicking team player is allowed to touch the ball before the 15 yard distance if a player on the opposing team touches the ball first.\n",
    "- <b>Touchback:</b> When a punt or kick during a kickoff travels beyond the receiving team's endzone. The ball is placed on the team's own 25 yard line as a result of a touchback.\n",
    "- <b>Field Goal Range:</b> When a team is within the ideal range to attempt a field goal. Field goal range is usually around 50 yards from the goal posts as attempted field goals beyond this distance have a low conversion rate."
   ]
  },
  {
   "cell_type": "markdown",
   "metadata": {},
   "source": [
    "### Basics of Football\n",
    "\n",
    "In a football game, a team's objective is to move the football down the field with the main goal of reaching the other team's endzone, thus scoring a touchdown which is worth 6 points. A team can move the football through rushing or passing the football. A team is given 4 sets of down for each offensive possession and a fresh set of 4 downs are given everytime a team gets a first down. After scoring a touchdown, a team can either kick an extra point, a kick attempt from 33 yards out that is worth 1 point if converted or go for a 2-point conversion, one offensive play from the 2 yard line that is worth 2 points if the team reachs the endzone. If a team is unable to score a touchdown, they instead settle for a field goal, which is worth 3 points. A team can also commit a turnover through an interception, lost fumble, or a safety. If a team fails to obtain a first down after 3 downs, they can either punt the ball to the other team or \"go for it\" and try to obtain a first down on their 4th down. Failing to convert on 4th down results in giving possesion to the other team on the line of scrimmage. \n",
    "\n",
    "When a team is on defense, their objective is to stop the the other team from scoring. Being able to hold the opposing team to a field goal is considered satisfactory but ideally, a defense is able force the opposing team to punt or commit a turnover. Special teams are responsible to the change of possesion plays: kickoffs and punts. During kickoffs punts, the kicking team is attempting to give the worst possible field position to the receiving team. The receiving team can either return the football (catch the kick and run it) in an attempt to gain better field position or possibly even score a touchdown, kneel in the endzone, resulting in a touchback, or call for a fair catch, resulting in the offense starting from the spot of the catch."
   ]
  },
  {
   "cell_type": "markdown",
   "metadata": {},
   "source": [
    "### Positions\n",
    "\n",
    "##### Offensive:\n",
    "- <b>Quarterback</b>\n",
    "    - Considered the most important position on a football team. A quarterback relays the coaching staff's plays to the rest of the offense, however it is up to a quarterback to call an audible to change the play or run the designated play if he sees something in the other's teams defense formation. A quarterback can be lined up under the center or in shotgun. Quarterbacks have three options when they receive the ball: make a forward pass, hand the ball off to the running back, or run the football themselves.\n",
    "    \n",
    "- <b>Running Back</b>\n",
    "    - Running backs are players who line up behind the line of scrimmage either behind or next to the quarterback depending on the play. They either are handed off the football by the quarterback to rush the football, block the pass-rushers on the other team, or leak out beyond the line of scrimmage to receive a checkdown from the quarterback.\n",
    "    \n",
    "- <b>Wide Receiver</b>\n",
    "    - Wide Receivers catch passes from the quarterback. The main objective is to run routes to get open for their quarterback to pass them the ball. A good wide receiver has good hands, and speed. Wide receivers can line up behind the line of scrimmage, out wide (outermost receiver on the line of scrimmage), or in the slot (in between the receiver out wide and the offensive line).\n",
    "- <b>Tight End</b>\n",
    "    - Tight Ends are considered to be hybrid players who can function as an extra blocker to protect the quarterback or run routs as a receiver. Most Tight Ends are blocking tight ends who only occasionally catch passes. The best tight ends in the NFL are good at both catching passes as well as blocking. Tight ends are usually targetted in the red zone as they are usually bigger and stronger that wide receivers with the average height and weight of a tight end being 6'3\" and 240 lbs respectively. \n",
    "- <b>Center</b>\n",
    "    - Snaps the ball to the quarterback, thus starting the offensive play. Centers also block and protect the quarterback from being sacked. As part of the offensive line, they also block to open up running lanes on rushing plays.\n",
    "- <b>Right/Left Guard</b>\n",
    "    - Protects the quarterback from the opposing team's defensive tackles. As part of the offensive line, they also block to open up running lanes on rushing plays.\n",
    "- <b>Right/Left Tackle</b>\n",
    "    - Protects the quarterback from the opposing team's defensive ends. As part of the offensive line, they also block to open up running lanes on rushing plays.\n",
    "- <b>Fullback</b>\n",
    "    - An extra blocker that lines up behind the quarterback but in front of the running back. Because they are usually only used on rushing plays, their main objective is to help further clear lanes for the running back to run the ball, although they can also rush the ball and catch the ball in need be.\n",
    "\n",
    "##### Defensive:\n",
    "- <b>Defensive End</b>\n",
    "    - A defensive end rushes the passer and stops the opposing team's rusher from running around the outside of the line.\n",
    "- <b>Defensive Tackle</b>\n",
    "    - Similar to a defensive end, defensive tackles rush the passer and stop the opposing team's rusher from running through the middle on rushing plays.\n",
    "- <b>Middle Linebacker</b>\n",
    "    - Considered to the \"quarterback on defense\", middle linebackers primarily call the team's defense plays and must be able adjust to multiple situations. Depending on the play, a middle linebacker may stop the running back if he has broken past the defensive line, cover the middle of the field on passing plays, or rush the passer on blitz plays.\n",
    "- <b>Outside Linebacker</b>\n",
    "    - Outside linebackers often cover tight ends on their routes, or rush the passer when the tight end is blocking to protect his quarterback. Outside linebackers are also responsible for stopping the running back if he has broken past the defensive end.\n",
    "- <b>Cornerback</b>\n",
    "    - Cornerbacks are responsible for covering the other team's opposing wide receiver and prevent them from catching passes from the opposing team's quarterback.\n",
    "- <b>Safety</b>\n",
    "    - Safetys are considered to be the last line of defense. Strong safetys are usually bigger and stronger and add a layer of extra protection on run plays while free safetys usually help cornerbacks with covering long pass plays. A free safety might help a cornerback double team an opposing team's number 1 wide receiver.\n",
    "\n",
    "##### Special Teams:\n",
    "- <b>Kicker</b>\n",
    "    - Responisble for kicking field goals and extra points. Some kickers also kick on kickoffs.\n",
    "- <b>Holder</b>\n",
    "    - Holds the ball on the ground for the kicker to kick.\n",
    "- <b>Long Snapper</b>\n",
    "    - Similar to a center but for special teams, a long snapper snaps the ball holder.\n",
    "- <b>Punter</b>\n",
    "    - Responsible for punting the ball on punt plays. Some punters kick for kickoffs.\n",
    "- <b>Kick/Punt Returner</b>\n",
    "    - A receiving team's player who catches and returns the ball on kickoffs and punts. Usually the kick/punt returner is a young wide receiver who either is not in the starting lineup or is does not play a large role during offensive plays.\n",
    "- <b>Upback</b>\n",
    "    - Upbacks protect the punter, acting as the last line of defense to ensure the punt is not blocked.\n",
    "- <b>Gunner</b>\n",
    "    - Players designated in running down the field to tackle the kick/punt returner.\n",
    "- <b>Jammer</b>\n",
    "    - Players designated to block the gunners."
   ]
  },
  {
   "cell_type": "markdown",
   "metadata": {},
   "source": [
    "### General Structure of NFL\n",
    "The National Football League (NFL) is an American professional football league that consists of 32 teams where 16 teams are part of the National Football Conference (NFC) and the other 16 teams are part of the American Football Conference (AFC). In addition to  being separated into 2 distinct conferences, the teams within a conference are also divided into 4 divisions. The divisions are the following:\n",
    "\n",
    "##### American Football Conference (AFC)\n",
    "- AFC East\n",
    "    - New England Patriots (NWE)\n",
    "    - Miami Dolphins (MIA)\n",
    "    - Buffalo Bills (BUF)\n",
    "    - New York Jets (NYJ)\n",
    "- AFC West\n",
    "    - Kansas City Chiefs (KAN)\n",
    "    - Los Angeles Chargers (LAC)\n",
    "    - Denver Broncos (DEN)\n",
    "    - Oakland Raiders (OAK)\n",
    "- AFC North\n",
    "    - Pittsburgh Steelers (PIT)\n",
    "    - Baltimore Ravens (BAL)\n",
    "    - Cincinnati Bengals (CIN)\n",
    "    - Cleveland Browns (CLE)\n",
    "- AFC South\n",
    "    - Houston Texans (HOU)\n",
    "    - Indianapolis Colts (IND)\n",
    "    - Tennessee Titans (TEN)\n",
    "    - Jacksonville Jaguars (JAX)\n",
    "\n",
    "<br>\n",
    "\n",
    "##### National Football Conference (NFC)\n",
    "- NFC East\n",
    "    - Dallas Cowboys (DAL)\n",
    "    - Philadelphia Eagles (PHI)\n",
    "    - Washington Redskins (WAS)\n",
    "    - New York Giants (NYG)\n",
    "- NFC West\n",
    "    - Los Angeles Rams (LAR)\n",
    "    - Seattle Seahawks (SEA)\n",
    "    - Arizona Cardinals (ARI)\n",
    "    - San Francisco 49ers (SFO)\n",
    "- NFC North\n",
    "    - Chicago Bears (CHI)\n",
    "    - Minnesota Vikings (MIN)\n",
    "    - Green Bay Packers (GNB)\n",
    "    - Detroit Lions (DET)\n",
    "- NFC South\n",
    "    - New Orleans Saints (NOR)\n",
    "    - Carolina Panthers (CAR)\n",
    "    - Tampa Bay Buccaneers (TAM)\n",
    "    - Atlanta Falcons (ATL)\n"
   ]
  },
  {
   "cell_type": "markdown",
   "metadata": {},
   "source": [
    "### Structure of NFL season\n",
    "\n",
    "#### Preseason\n",
    "The NFL preseason consists of 4 exhibition games that have no effect on a team's standing or record. Preseason games are usually an opportunity for training camp/practice squad players to earn a spot on a team's roster while also giving first-string players a chance to practice and work into shape.  \n",
    "\n",
    "#### Regular Season\n",
    "The NFL season consists of 17 weeks with 16 games played from August to December with an additional postseason playoffs for qualified teams. Each team plays has a designated BYE week where the team does not play and is allowed an additional week of rest. All NFL games are played on Sundays with the exception of 2 games each week: one of which is played on Thursday and the other being played on Monday. \n",
    "\n",
    "There are considered to be 3 \"marquee\" games that are played each week: \n",
    "\n",
    "- <i>Thursday Night Football</i>\n",
    "- <i>Sunday Night Football</i>\n",
    "- <i>Monday Night Football</i>\n",
    "\n",
    "Thanksgiving week is the one exception to the week to week game schedule structure that the NFL follows. On Thanksgiving, instead of playing one game on <i>Thursday Night Football</i>, three games are played on three different timeslots on Thanksgiving.  \n",
    "\n",
    "#### Postseason/Playoffs\n",
    "Teams must qualify in order to make the postseason of the NFL. Six teams from each conference are will qualify for the playoffs, the division winner from each division and 2 wildcard spots from each conference. The two wildcard teams from each conference are teams two best teams from each conference excluding the division winners. "
   ]
  },
  {
   "cell_type": "markdown",
   "metadata": {},
   "source": [
    "### NFL Rosters\n",
    "A current NFL roster consists of 53 active players, meaning players who are healthy and a part of the team's roster on each Sunday. A NFL team consists of the three categoriess of football players: offensive players, defensive players, and special teams. There are not any set restrictions as to how many of each type a player a team must roster, but most teams have a good balance between the three types of players. "
   ]
  },
  {
   "cell_type": "markdown",
   "metadata": {},
   "source": [
    "### Data Description\n",
    "\n",
    "#### General information about Quarterback statistics\n",
    "Quarterbacks are usually separated into 2 types: a gunslinger and a game manager. A gunslinger is characterzed as a quarterback who loves to take risks, often throwing many long passes and risky passes that can either result in big plays or an interception. A game manager usually has a negative connotation attached and is a quarterback who only attempts safe, short passes. Game managers are usually afraid to take risks such as throwing long passes and are considered to be a quarterback who tries not to make mistakes and fail to make their teammates better.  \n",
    "\n",
    "The best quarterbacks are usually a mixture of a gunslinger and a game manager. These quarterbacks are able to throw quick accurate passes while also being able to make the long passes. They are able to read the defenses to determine the best option on any given play. A quarterback with these skills are considered to be elite, but there are few elite quarterbacks in the NFL.\n",
    "\n",
    "Statistically, a quarterback is considered to have a good game if he is able to throw for 250 yards and 2 touchdowns with no interceptions. If a quarterback is able to achieve these marks each game over the course of a 16 game season, he would end the season with 4000 passing yards and 32 touchdowns but no quarterback achieves these exact stats. It is hotly debated what a good or average quarterback's stats should be. Usually over 4000 passing yards is considered good for a quarterback. The number of touchdowns and interceptions a quarterback throws and a quarterback's TD:INT ratio always has to be taken in context. A quarterback may throw 30 touchdowns and 20 interceptions in a season and have a lower TD:INT ratio than a quaterback who threw for 15 touchdowns and 5 interceptions. In general, a TD:INT ratio over 2 is considered to be good given that there is enough volume. A general baseline for a good quarterback would be 30 or more touchdowns and 10 or fewer interceptions over the course of a 16 game season.\n",
    "\n",
    "#### Variables\n",
    "\n",
    "\n",
    "#### How Football Statistics are recorded\n",
    "\n",
    "Stats for football are recorded every game and added into a player's totals for that given season. Usually football stats are viewed as totals from an entire season as opposed to one's average per game, although how many games a player plays is factored into player's evaluation when looking at one's season totals."
   ]
  },
  {
   "cell_type": "markdown",
   "metadata": {},
   "source": [
    "## Data Cleaning/Preparation"
   ]
  },
  {
   "cell_type": "markdown",
   "metadata": {},
   "source": [
    "### Loading necessary libraries"
   ]
  },
  {
   "cell_type": "code",
   "execution_count": 1,
   "metadata": {},
   "outputs": [],
   "source": [
    "import pandas as pd\n",
    "import numpy as np\n",
    "import matplotlib.pyplot as plt\n",
    "import matplotlib.gridspec as gridspec\n",
    "import seaborn as sns"
   ]
  },
  {
   "cell_type": "code",
   "execution_count": 2,
   "metadata": {},
   "outputs": [],
   "source": [
    "from sklearn.decomposition import PCA\n",
    "from sklearn.preprocessing import StandardScaler\n",
    "from sklearn.model_selection import train_test_split\n",
    "from sklearn.pipeline import Pipeline\n",
    "from sklearn.cluster import KMeans\n",
    "from sklearn.model_selection import GridSearchCV"
   ]
  },
  {
   "cell_type": "code",
   "execution_count": 3,
   "metadata": {},
   "outputs": [],
   "source": [
    "import warnings\n",
    "warnings.filterwarnings('ignore')"
   ]
  },
  {
   "cell_type": "markdown",
   "metadata": {},
   "source": [
    "### Reading in QB Passing and Rushing Data"
   ]
  },
  {
   "cell_type": "code",
   "execution_count": 4,
   "metadata": {},
   "outputs": [],
   "source": [
    "nfl_data = {}\n",
    "rush_filter = ['Player','Rushing Att','Rushing Yds','Rushing TD']\n",
    "#rush_type = {'Rushing Att' : np.float64, 'Rushing Yds': np.float64,'Rushing TD': np.float64,'Rushing Lng': np.float64}"
   ]
  },
  {
   "cell_type": "code",
   "execution_count": 5,
   "metadata": {
    "scrolled": true
   },
   "outputs": [],
   "source": [
    "#Testing reading in data\n",
    "#nfl_rr = pd.read_csv('../src/Data/nfl-2017-rr.csv')\n",
    "#nfl_rr[rush_filter]"
   ]
  },
  {
   "cell_type": "code",
   "execution_count": 6,
   "metadata": {},
   "outputs": [],
   "source": [
    "pro_bowl = {2014 : ['Cam Newton', 'Nick Foles', 'Andrew Luck', 'Drew Brees', 'Alex Smith', 'Philip Rivers',\n",
    "                   'Russell Wilson', 'Tom Brady', 'Peyton Manning'],\n",
    "            2015 : ['Drew Brees', 'Andrew Luck', 'Andy Dalton', 'Matt Ryan', 'Tony Romo', 'Matthew Stafford',\n",
    "                   'Ben Roethlisberger', 'Tom Brady', 'Aaron Rodgers', 'Peyton Manning'],\n",
    "            2016 : ['Derek Carr', 'Eli Manning', 'Tyrod Taylor', 'Teddy Bridgewater', 'Russell Wilson',\n",
    "                   'Jameis Winston', 'Tom Brady', 'Cam Newton', 'Aaron Rodgers', 'Carson Palmer', \n",
    "                   'Ben Roethlisberger'],\n",
    "            2017 : ['Tom Brady', 'Derek Carr', 'Ben Roethlisberger', 'Alex Smith', 'Andy Dalton', 'Philip Rivers',\n",
    "                   'Matt Ryan', 'Dak Prescott', 'Aaron Rodgers', 'Kirk Cousins', 'Drew Brees'],\n",
    "            2018 : ['Tom Brady', 'Ben Roethlisberger', 'Philip Rivers', 'Alex Smith', 'Derek Carr',\n",
    "                   'Carson Wentz', 'Russell Wilson', 'Drew Brees', 'Jared Goff']}"
   ]
  },
  {
   "cell_type": "code",
   "execution_count": 7,
   "metadata": {},
   "outputs": [],
   "source": [
    "def add_pro_bowl(data, year):\n",
    "    if data.Player in pro_bowl[year]:\n",
    "        return 1\n",
    "    else:\n",
    "        return 0"
   ]
  },
  {
   "cell_type": "code",
   "execution_count": 8,
   "metadata": {},
   "outputs": [],
   "source": [
    "for i in range(2013,2018):\n",
    "    nfl = pd.read_csv('../src/Data/nfl-{}.csv'.format(i))\n",
    "    nfl_rr = pd.read_csv('../src/Data/nfl-{}-rr.csv'.format(i))\n",
    "    nfl_rr = nfl_rr[rush_filter]\n",
    "    nfl['Year'] = i\n",
    "    nfl['Pro_Bowl'] = nfl.apply(add_pro_bowl, axis = 1, year = i + 1)\n",
    "    nfl_full = nfl.merge(nfl_rr, on = 'Player', how = 'left')\n",
    "    nfl_full.set_index(['Year', 'Player'], inplace = True)\n",
    "    nfl_data[i] = nfl_full"
   ]
  },
  {
   "cell_type": "code",
   "execution_count": 9,
   "metadata": {
    "scrolled": false
   },
   "outputs": [
    {
     "name": "stdout",
     "output_type": "stream",
     "text": [
      "<class 'pandas.core.frame.DataFrame'>\n",
      "MultiIndex: 85 entries, (2013, Peyton Manning) to (2013, Brad Smith)\n",
      "Data columns (total 33 columns):\n",
      "Rk             85 non-null int64\n",
      "Tm             85 non-null object\n",
      "Age            85 non-null int64\n",
      "Pos            66 non-null object\n",
      "G              85 non-null int64\n",
      "GS             85 non-null int64\n",
      "QBrec          51 non-null object\n",
      "Cmp            85 non-null int64\n",
      "Att            85 non-null int64\n",
      "Cmp%           85 non-null float64\n",
      "Yds            85 non-null int64\n",
      "TD             85 non-null int64\n",
      "TD%            85 non-null float64\n",
      "Int            85 non-null int64\n",
      "Int%           85 non-null float64\n",
      "Lng            85 non-null int64\n",
      "Y/A            85 non-null float64\n",
      "AY/A           85 non-null float64\n",
      "Y/C            75 non-null float64\n",
      "Y/G            85 non-null float64\n",
      "Rate           85 non-null float64\n",
      "QBR            73 non-null float64\n",
      "Sk             85 non-null int64\n",
      "Yds2           85 non-null int64\n",
      "NY/A           85 non-null float64\n",
      "ANY/A          85 non-null float64\n",
      "Sk%            85 non-null float64\n",
      "4QC            37 non-null float64\n",
      "GWD            37 non-null float64\n",
      "Pro_Bowl       85 non-null int64\n",
      "Rushing Att    76 non-null object\n",
      "Rushing Yds    76 non-null object\n",
      "Rushing TD     76 non-null object\n",
      "dtypes: float64(14), int64(13), object(6)\n",
      "memory usage: 22.9+ KB\n"
     ]
    }
   ],
   "source": [
    "nfl_data[2013].info()"
   ]
  },
  {
   "cell_type": "code",
   "execution_count": 10,
   "metadata": {
    "scrolled": true
   },
   "outputs": [],
   "source": [
    "nfl = nfl_data[2013]\n",
    "for i in range(2014,2018):\n",
    "    nfl = pd.concat([nfl, nfl_data[i]])"
   ]
  },
  {
   "cell_type": "code",
   "execution_count": 11,
   "metadata": {
    "scrolled": true
   },
   "outputs": [
    {
     "data": {
      "text/plain": [
       "Index(['FB/rb', 'FS', 'K', 'LCB', 'NT', 'P', 'P/WR', 'QB', 'QB/wr', 'RB', 'TE',\n",
       "       'WR', 'fb/wr', 'fs', 'mlb', 'qb', 'rb', 'rb/wr', 'wr'],\n",
       "      dtype='object')"
      ]
     },
     "execution_count": 11,
     "metadata": {},
     "output_type": "execute_result"
    }
   ],
   "source": [
    "nfl.Pos.astype('category').cat.categories"
   ]
  },
  {
   "cell_type": "markdown",
   "metadata": {},
   "source": [
    "### Filtering to only be Quarterbacks"
   ]
  },
  {
   "cell_type": "code",
   "execution_count": 12,
   "metadata": {},
   "outputs": [],
   "source": [
    "def qb_fix(data):\n",
    "    if data.Pos == 'QB/WR' or data.Pos == 'qb' or data.Pos == 'qb/wr' or data.Pos == 'QB':\n",
    "        return 'QB'"
   ]
  },
  {
   "cell_type": "code",
   "execution_count": 13,
   "metadata": {},
   "outputs": [],
   "source": [
    "nfl.Pos = nfl.apply(qb_fix, axis = 1)"
   ]
  },
  {
   "cell_type": "code",
   "execution_count": 14,
   "metadata": {},
   "outputs": [],
   "source": [
    "qb = nfl[nfl.Pos == 'QB']"
   ]
  },
  {
   "cell_type": "markdown",
   "metadata": {},
   "source": [
    "### Adding Conference and Division Variable"
   ]
  },
  {
   "cell_type": "code",
   "execution_count": 15,
   "metadata": {},
   "outputs": [],
   "source": [
    "conference = {'AFC' : ['NWE', 'BUF', 'NYJ', 'MIA', 'KAN', 'LAC', 'SDG', 'DEN', 'OAK', \n",
    "                       'PIT', 'BAL', 'CIN' 'CLE', 'HOU', 'IND', 'TEN', 'JAX'],\n",
    "              'NFC' : ['DAL', 'PHI', 'WAS', 'NYG', 'STL', 'LAR', 'SEA', 'ARI', 'SFO', \n",
    "                       'CHI', 'MIN', 'GNB', 'DET', 'NOR', 'CAR', 'TAM', 'ATL'],\n",
    "              'Other' : ['3TM', '2TM']}\n",
    "\n",
    "division = {'AFC East' : ['NWE', 'BUF', 'NYJ', 'MIA'],\n",
    "           'AFC West' : ['KAN', 'LAC', 'SDG', 'DEN', 'OAK'],\n",
    "           'AFC North' : ['PIT', 'BAL', 'CIN', 'CLE'],\n",
    "           'AFC South' : ['HOU', 'IND', 'TEN', 'JAX'],\n",
    "           'NFC East' : ['DAL', 'PHI', 'WAS', 'NYG'],\n",
    "           'NFC West' : ['STL', 'LAR', 'SEA', 'ARI', 'SFO'],\n",
    "           'NFC North' : ['CHI', 'MIN', 'GNB', 'DET'],\n",
    "           'NFC South' : ['NOR', 'CAR', 'TAM', 'ATL'],\n",
    "           'Other' : ['3TM', '2TM']}"
   ]
  },
  {
   "cell_type": "code",
   "execution_count": 16,
   "metadata": {},
   "outputs": [],
   "source": [
    "def division_set(data):\n",
    "    if data.Tm in conference['AFC']:\n",
    "        if data.Tm in division['AFC East']:\n",
    "            return 'AFC East'\n",
    "        elif data.Tm in division['AFC West']:\n",
    "            return 'AFC West'\n",
    "        elif data.Tm in division['AFC North']:\n",
    "            return 'AFC North'\n",
    "        elif data.Tm in division['AFC South']:\n",
    "            return 'AFC South'\n",
    "        \n",
    "    elif data.Tm in conference['NFC']:\n",
    "        if data.Tm in division['NFC East']:\n",
    "            return 'NFC East'\n",
    "        elif data.Tm in division['NFC West']:\n",
    "            return 'NFC West'\n",
    "        elif data.Tm in division['NFC North']:\n",
    "            return 'NFC North'\n",
    "        elif data.Tm in division['NFC South']:\n",
    "            return 'NFC South'\n",
    "    else:\n",
    "        return 'Other'"
   ]
  },
  {
   "cell_type": "code",
   "execution_count": 17,
   "metadata": {
    "scrolled": true
   },
   "outputs": [],
   "source": [
    "qb['Division'] = qb.apply(division_set, axis = 1)"
   ]
  },
  {
   "cell_type": "code",
   "execution_count": 18,
   "metadata": {
    "scrolled": false
   },
   "outputs": [],
   "source": [
    "qb['Conference'] = qb.Division.str[0:3]"
   ]
  },
  {
   "cell_type": "markdown",
   "metadata": {},
   "source": [
    "### Creating Wins, Losses, and Win Percentage"
   ]
  },
  {
   "cell_type": "code",
   "execution_count": 19,
   "metadata": {},
   "outputs": [],
   "source": [
    "def win_loss(data, i):\n",
    "    return int(data.QBrec.rsplit('-')[i])"
   ]
  },
  {
   "cell_type": "code",
   "execution_count": 20,
   "metadata": {},
   "outputs": [],
   "source": [
    "qb['wins'] = qb.apply(win_loss, i = 0, axis = 1)\n",
    "qb['losses'] = qb.apply(win_loss, i = 1, axis = 1)\n",
    "qb['ties'] = qb.apply(win_loss, i = 2, axis = 1)"
   ]
  },
  {
   "cell_type": "code",
   "execution_count": 21,
   "metadata": {},
   "outputs": [],
   "source": [
    "qb['win%'] = (qb.wins/(qb.wins + qb.losses + qb.ties))*100"
   ]
  },
  {
   "cell_type": "markdown",
   "metadata": {},
   "source": [
    "### Correcting the variable types"
   ]
  },
  {
   "cell_type": "code",
   "execution_count": 22,
   "metadata": {},
   "outputs": [
    {
     "data": {
      "text/plain": [
       "Index(['0-1-0', '0-1-1', '0-15-0', '0-2-0', '0-3-0', '0-4-0', '0-5-0', '0-6-0',\n",
       "       '0-7-0', '0-8-0', '1-0-0', '1-1-0', '1-10-0', '1-2-0', '1-3-0', '1-4-0',\n",
       "       '1-5-0', '1-6-0', '1-7-0', '10-3-0', '10-4-0', '10-5-1', '10-6-0',\n",
       "       '11-1-0', '11-2-0', '11-3-0', '11-4-0', '11-5-0', '12-3-0', '12-4-0',\n",
       "       '13-3-0', '15-1-0', '2-0-0', '2-1-0', '2-2-0', '2-3-0', '2-4-0',\n",
       "       '2-5-0', '2-6-0', '2-6-1', '3-0-0', '3-1-0', '3-10-0', '3-12-0',\n",
       "       '3-13-0', '3-2-0', '3-3-0', '3-4-0', '3-5-0', '3-6-0', '3-7-0', '3-8-0',\n",
       "       '3-9-0', '4-11-0', '4-12-0', '4-3-0', '4-4-0', '4-5-0', '4-6-0',\n",
       "       '4-7-0', '4-8-0', '4-9-0', '5-0-0', '5-10-0', '5-11-0', '5-2-0',\n",
       "       '5-3-0', '5-4-0', '5-5-0', '5-6-0', '5-8-0', '5-8-1', '6-0-0', '6-10-0',\n",
       "       '6-2-0', '6-3-0', '6-6-0', '6-8-0', '6-8-1', '6-9-0', '6-9-1', '7-2-0',\n",
       "       '7-4-0', '7-5-0', '7-6-0', '7-7-0', '7-8-0', '7-9-0', '8-2-0', '8-5-0',\n",
       "       '8-6-0', '8-7-0', '8-7-1', '8-8-0', '9-6-0', '9-7-0'],\n",
       "      dtype='object')"
      ]
     },
     "execution_count": 22,
     "metadata": {},
     "output_type": "execute_result"
    }
   ],
   "source": [
    "qb.QBrec.astype('category').cat.categories"
   ]
  },
  {
   "cell_type": "code",
   "execution_count": 23,
   "metadata": {},
   "outputs": [],
   "source": [
    "object_types = ['Rushing Att', 'Rushing Yds', 'Rushing TD']\n",
    "\n",
    "for i in object_types:\n",
    "    qb[i] = qb[i].astype('float64') "
   ]
  },
  {
   "cell_type": "code",
   "execution_count": 24,
   "metadata": {},
   "outputs": [
    {
     "data": {
      "text/html": [
       "<div>\n",
       "<style scoped>\n",
       "    .dataframe tbody tr th:only-of-type {\n",
       "        vertical-align: middle;\n",
       "    }\n",
       "\n",
       "    .dataframe tbody tr th {\n",
       "        vertical-align: top;\n",
       "    }\n",
       "\n",
       "    .dataframe thead th {\n",
       "        text-align: right;\n",
       "    }\n",
       "</style>\n",
       "<table border=\"1\" class=\"dataframe\">\n",
       "  <thead>\n",
       "    <tr style=\"text-align: right;\">\n",
       "      <th></th>\n",
       "      <th></th>\n",
       "      <th>Rk</th>\n",
       "      <th>Tm</th>\n",
       "      <th>Age</th>\n",
       "      <th>Pos</th>\n",
       "      <th>G</th>\n",
       "      <th>GS</th>\n",
       "      <th>QBrec</th>\n",
       "      <th>Cmp</th>\n",
       "      <th>Att</th>\n",
       "      <th>Cmp%</th>\n",
       "      <th>...</th>\n",
       "      <th>Pro_Bowl</th>\n",
       "      <th>Rushing Att</th>\n",
       "      <th>Rushing Yds</th>\n",
       "      <th>Rushing TD</th>\n",
       "      <th>Division</th>\n",
       "      <th>Conference</th>\n",
       "      <th>wins</th>\n",
       "      <th>losses</th>\n",
       "      <th>ties</th>\n",
       "      <th>win%</th>\n",
       "    </tr>\n",
       "    <tr>\n",
       "      <th>Year</th>\n",
       "      <th>Player</th>\n",
       "      <th></th>\n",
       "      <th></th>\n",
       "      <th></th>\n",
       "      <th></th>\n",
       "      <th></th>\n",
       "      <th></th>\n",
       "      <th></th>\n",
       "      <th></th>\n",
       "      <th></th>\n",
       "      <th></th>\n",
       "      <th></th>\n",
       "      <th></th>\n",
       "      <th></th>\n",
       "      <th></th>\n",
       "      <th></th>\n",
       "      <th></th>\n",
       "      <th></th>\n",
       "      <th></th>\n",
       "      <th></th>\n",
       "      <th></th>\n",
       "      <th></th>\n",
       "    </tr>\n",
       "  </thead>\n",
       "  <tbody>\n",
       "    <tr>\n",
       "      <th rowspan=\"5\" valign=\"top\">2013</th>\n",
       "      <th>Peyton Manning</th>\n",
       "      <td>1</td>\n",
       "      <td>DEN</td>\n",
       "      <td>37</td>\n",
       "      <td>QB</td>\n",
       "      <td>16</td>\n",
       "      <td>16</td>\n",
       "      <td>13-3-0</td>\n",
       "      <td>450</td>\n",
       "      <td>659</td>\n",
       "      <td>68.3</td>\n",
       "      <td>...</td>\n",
       "      <td>1</td>\n",
       "      <td>32.0</td>\n",
       "      <td>-31.0</td>\n",
       "      <td>1.0</td>\n",
       "      <td>AFC West</td>\n",
       "      <td>AFC</td>\n",
       "      <td>13</td>\n",
       "      <td>3</td>\n",
       "      <td>0</td>\n",
       "      <td>81.25</td>\n",
       "    </tr>\n",
       "    <tr>\n",
       "      <th>Matt Ryan</th>\n",
       "      <td>2</td>\n",
       "      <td>ATL</td>\n",
       "      <td>28</td>\n",
       "      <td>QB</td>\n",
       "      <td>16</td>\n",
       "      <td>16</td>\n",
       "      <td>4-12-0</td>\n",
       "      <td>439</td>\n",
       "      <td>651</td>\n",
       "      <td>67.4</td>\n",
       "      <td>...</td>\n",
       "      <td>0</td>\n",
       "      <td>17.0</td>\n",
       "      <td>55.0</td>\n",
       "      <td>0.0</td>\n",
       "      <td>NFC South</td>\n",
       "      <td>NFC</td>\n",
       "      <td>4</td>\n",
       "      <td>12</td>\n",
       "      <td>0</td>\n",
       "      <td>25.00</td>\n",
       "    </tr>\n",
       "    <tr>\n",
       "      <th>Drew Brees</th>\n",
       "      <td>3</td>\n",
       "      <td>NOR</td>\n",
       "      <td>34</td>\n",
       "      <td>QB</td>\n",
       "      <td>16</td>\n",
       "      <td>16</td>\n",
       "      <td>11-5-0</td>\n",
       "      <td>446</td>\n",
       "      <td>650</td>\n",
       "      <td>68.6</td>\n",
       "      <td>...</td>\n",
       "      <td>1</td>\n",
       "      <td>35.0</td>\n",
       "      <td>52.0</td>\n",
       "      <td>3.0</td>\n",
       "      <td>NFC South</td>\n",
       "      <td>NFC</td>\n",
       "      <td>11</td>\n",
       "      <td>5</td>\n",
       "      <td>0</td>\n",
       "      <td>68.75</td>\n",
       "    </tr>\n",
       "    <tr>\n",
       "      <th>Matthew Stafford</th>\n",
       "      <td>4</td>\n",
       "      <td>DET</td>\n",
       "      <td>25</td>\n",
       "      <td>QB</td>\n",
       "      <td>16</td>\n",
       "      <td>16</td>\n",
       "      <td>7-9-0</td>\n",
       "      <td>371</td>\n",
       "      <td>634</td>\n",
       "      <td>58.5</td>\n",
       "      <td>...</td>\n",
       "      <td>0</td>\n",
       "      <td>37.0</td>\n",
       "      <td>69.0</td>\n",
       "      <td>2.0</td>\n",
       "      <td>NFC North</td>\n",
       "      <td>NFC</td>\n",
       "      <td>7</td>\n",
       "      <td>9</td>\n",
       "      <td>0</td>\n",
       "      <td>43.75</td>\n",
       "    </tr>\n",
       "    <tr>\n",
       "      <th>Tom Brady</th>\n",
       "      <td>5</td>\n",
       "      <td>NWE</td>\n",
       "      <td>36</td>\n",
       "      <td>QB</td>\n",
       "      <td>16</td>\n",
       "      <td>16</td>\n",
       "      <td>12-4-0</td>\n",
       "      <td>380</td>\n",
       "      <td>628</td>\n",
       "      <td>60.5</td>\n",
       "      <td>...</td>\n",
       "      <td>1</td>\n",
       "      <td>32.0</td>\n",
       "      <td>18.0</td>\n",
       "      <td>0.0</td>\n",
       "      <td>AFC East</td>\n",
       "      <td>AFC</td>\n",
       "      <td>12</td>\n",
       "      <td>4</td>\n",
       "      <td>0</td>\n",
       "      <td>75.00</td>\n",
       "    </tr>\n",
       "  </tbody>\n",
       "</table>\n",
       "<p>5 rows × 39 columns</p>\n",
       "</div>"
      ],
      "text/plain": [
       "                       Rk   Tm  Age Pos   G  GS   QBrec  Cmp  Att  Cmp%  \\\n",
       "Year Player                                                               \n",
       "2013 Peyton Manning     1  DEN   37  QB  16  16  13-3-0  450  659  68.3   \n",
       "     Matt Ryan          2  ATL   28  QB  16  16  4-12-0  439  651  67.4   \n",
       "     Drew Brees         3  NOR   34  QB  16  16  11-5-0  446  650  68.6   \n",
       "     Matthew Stafford   4  DET   25  QB  16  16   7-9-0  371  634  58.5   \n",
       "     Tom Brady          5  NWE   36  QB  16  16  12-4-0  380  628  60.5   \n",
       "\n",
       "                       ...    Pro_Bowl  Rushing Att  Rushing Yds  Rushing TD  \\\n",
       "Year Player            ...                                                     \n",
       "2013 Peyton Manning    ...           1         32.0        -31.0         1.0   \n",
       "     Matt Ryan         ...           0         17.0         55.0         0.0   \n",
       "     Drew Brees        ...           1         35.0         52.0         3.0   \n",
       "     Matthew Stafford  ...           0         37.0         69.0         2.0   \n",
       "     Tom Brady         ...           1         32.0         18.0         0.0   \n",
       "\n",
       "                        Division  Conference  wins  losses  ties   win%  \n",
       "Year Player                                                              \n",
       "2013 Peyton Manning     AFC West         AFC    13       3     0  81.25  \n",
       "     Matt Ryan         NFC South         NFC     4      12     0  25.00  \n",
       "     Drew Brees        NFC South         NFC    11       5     0  68.75  \n",
       "     Matthew Stafford  NFC North         NFC     7       9     0  43.75  \n",
       "     Tom Brady          AFC East         AFC    12       4     0  75.00  \n",
       "\n",
       "[5 rows x 39 columns]"
      ]
     },
     "execution_count": 24,
     "metadata": {},
     "output_type": "execute_result"
    }
   ],
   "source": [
    "qb.head()"
   ]
  },
  {
   "cell_type": "code",
   "execution_count": 25,
   "metadata": {
    "scrolled": false
   },
   "outputs": [
    {
     "name": "stdout",
     "output_type": "stream",
     "text": [
      "<class 'pandas.core.frame.DataFrame'>\n",
      "MultiIndex: 258 entries, (2013, Peyton Manning) to (2017, Scott Tolzien)\n",
      "Data columns (total 39 columns):\n",
      "Rk             258 non-null int64\n",
      "Tm             258 non-null object\n",
      "Age            258 non-null int64\n",
      "Pos            258 non-null object\n",
      "G              258 non-null int64\n",
      "GS             258 non-null int64\n",
      "QBrec          258 non-null object\n",
      "Cmp            258 non-null int64\n",
      "Att            258 non-null int64\n",
      "Cmp%           258 non-null float64\n",
      "Yds            258 non-null int64\n",
      "TD             258 non-null int64\n",
      "TD%            258 non-null float64\n",
      "Int            258 non-null int64\n",
      "Int%           258 non-null float64\n",
      "Lng            258 non-null int64\n",
      "Y/A            258 non-null float64\n",
      "AY/A           258 non-null float64\n",
      "Y/C            258 non-null float64\n",
      "Y/G            258 non-null float64\n",
      "Rate           258 non-null float64\n",
      "QBR            257 non-null float64\n",
      "Sk             258 non-null int64\n",
      "Yds2           258 non-null int64\n",
      "NY/A           258 non-null float64\n",
      "ANY/A          258 non-null float64\n",
      "Sk%            258 non-null float64\n",
      "4QC            177 non-null float64\n",
      "GWD            177 non-null float64\n",
      "Pro_Bowl       258 non-null int64\n",
      "Rushing Att    255 non-null float64\n",
      "Rushing Yds    255 non-null float64\n",
      "Rushing TD     255 non-null float64\n",
      "Division       258 non-null object\n",
      "Conference     258 non-null object\n",
      "wins           258 non-null int64\n",
      "losses         258 non-null int64\n",
      "ties           258 non-null int64\n",
      "win%           258 non-null float64\n",
      "dtypes: float64(18), int64(16), object(5)\n",
      "memory usage: 81.1+ KB\n"
     ]
    }
   ],
   "source": [
    "qb.info()"
   ]
  },
  {
   "cell_type": "code",
   "execution_count": 26,
   "metadata": {
    "scrolled": false
   },
   "outputs": [],
   "source": [
    "qb.fillna(0, inplace = True)"
   ]
  },
  {
   "cell_type": "code",
   "execution_count": 27,
   "metadata": {},
   "outputs": [],
   "source": [
    "qb_ready = qb.drop(['Rk', 'Tm', 'Pos', 'QBrec'], axis = 1)"
   ]
  },
  {
   "cell_type": "code",
   "execution_count": 28,
   "metadata": {
    "scrolled": true
   },
   "outputs": [
    {
     "data": {
      "text/html": [
       "<div>\n",
       "<style scoped>\n",
       "    .dataframe tbody tr th:only-of-type {\n",
       "        vertical-align: middle;\n",
       "    }\n",
       "\n",
       "    .dataframe tbody tr th {\n",
       "        vertical-align: top;\n",
       "    }\n",
       "\n",
       "    .dataframe thead th {\n",
       "        text-align: right;\n",
       "    }\n",
       "</style>\n",
       "<table border=\"1\" class=\"dataframe\">\n",
       "  <thead>\n",
       "    <tr style=\"text-align: right;\">\n",
       "      <th></th>\n",
       "      <th></th>\n",
       "      <th>Age</th>\n",
       "      <th>G</th>\n",
       "      <th>GS</th>\n",
       "      <th>Cmp</th>\n",
       "      <th>Att</th>\n",
       "      <th>Cmp%</th>\n",
       "      <th>Yds</th>\n",
       "      <th>TD</th>\n",
       "      <th>TD%</th>\n",
       "      <th>Int</th>\n",
       "      <th>...</th>\n",
       "      <th>Pro_Bowl</th>\n",
       "      <th>Rushing Att</th>\n",
       "      <th>Rushing Yds</th>\n",
       "      <th>Rushing TD</th>\n",
       "      <th>Division</th>\n",
       "      <th>Conference</th>\n",
       "      <th>wins</th>\n",
       "      <th>losses</th>\n",
       "      <th>ties</th>\n",
       "      <th>win%</th>\n",
       "    </tr>\n",
       "    <tr>\n",
       "      <th>Year</th>\n",
       "      <th>Player</th>\n",
       "      <th></th>\n",
       "      <th></th>\n",
       "      <th></th>\n",
       "      <th></th>\n",
       "      <th></th>\n",
       "      <th></th>\n",
       "      <th></th>\n",
       "      <th></th>\n",
       "      <th></th>\n",
       "      <th></th>\n",
       "      <th></th>\n",
       "      <th></th>\n",
       "      <th></th>\n",
       "      <th></th>\n",
       "      <th></th>\n",
       "      <th></th>\n",
       "      <th></th>\n",
       "      <th></th>\n",
       "      <th></th>\n",
       "      <th></th>\n",
       "      <th></th>\n",
       "    </tr>\n",
       "  </thead>\n",
       "  <tbody>\n",
       "    <tr>\n",
       "      <th rowspan=\"10\" valign=\"top\">2013</th>\n",
       "      <th>Peyton Manning</th>\n",
       "      <td>37</td>\n",
       "      <td>16</td>\n",
       "      <td>16</td>\n",
       "      <td>450</td>\n",
       "      <td>659</td>\n",
       "      <td>68.3</td>\n",
       "      <td>5477</td>\n",
       "      <td>55</td>\n",
       "      <td>8.3</td>\n",
       "      <td>10</td>\n",
       "      <td>...</td>\n",
       "      <td>1</td>\n",
       "      <td>32.0</td>\n",
       "      <td>-31.0</td>\n",
       "      <td>1.0</td>\n",
       "      <td>AFC West</td>\n",
       "      <td>AFC</td>\n",
       "      <td>13</td>\n",
       "      <td>3</td>\n",
       "      <td>0</td>\n",
       "      <td>81.25</td>\n",
       "    </tr>\n",
       "    <tr>\n",
       "      <th>Matt Ryan</th>\n",
       "      <td>28</td>\n",
       "      <td>16</td>\n",
       "      <td>16</td>\n",
       "      <td>439</td>\n",
       "      <td>651</td>\n",
       "      <td>67.4</td>\n",
       "      <td>4515</td>\n",
       "      <td>26</td>\n",
       "      <td>4.0</td>\n",
       "      <td>17</td>\n",
       "      <td>...</td>\n",
       "      <td>0</td>\n",
       "      <td>17.0</td>\n",
       "      <td>55.0</td>\n",
       "      <td>0.0</td>\n",
       "      <td>NFC South</td>\n",
       "      <td>NFC</td>\n",
       "      <td>4</td>\n",
       "      <td>12</td>\n",
       "      <td>0</td>\n",
       "      <td>25.00</td>\n",
       "    </tr>\n",
       "    <tr>\n",
       "      <th>Drew Brees</th>\n",
       "      <td>34</td>\n",
       "      <td>16</td>\n",
       "      <td>16</td>\n",
       "      <td>446</td>\n",
       "      <td>650</td>\n",
       "      <td>68.6</td>\n",
       "      <td>5162</td>\n",
       "      <td>39</td>\n",
       "      <td>6.0</td>\n",
       "      <td>12</td>\n",
       "      <td>...</td>\n",
       "      <td>1</td>\n",
       "      <td>35.0</td>\n",
       "      <td>52.0</td>\n",
       "      <td>3.0</td>\n",
       "      <td>NFC South</td>\n",
       "      <td>NFC</td>\n",
       "      <td>11</td>\n",
       "      <td>5</td>\n",
       "      <td>0</td>\n",
       "      <td>68.75</td>\n",
       "    </tr>\n",
       "    <tr>\n",
       "      <th>Matthew Stafford</th>\n",
       "      <td>25</td>\n",
       "      <td>16</td>\n",
       "      <td>16</td>\n",
       "      <td>371</td>\n",
       "      <td>634</td>\n",
       "      <td>58.5</td>\n",
       "      <td>4650</td>\n",
       "      <td>29</td>\n",
       "      <td>4.6</td>\n",
       "      <td>19</td>\n",
       "      <td>...</td>\n",
       "      <td>0</td>\n",
       "      <td>37.0</td>\n",
       "      <td>69.0</td>\n",
       "      <td>2.0</td>\n",
       "      <td>NFC North</td>\n",
       "      <td>NFC</td>\n",
       "      <td>7</td>\n",
       "      <td>9</td>\n",
       "      <td>0</td>\n",
       "      <td>43.75</td>\n",
       "    </tr>\n",
       "    <tr>\n",
       "      <th>Tom Brady</th>\n",
       "      <td>36</td>\n",
       "      <td>16</td>\n",
       "      <td>16</td>\n",
       "      <td>380</td>\n",
       "      <td>628</td>\n",
       "      <td>60.5</td>\n",
       "      <td>4343</td>\n",
       "      <td>25</td>\n",
       "      <td>4.0</td>\n",
       "      <td>11</td>\n",
       "      <td>...</td>\n",
       "      <td>1</td>\n",
       "      <td>32.0</td>\n",
       "      <td>18.0</td>\n",
       "      <td>0.0</td>\n",
       "      <td>AFC East</td>\n",
       "      <td>AFC</td>\n",
       "      <td>12</td>\n",
       "      <td>4</td>\n",
       "      <td>0</td>\n",
       "      <td>75.00</td>\n",
       "    </tr>\n",
       "    <tr>\n",
       "      <th>Joe Flacco</th>\n",
       "      <td>28</td>\n",
       "      <td>16</td>\n",
       "      <td>16</td>\n",
       "      <td>362</td>\n",
       "      <td>614</td>\n",
       "      <td>59.0</td>\n",
       "      <td>3912</td>\n",
       "      <td>19</td>\n",
       "      <td>3.1</td>\n",
       "      <td>22</td>\n",
       "      <td>...</td>\n",
       "      <td>0</td>\n",
       "      <td>27.0</td>\n",
       "      <td>131.0</td>\n",
       "      <td>1.0</td>\n",
       "      <td>AFC North</td>\n",
       "      <td>AFC</td>\n",
       "      <td>8</td>\n",
       "      <td>8</td>\n",
       "      <td>0</td>\n",
       "      <td>50.00</td>\n",
       "    </tr>\n",
       "    <tr>\n",
       "      <th>Ryan Tannehill</th>\n",
       "      <td>25</td>\n",
       "      <td>16</td>\n",
       "      <td>16</td>\n",
       "      <td>355</td>\n",
       "      <td>588</td>\n",
       "      <td>60.4</td>\n",
       "      <td>3913</td>\n",
       "      <td>24</td>\n",
       "      <td>4.1</td>\n",
       "      <td>17</td>\n",
       "      <td>...</td>\n",
       "      <td>0</td>\n",
       "      <td>40.0</td>\n",
       "      <td>238.0</td>\n",
       "      <td>1.0</td>\n",
       "      <td>AFC East</td>\n",
       "      <td>AFC</td>\n",
       "      <td>8</td>\n",
       "      <td>8</td>\n",
       "      <td>0</td>\n",
       "      <td>50.00</td>\n",
       "    </tr>\n",
       "    <tr>\n",
       "      <th>Andy Dalton</th>\n",
       "      <td>26</td>\n",
       "      <td>16</td>\n",
       "      <td>16</td>\n",
       "      <td>363</td>\n",
       "      <td>586</td>\n",
       "      <td>61.9</td>\n",
       "      <td>4293</td>\n",
       "      <td>33</td>\n",
       "      <td>5.6</td>\n",
       "      <td>20</td>\n",
       "      <td>...</td>\n",
       "      <td>0</td>\n",
       "      <td>61.0</td>\n",
       "      <td>183.0</td>\n",
       "      <td>2.0</td>\n",
       "      <td>Other</td>\n",
       "      <td>Oth</td>\n",
       "      <td>11</td>\n",
       "      <td>5</td>\n",
       "      <td>0</td>\n",
       "      <td>68.75</td>\n",
       "    </tr>\n",
       "    <tr>\n",
       "      <th>Ben Roethlisberger</th>\n",
       "      <td>31</td>\n",
       "      <td>16</td>\n",
       "      <td>16</td>\n",
       "      <td>375</td>\n",
       "      <td>584</td>\n",
       "      <td>64.2</td>\n",
       "      <td>4261</td>\n",
       "      <td>28</td>\n",
       "      <td>4.8</td>\n",
       "      <td>14</td>\n",
       "      <td>...</td>\n",
       "      <td>0</td>\n",
       "      <td>27.0</td>\n",
       "      <td>99.0</td>\n",
       "      <td>1.0</td>\n",
       "      <td>AFC North</td>\n",
       "      <td>AFC</td>\n",
       "      <td>8</td>\n",
       "      <td>8</td>\n",
       "      <td>0</td>\n",
       "      <td>50.00</td>\n",
       "    </tr>\n",
       "    <tr>\n",
       "      <th>Carson Palmer</th>\n",
       "      <td>34</td>\n",
       "      <td>16</td>\n",
       "      <td>16</td>\n",
       "      <td>362</td>\n",
       "      <td>572</td>\n",
       "      <td>63.3</td>\n",
       "      <td>4274</td>\n",
       "      <td>24</td>\n",
       "      <td>4.2</td>\n",
       "      <td>22</td>\n",
       "      <td>...</td>\n",
       "      <td>0</td>\n",
       "      <td>27.0</td>\n",
       "      <td>3.0</td>\n",
       "      <td>0.0</td>\n",
       "      <td>NFC West</td>\n",
       "      <td>NFC</td>\n",
       "      <td>10</td>\n",
       "      <td>6</td>\n",
       "      <td>0</td>\n",
       "      <td>62.50</td>\n",
       "    </tr>\n",
       "  </tbody>\n",
       "</table>\n",
       "<p>10 rows × 35 columns</p>\n",
       "</div>"
      ],
      "text/plain": [
       "                         Age   G  GS  Cmp  Att  Cmp%   Yds  TD  TD%  Int  \\\n",
       "Year Player                                                                \n",
       "2013 Peyton Manning       37  16  16  450  659  68.3  5477  55  8.3   10   \n",
       "     Matt Ryan            28  16  16  439  651  67.4  4515  26  4.0   17   \n",
       "     Drew Brees           34  16  16  446  650  68.6  5162  39  6.0   12   \n",
       "     Matthew Stafford     25  16  16  371  634  58.5  4650  29  4.6   19   \n",
       "     Tom Brady            36  16  16  380  628  60.5  4343  25  4.0   11   \n",
       "     Joe Flacco           28  16  16  362  614  59.0  3912  19  3.1   22   \n",
       "     Ryan Tannehill       25  16  16  355  588  60.4  3913  24  4.1   17   \n",
       "     Andy Dalton          26  16  16  363  586  61.9  4293  33  5.6   20   \n",
       "     Ben Roethlisberger   31  16  16  375  584  64.2  4261  28  4.8   14   \n",
       "     Carson Palmer        34  16  16  362  572  63.3  4274  24  4.2   22   \n",
       "\n",
       "                         ...    Pro_Bowl  Rushing Att  Rushing Yds  \\\n",
       "Year Player              ...                                         \n",
       "2013 Peyton Manning      ...           1         32.0        -31.0   \n",
       "     Matt Ryan           ...           0         17.0         55.0   \n",
       "     Drew Brees          ...           1         35.0         52.0   \n",
       "     Matthew Stafford    ...           0         37.0         69.0   \n",
       "     Tom Brady           ...           1         32.0         18.0   \n",
       "     Joe Flacco          ...           0         27.0        131.0   \n",
       "     Ryan Tannehill      ...           0         40.0        238.0   \n",
       "     Andy Dalton         ...           0         61.0        183.0   \n",
       "     Ben Roethlisberger  ...           0         27.0         99.0   \n",
       "     Carson Palmer       ...           0         27.0          3.0   \n",
       "\n",
       "                         Rushing TD   Division  Conference  wins  losses  \\\n",
       "Year Player                                                                \n",
       "2013 Peyton Manning             1.0   AFC West         AFC    13       3   \n",
       "     Matt Ryan                  0.0  NFC South         NFC     4      12   \n",
       "     Drew Brees                 3.0  NFC South         NFC    11       5   \n",
       "     Matthew Stafford           2.0  NFC North         NFC     7       9   \n",
       "     Tom Brady                  0.0   AFC East         AFC    12       4   \n",
       "     Joe Flacco                 1.0  AFC North         AFC     8       8   \n",
       "     Ryan Tannehill             1.0   AFC East         AFC     8       8   \n",
       "     Andy Dalton                2.0      Other         Oth    11       5   \n",
       "     Ben Roethlisberger         1.0  AFC North         AFC     8       8   \n",
       "     Carson Palmer              0.0   NFC West         NFC    10       6   \n",
       "\n",
       "                         ties   win%  \n",
       "Year Player                           \n",
       "2013 Peyton Manning         0  81.25  \n",
       "     Matt Ryan              0  25.00  \n",
       "     Drew Brees             0  68.75  \n",
       "     Matthew Stafford       0  43.75  \n",
       "     Tom Brady              0  75.00  \n",
       "     Joe Flacco             0  50.00  \n",
       "     Ryan Tannehill         0  50.00  \n",
       "     Andy Dalton            0  68.75  \n",
       "     Ben Roethlisberger     0  50.00  \n",
       "     Carson Palmer          0  62.50  \n",
       "\n",
       "[10 rows x 35 columns]"
      ]
     },
     "execution_count": 28,
     "metadata": {},
     "output_type": "execute_result"
    }
   ],
   "source": [
    "qb_ready.head(10)"
   ]
  },
  {
   "cell_type": "markdown",
   "metadata": {},
   "source": [
    "## Exploratory Data Analysis"
   ]
  },
  {
   "cell_type": "code",
   "execution_count": 29,
   "metadata": {
    "scrolled": false
   },
   "outputs": [
    {
     "name": "stdout",
     "output_type": "stream",
     "text": [
      "<class 'pandas.core.frame.DataFrame'>\n",
      "MultiIndex: 258 entries, (2013, Peyton Manning) to (2017, Scott Tolzien)\n",
      "Data columns (total 35 columns):\n",
      "Age            258 non-null int64\n",
      "G              258 non-null int64\n",
      "GS             258 non-null int64\n",
      "Cmp            258 non-null int64\n",
      "Att            258 non-null int64\n",
      "Cmp%           258 non-null float64\n",
      "Yds            258 non-null int64\n",
      "TD             258 non-null int64\n",
      "TD%            258 non-null float64\n",
      "Int            258 non-null int64\n",
      "Int%           258 non-null float64\n",
      "Lng            258 non-null int64\n",
      "Y/A            258 non-null float64\n",
      "AY/A           258 non-null float64\n",
      "Y/C            258 non-null float64\n",
      "Y/G            258 non-null float64\n",
      "Rate           258 non-null float64\n",
      "QBR            258 non-null float64\n",
      "Sk             258 non-null int64\n",
      "Yds2           258 non-null int64\n",
      "NY/A           258 non-null float64\n",
      "ANY/A          258 non-null float64\n",
      "Sk%            258 non-null float64\n",
      "4QC            258 non-null float64\n",
      "GWD            258 non-null float64\n",
      "Pro_Bowl       258 non-null int64\n",
      "Rushing Att    258 non-null float64\n",
      "Rushing Yds    258 non-null float64\n",
      "Rushing TD     258 non-null float64\n",
      "Division       258 non-null object\n",
      "Conference     258 non-null object\n",
      "wins           258 non-null int64\n",
      "losses         258 non-null int64\n",
      "ties           258 non-null int64\n",
      "win%           258 non-null float64\n",
      "dtypes: float64(18), int64(15), object(2)\n",
      "memory usage: 73.1+ KB\n"
     ]
    }
   ],
   "source": [
    "qb_ready.info()"
   ]
  },
  {
   "cell_type": "code",
   "execution_count": 30,
   "metadata": {},
   "outputs": [
    {
     "data": {
      "text/html": [
       "<div>\n",
       "<style scoped>\n",
       "    .dataframe tbody tr th:only-of-type {\n",
       "        vertical-align: middle;\n",
       "    }\n",
       "\n",
       "    .dataframe tbody tr th {\n",
       "        vertical-align: top;\n",
       "    }\n",
       "\n",
       "    .dataframe thead th {\n",
       "        text-align: right;\n",
       "    }\n",
       "</style>\n",
       "<table border=\"1\" class=\"dataframe\">\n",
       "  <thead>\n",
       "    <tr style=\"text-align: right;\">\n",
       "      <th></th>\n",
       "      <th>Age</th>\n",
       "      <th>G</th>\n",
       "      <th>GS</th>\n",
       "      <th>Cmp</th>\n",
       "      <th>Att</th>\n",
       "      <th>Cmp%</th>\n",
       "      <th>Yds</th>\n",
       "      <th>TD</th>\n",
       "      <th>TD%</th>\n",
       "      <th>Int</th>\n",
       "      <th>...</th>\n",
       "      <th>4QC</th>\n",
       "      <th>GWD</th>\n",
       "      <th>Pro_Bowl</th>\n",
       "      <th>Rushing Att</th>\n",
       "      <th>Rushing Yds</th>\n",
       "      <th>Rushing TD</th>\n",
       "      <th>wins</th>\n",
       "      <th>losses</th>\n",
       "      <th>ties</th>\n",
       "      <th>win%</th>\n",
       "    </tr>\n",
       "  </thead>\n",
       "  <tbody>\n",
       "    <tr>\n",
       "      <th>count</th>\n",
       "      <td>156.000000</td>\n",
       "      <td>156.000000</td>\n",
       "      <td>156.000000</td>\n",
       "      <td>156.000000</td>\n",
       "      <td>156.000000</td>\n",
       "      <td>156.000000</td>\n",
       "      <td>156.000000</td>\n",
       "      <td>156.000000</td>\n",
       "      <td>156.000000</td>\n",
       "      <td>156.000000</td>\n",
       "      <td>...</td>\n",
       "      <td>156.000000</td>\n",
       "      <td>156.000000</td>\n",
       "      <td>156.000000</td>\n",
       "      <td>156.000000</td>\n",
       "      <td>156.000000</td>\n",
       "      <td>156.000000</td>\n",
       "      <td>156.000000</td>\n",
       "      <td>156.000000</td>\n",
       "      <td>156.000000</td>\n",
       "      <td>156.000000</td>\n",
       "    </tr>\n",
       "    <tr>\n",
       "      <th>mean</th>\n",
       "      <td>29.102564</td>\n",
       "      <td>14.224359</td>\n",
       "      <td>13.961538</td>\n",
       "      <td>304.583333</td>\n",
       "      <td>483.275641</td>\n",
       "      <td>62.742949</td>\n",
       "      <td>3498.217949</td>\n",
       "      <td>22.083333</td>\n",
       "      <td>4.476923</td>\n",
       "      <td>11.378205</td>\n",
       "      <td>...</td>\n",
       "      <td>1.788462</td>\n",
       "      <td>2.243590</td>\n",
       "      <td>0.314103</td>\n",
       "      <td>42.378205</td>\n",
       "      <td>181.448718</td>\n",
       "      <td>1.641026</td>\n",
       "      <td>7.326923</td>\n",
       "      <td>6.589744</td>\n",
       "      <td>0.044872</td>\n",
       "      <td>51.118749</td>\n",
       "    </tr>\n",
       "    <tr>\n",
       "      <th>std</th>\n",
       "      <td>4.693413</td>\n",
       "      <td>2.445730</td>\n",
       "      <td>2.749509</td>\n",
       "      <td>79.910269</td>\n",
       "      <td>115.685590</td>\n",
       "      <td>3.748705</td>\n",
       "      <td>919.827090</td>\n",
       "      <td>9.003195</td>\n",
       "      <td>1.293949</td>\n",
       "      <td>4.426231</td>\n",
       "      <td>...</td>\n",
       "      <td>1.367879</td>\n",
       "      <td>1.451903</td>\n",
       "      <td>0.465652</td>\n",
       "      <td>25.950410</td>\n",
       "      <td>175.422340</td>\n",
       "      <td>1.869789</td>\n",
       "      <td>3.350808</td>\n",
       "      <td>2.599930</td>\n",
       "      <td>0.207689</td>\n",
       "      <td>19.880324</td>\n",
       "    </tr>\n",
       "    <tr>\n",
       "      <th>min</th>\n",
       "      <td>21.000000</td>\n",
       "      <td>8.000000</td>\n",
       "      <td>8.000000</td>\n",
       "      <td>128.000000</td>\n",
       "      <td>195.000000</td>\n",
       "      <td>52.900000</td>\n",
       "      <td>1380.000000</td>\n",
       "      <td>6.000000</td>\n",
       "      <td>2.100000</td>\n",
       "      <td>2.000000</td>\n",
       "      <td>...</td>\n",
       "      <td>0.000000</td>\n",
       "      <td>0.000000</td>\n",
       "      <td>0.000000</td>\n",
       "      <td>5.000000</td>\n",
       "      <td>-31.000000</td>\n",
       "      <td>0.000000</td>\n",
       "      <td>0.000000</td>\n",
       "      <td>1.000000</td>\n",
       "      <td>0.000000</td>\n",
       "      <td>0.000000</td>\n",
       "    </tr>\n",
       "    <tr>\n",
       "      <th>25%</th>\n",
       "      <td>25.000000</td>\n",
       "      <td>13.000000</td>\n",
       "      <td>13.000000</td>\n",
       "      <td>255.000000</td>\n",
       "      <td>411.500000</td>\n",
       "      <td>60.175000</td>\n",
       "      <td>2904.500000</td>\n",
       "      <td>15.000000</td>\n",
       "      <td>3.500000</td>\n",
       "      <td>8.000000</td>\n",
       "      <td>...</td>\n",
       "      <td>1.000000</td>\n",
       "      <td>1.000000</td>\n",
       "      <td>0.000000</td>\n",
       "      <td>25.000000</td>\n",
       "      <td>51.750000</td>\n",
       "      <td>0.000000</td>\n",
       "      <td>5.000000</td>\n",
       "      <td>5.000000</td>\n",
       "      <td>0.000000</td>\n",
       "      <td>37.500000</td>\n",
       "    </tr>\n",
       "    <tr>\n",
       "      <th>50%</th>\n",
       "      <td>28.500000</td>\n",
       "      <td>15.000000</td>\n",
       "      <td>15.000000</td>\n",
       "      <td>311.500000</td>\n",
       "      <td>499.500000</td>\n",
       "      <td>62.950000</td>\n",
       "      <td>3550.500000</td>\n",
       "      <td>21.000000</td>\n",
       "      <td>4.300000</td>\n",
       "      <td>11.000000</td>\n",
       "      <td>...</td>\n",
       "      <td>2.000000</td>\n",
       "      <td>2.000000</td>\n",
       "      <td>0.000000</td>\n",
       "      <td>34.500000</td>\n",
       "      <td>128.500000</td>\n",
       "      <td>1.000000</td>\n",
       "      <td>7.000000</td>\n",
       "      <td>6.000000</td>\n",
       "      <td>0.000000</td>\n",
       "      <td>50.000000</td>\n",
       "    </tr>\n",
       "    <tr>\n",
       "      <th>75%</th>\n",
       "      <td>32.250000</td>\n",
       "      <td>16.000000</td>\n",
       "      <td>16.000000</td>\n",
       "      <td>363.250000</td>\n",
       "      <td>573.500000</td>\n",
       "      <td>65.300000</td>\n",
       "      <td>4234.750000</td>\n",
       "      <td>28.000000</td>\n",
       "      <td>5.325000</td>\n",
       "      <td>14.000000</td>\n",
       "      <td>...</td>\n",
       "      <td>2.250000</td>\n",
       "      <td>3.000000</td>\n",
       "      <td>1.000000</td>\n",
       "      <td>57.000000</td>\n",
       "      <td>262.250000</td>\n",
       "      <td>2.000000</td>\n",
       "      <td>10.000000</td>\n",
       "      <td>8.000000</td>\n",
       "      <td>0.000000</td>\n",
       "      <td>68.750000</td>\n",
       "    </tr>\n",
       "    <tr>\n",
       "      <th>max</th>\n",
       "      <td>40.000000</td>\n",
       "      <td>16.000000</td>\n",
       "      <td>16.000000</td>\n",
       "      <td>471.000000</td>\n",
       "      <td>673.000000</td>\n",
       "      <td>72.000000</td>\n",
       "      <td>5477.000000</td>\n",
       "      <td>55.000000</td>\n",
       "      <td>8.500000</td>\n",
       "      <td>27.000000</td>\n",
       "      <td>...</td>\n",
       "      <td>8.000000</td>\n",
       "      <td>8.000000</td>\n",
       "      <td>1.000000</td>\n",
       "      <td>139.000000</td>\n",
       "      <td>849.000000</td>\n",
       "      <td>10.000000</td>\n",
       "      <td>15.000000</td>\n",
       "      <td>15.000000</td>\n",
       "      <td>1.000000</td>\n",
       "      <td>93.750000</td>\n",
       "    </tr>\n",
       "  </tbody>\n",
       "</table>\n",
       "<p>8 rows × 33 columns</p>\n",
       "</div>"
      ],
      "text/plain": [
       "              Age           G          GS         Cmp         Att        Cmp%  \\\n",
       "count  156.000000  156.000000  156.000000  156.000000  156.000000  156.000000   \n",
       "mean    29.102564   14.224359   13.961538  304.583333  483.275641   62.742949   \n",
       "std      4.693413    2.445730    2.749509   79.910269  115.685590    3.748705   \n",
       "min     21.000000    8.000000    8.000000  128.000000  195.000000   52.900000   \n",
       "25%     25.000000   13.000000   13.000000  255.000000  411.500000   60.175000   \n",
       "50%     28.500000   15.000000   15.000000  311.500000  499.500000   62.950000   \n",
       "75%     32.250000   16.000000   16.000000  363.250000  573.500000   65.300000   \n",
       "max     40.000000   16.000000   16.000000  471.000000  673.000000   72.000000   \n",
       "\n",
       "               Yds          TD         TD%         Int     ...      \\\n",
       "count   156.000000  156.000000  156.000000  156.000000     ...       \n",
       "mean   3498.217949   22.083333    4.476923   11.378205     ...       \n",
       "std     919.827090    9.003195    1.293949    4.426231     ...       \n",
       "min    1380.000000    6.000000    2.100000    2.000000     ...       \n",
       "25%    2904.500000   15.000000    3.500000    8.000000     ...       \n",
       "50%    3550.500000   21.000000    4.300000   11.000000     ...       \n",
       "75%    4234.750000   28.000000    5.325000   14.000000     ...       \n",
       "max    5477.000000   55.000000    8.500000   27.000000     ...       \n",
       "\n",
       "              4QC         GWD    Pro_Bowl  Rushing Att  Rushing Yds  \\\n",
       "count  156.000000  156.000000  156.000000   156.000000   156.000000   \n",
       "mean     1.788462    2.243590    0.314103    42.378205   181.448718   \n",
       "std      1.367879    1.451903    0.465652    25.950410   175.422340   \n",
       "min      0.000000    0.000000    0.000000     5.000000   -31.000000   \n",
       "25%      1.000000    1.000000    0.000000    25.000000    51.750000   \n",
       "50%      2.000000    2.000000    0.000000    34.500000   128.500000   \n",
       "75%      2.250000    3.000000    1.000000    57.000000   262.250000   \n",
       "max      8.000000    8.000000    1.000000   139.000000   849.000000   \n",
       "\n",
       "       Rushing TD        wins      losses        ties        win%  \n",
       "count  156.000000  156.000000  156.000000  156.000000  156.000000  \n",
       "mean     1.641026    7.326923    6.589744    0.044872   51.118749  \n",
       "std      1.869789    3.350808    2.599930    0.207689   19.880324  \n",
       "min      0.000000    0.000000    1.000000    0.000000    0.000000  \n",
       "25%      0.000000    5.000000    5.000000    0.000000   37.500000  \n",
       "50%      1.000000    7.000000    6.000000    0.000000   50.000000  \n",
       "75%      2.000000   10.000000    8.000000    0.000000   68.750000  \n",
       "max     10.000000   15.000000   15.000000    1.000000   93.750000  \n",
       "\n",
       "[8 rows x 33 columns]"
      ]
     },
     "execution_count": 30,
     "metadata": {},
     "output_type": "execute_result"
    }
   ],
   "source": [
    "qb_ready[qb_ready.GS >= 8].describe()"
   ]
  },
  {
   "cell_type": "code",
   "execution_count": 31,
   "metadata": {},
   "outputs": [
    {
     "data": {
      "image/png": "[encoded data removed]",
      "text/plain": [
       "<Figure size 360x360 with 1 Axes>"
      ]
     },
     "metadata": {},
     "output_type": "display_data"
    }
   ],
   "source": [
    "sns.set(style=\"whitegrid\")\n",
    "p = sns.catplot(\"Conference\", \"Y/G\", \"Division\", data = qb_ready[qb_ready.GS >= 8], kind = \"box\", legend = False)\n",
    "plt.legend(bbox_to_anchor=(1.05, 1), loc=2, borderaxespad=0.)\n",
    "plt.show()"
   ]
  },
  {
   "cell_type": "code",
   "execution_count": 32,
   "metadata": {},
   "outputs": [
    {
     "data": {
      "image/png": "[encoded data removed]",
      "text/plain": [
       "<Figure size 360x360 with 1 Axes>"
      ]
     },
     "metadata": {},
     "output_type": "display_data"
    }
   ],
   "source": [
    "p = sns.catplot(\"Conference\", \"Rushing Yds\", \"Division\", data = qb_ready[qb_ready.GS >= 8], kind = \"box\", legend = False)\n",
    "plt.legend(bbox_to_anchor=(1.05, 1), loc=2, borderaxespad=0.)\n",
    "plt.show()"
   ]
  },
  {
   "cell_type": "code",
   "execution_count": 33,
   "metadata": {},
   "outputs": [
    {
     "data": {
      "image/png": "[encoded data removed]",
      "text/plain": [
       "<Figure size 360x360 with 1 Axes>"
      ]
     },
     "metadata": {},
     "output_type": "display_data"
    }
   ],
   "source": [
    "p = sns.catplot(\"Conference\", \"Int\", \"Division\", data = qb_ready[qb_ready.GS >= 8], kind = \"box\", legend = False)\n",
    "plt.legend(bbox_to_anchor=(1.05, 1), loc=2, borderaxespad=0.)\n",
    "plt.show()"
   ]
  },
  {
   "cell_type": "code",
   "execution_count": 34,
   "metadata": {},
   "outputs": [
    {
     "data": {
      "image/png": "[encoded data removed]",
      "text/plain": [
       "<Figure size 360x360 with 1 Axes>"
      ]
     },
     "metadata": {},
     "output_type": "display_data"
    }
   ],
   "source": [
    "p = sns.catplot(\"Conference\", \"Y/G\", \"Pro_Bowl\", data = qb_ready[qb_ready.GS >= 8], kind = \"box\", legend = False)\n",
    "plt.legend(bbox_to_anchor=(1.05, 1), loc=2, borderaxespad=0.)\n",
    "plt.show()"
   ]
  },
  {
   "cell_type": "code",
   "execution_count": 35,
   "metadata": {},
   "outputs": [
    {
     "data": {
      "image/png": "[encoded data removed]",
      "text/plain": [
       "<Figure size 360x360 with 1 Axes>"
      ]
     },
     "metadata": {},
     "output_type": "display_data"
    }
   ],
   "source": [
    "p = sns.catplot(\"Conference\", \"Cmp%\", \"Pro_Bowl\", data = qb_ready[qb_ready.GS >= 8], kind = \"box\", legend = False)\n",
    "plt.legend(bbox_to_anchor=(1.05, 1), loc=2, borderaxespad=0.)\n",
    "plt.show()"
   ]
  },
  {
   "cell_type": "code",
   "execution_count": 36,
   "metadata": {},
   "outputs": [
    {
     "data": {
      "image/png": "[encoded data removed]",
      "text/plain": [
       "<Figure size 360x360 with 1 Axes>"
      ]
     },
     "metadata": {},
     "output_type": "display_data"
    }
   ],
   "source": [
    "p = sns.catplot(\"Conference\", \"Sk\", \"Pro_Bowl\", data = qb_ready[qb_ready.GS >= 8], kind = \"box\", legend = False)\n",
    "plt.legend(bbox_to_anchor=(1.05, 1), loc=2, borderaxespad=0.)\n",
    "plt.show()"
   ]
  },
  {
   "cell_type": "code",
   "execution_count": 37,
   "metadata": {},
   "outputs": [
    {
     "data": {
      "image/png": "[encoded data removed]",
      "text/plain": [
       "<Figure size 360x360 with 1 Axes>"
      ]
     },
     "metadata": {},
     "output_type": "display_data"
    }
   ],
   "source": [
    "p = sns.catplot(\"Division\", \"Y/G\", \"Pro_Bowl\", data = qb_ready[qb_ready.GS >= 8], kind = \"box\", legend = False)\n",
    "plt.legend(bbox_to_anchor=(1.05, 1), loc=2, borderaxespad=0.)\n",
    "p.set_xticklabels(rotation=30)\n",
    "plt.show()"
   ]
  },
  {
   "cell_type": "code",
   "execution_count": 38,
   "metadata": {},
   "outputs": [
    {
     "data": {
      "image/png": "[encoded data removed]",
      "text/plain": [
       "<Figure size 360x360 with 1 Axes>"
      ]
     },
     "metadata": {},
     "output_type": "display_data"
    }
   ],
   "source": [
    "p = sns.catplot(\"Division\", \"Rushing Yds\", \"Pro_Bowl\", data = qb_ready[qb_ready.GS >= 8], kind = \"box\", legend = False)\n",
    "plt.legend(bbox_to_anchor=(1.05, 1), loc=2, borderaxespad=0.)\n",
    "p.set_xticklabels(rotation=30)\n",
    "plt.show()"
   ]
  },
  {
   "cell_type": "code",
   "execution_count": 39,
   "metadata": {},
   "outputs": [
    {
     "data": {
      "image/png": "[encoded data removed]",
      "text/plain": [
       "<Figure size 360x360 with 1 Axes>"
      ]
     },
     "metadata": {},
     "output_type": "display_data"
    }
   ],
   "source": [
    "p = sns.catplot(\"Conference\", \"Y/G\", data = qb_ready[qb_ready.GS >= 8], kind = \"box\", legend = False)\n",
    "plt.show()"
   ]
  },
  {
   "cell_type": "code",
   "execution_count": 40,
   "metadata": {},
   "outputs": [
    {
     "data": {
      "image/png": "[encoded data removed]",
      "text/plain": [
       "<Figure size 360x360 with 1 Axes>"
      ]
     },
     "metadata": {},
     "output_type": "display_data"
    }
   ],
   "source": [
    "p = sns.catplot(\"Conference\", \"Int\", data = qb_ready[qb_ready.GS >= 8], kind = \"box\", legend = False)\n",
    "plt.show()"
   ]
  },
  {
   "cell_type": "code",
   "execution_count": 41,
   "metadata": {},
   "outputs": [
    {
     "data": {
      "image/png": "[encoded data removed]",
      "text/plain": [
       "<Figure size 360x360 with 1 Axes>"
      ]
     },
     "metadata": {},
     "output_type": "display_data"
    }
   ],
   "source": [
    "# Set style of scatterplot\n",
    "sns.set_context(\"notebook\", font_scale=1.1)\n",
    "sns.set_style(\"ticks\")\n",
    "\n",
    "# Create scatterplot of dataframe\n",
    "sns.lmplot('Att', \n",
    "           'Int', \n",
    "           data = qb_ready[qb_ready.GS >=8], \n",
    "           fit_reg=False) \n",
    "# Set title\n",
    "plt.title('Pass Attempts vs. Int Thrown')\n",
    "\n",
    "# Set x-axis label\n",
    "plt.xlabel('Pass Attempts')\n",
    "\n",
    "# Set y-axis label\n",
    "plt.ylabel('Interceptions Thrown')\n",
    "plt.show()"
   ]
  },
  {
   "cell_type": "code",
   "execution_count": 42,
   "metadata": {},
   "outputs": [
    {
     "data": {
      "image/png": "[encoded data removed]",
      "text/plain": [
       "<Figure size 360x360 with 1 Axes>"
      ]
     },
     "metadata": {},
     "output_type": "display_data"
    }
   ],
   "source": [
    "# Set style of scatterplot\n",
    "sns.set_context(\"notebook\", font_scale=1.1)\n",
    "sns.set_style(\"ticks\")\n",
    "\n",
    "# Create scatterplot of dataframe\n",
    "sns.lmplot('Age', \n",
    "           'Cmp%', \n",
    "           data = qb_ready[qb_ready.GS >=8], \n",
    "           fit_reg=False) \n",
    "# Set title\n",
    "plt.title('QB Age vs. Completion %')\n",
    "\n",
    "# Set x-axis label\n",
    "plt.xlabel('QB Age')\n",
    "\n",
    "# Set y-axis label\n",
    "plt.ylabel('Completion %')\n",
    "plt.show()"
   ]
  },
  {
   "cell_type": "code",
   "execution_count": 43,
   "metadata": {},
   "outputs": [
    {
     "data": {
      "image/png": "[encoded data removed]",
      "text/plain": [
       "<Figure size 360x360 with 1 Axes>"
      ]
     },
     "metadata": {},
     "output_type": "display_data"
    }
   ],
   "source": [
    "p = sns.catplot(\"Division\", \"Y/G\", \"Pro_Bowl\", data = qb_ready[qb_ready.GS >= 8], kind = \"box\", legend = False)\n",
    "plt.legend(bbox_to_anchor=(1.05, 1), loc=2, borderaxespad=0.)\n",
    "p.set_xticklabels(rotation=30)\n",
    "plt.show()"
   ]
  },
  {
   "cell_type": "markdown",
   "metadata": {},
   "source": [
    "## Prep data from Sci-Kit Learn Implementation"
   ]
  },
  {
   "cell_type": "code",
   "execution_count": 44,
   "metadata": {},
   "outputs": [],
   "source": [
    "data2 = qb_ready.drop(['Pro_Bowl', 'Division', 'Conference'], axis = 1)\n",
    "data2 = data2[data2.GS >= 8]"
   ]
  },
  {
   "cell_type": "markdown",
   "metadata": {},
   "source": [
    "### Standardizing Data"
   ]
  },
  {
   "cell_type": "code",
   "execution_count": 45,
   "metadata": {
    "scrolled": false
   },
   "outputs": [],
   "source": [
    "QBs2017 = data2.iloc[data2.index.get_level_values('Year') == 2017]\n",
    "QBs2016 = data2.iloc[data2.index.get_level_values('Year') == 2016]\n",
    "QBs2015 = data2.iloc[data2.index.get_level_values('Year') == 2015]\n",
    "QBs2014 = data2.iloc[data2.index.get_level_values('Year') == 2014]\n",
    "QBs2013 = data2.iloc[data2.index.get_level_values('Year') == 2013]"
   ]
  },
  {
   "cell_type": "code",
   "execution_count": 46,
   "metadata": {},
   "outputs": [],
   "source": [
    "data_stan17 = StandardScaler().fit_transform(QBs2017)\n",
    "data_stan16 = StandardScaler().fit_transform(QBs2016)\n",
    "data_stan15 = StandardScaler().fit_transform(QBs2015)\n",
    "data_stan14 = StandardScaler().fit_transform(QBs2014)\n",
    "data_stan13 = StandardScaler().fit_transform(QBs2013)"
   ]
  },
  {
   "cell_type": "markdown",
   "metadata": {},
   "source": [
    "### PCA Dimension Determination"
   ]
  },
  {
   "cell_type": "code",
   "execution_count": 48,
   "metadata": {
    "scrolled": true
   },
   "outputs": [
    {
     "data": {
      "text/plain": [
       "Text(0, 0.5, 'cumulative explained variance')"
      ]
     },
     "execution_count": 48,
     "metadata": {},
     "output_type": "execute_result"
    },
    {
     "data": {
      "image/png": "[encoded data removed]",
      "text/plain": [
       "<Figure size 432x288 with 1 Axes>"
      ]
     },
     "metadata": {},
     "output_type": "display_data"
    }
   ],
   "source": [
    "pca_fit = PCA().fit(data_stan17)\n",
    "plt.plot(np.cumsum(pca_fit.explained_variance_ratio_))\n",
    "plt.xlabel('number of components')\n",
    "plt.ylabel('cumulative explained variance')"
   ]
  },
  {
   "cell_type": "markdown",
   "metadata": {},
   "source": [
    "### Implementing PCA and K-Means"
   ]
  },
  {
   "cell_type": "code",
   "execution_count": 50,
   "metadata": {},
   "outputs": [
    {
     "data": {
      "image/png": "[encoded data removed]",
      "text/plain": [
       "<Figure size 504x504 with 1 Axes>"
      ]
     },
     "metadata": {},
     "output_type": "display_data"
    }
   ],
   "source": [
    "#use 10 components, explains almost all of the variance\n",
    "pca17 = PCA(n_components = 10)\n",
    "x_10d = pca17.fit_transform(data_stan17)\n",
    "kmeans = KMeans(n_clusters = 3)\n",
    "X_clustered = kmeans.fit_predict(x_10d)\n",
    "color_map = {0: 'r', 1:'g', 2:'b'}\n",
    "label_color = [color_map[l] for l in X_clustered]\n",
    "plt.figure(figsize = (7,7))\n",
    "plt.scatter(x_10d[:,0], x_10d[:,1], c = label_color, alpha = 0.5)\n",
    "plt.show()"
   ]
  },
  {
   "cell_type": "code",
   "execution_count": 51,
   "metadata": {},
   "outputs": [],
   "source": [
    "# Temporary dataframe using PCA projections from x_10d\n",
    "# Visualize some other cluster results using other components \n",
    "clusterQBs17 = pd.DataFrame(x_10d)\n",
    "clusterQBs17 = clusterQBs17[[0,1,2]]\n",
    "clusterQBs17['Cluster'] = X_clustered"
   ]
  },
  {
   "cell_type": "code",
   "execution_count": 52,
   "metadata": {},
   "outputs": [],
   "source": [
    "cluster_map17 = pd.DataFrame()\n",
    "cluster_map17['data_index'] = QBs2017.index.values\n",
    "cluster_map17['cluster'] = kmeans.labels_"
   ]
  },
  {
   "cell_type": "code",
   "execution_count": 53,
   "metadata": {},
   "outputs": [
    {
     "data": {
      "text/html": [
       "<div>\n",
       "<style scoped>\n",
       "    .dataframe tbody tr th:only-of-type {\n",
       "        vertical-align: middle;\n",
       "    }\n",
       "\n",
       "    .dataframe tbody tr th {\n",
       "        vertical-align: top;\n",
       "    }\n",
       "\n",
       "    .dataframe thead th {\n",
       "        text-align: right;\n",
       "    }\n",
       "</style>\n",
       "<table border=\"1\" class=\"dataframe\">\n",
       "  <thead>\n",
       "    <tr style=\"text-align: right;\">\n",
       "      <th></th>\n",
       "      <th>data_index</th>\n",
       "      <th>cluster</th>\n",
       "    </tr>\n",
       "  </thead>\n",
       "  <tbody>\n",
       "    <tr>\n",
       "      <th>0</th>\n",
       "      <td>(2017, Tom Brady)</td>\n",
       "      <td>0</td>\n",
       "    </tr>\n",
       "    <tr>\n",
       "      <th>1</th>\n",
       "      <td>(2017, Philip Rivers)</td>\n",
       "      <td>0</td>\n",
       "    </tr>\n",
       "    <tr>\n",
       "      <th>2</th>\n",
       "      <td>(2017, Eli Manning)</td>\n",
       "      <td>1</td>\n",
       "    </tr>\n",
       "    <tr>\n",
       "      <th>3</th>\n",
       "      <td>(2017, Matthew Stafford)</td>\n",
       "      <td>0</td>\n",
       "    </tr>\n",
       "    <tr>\n",
       "      <th>4</th>\n",
       "      <td>(2017, Ben Roethlisberger)</td>\n",
       "      <td>0</td>\n",
       "    </tr>\n",
       "    <tr>\n",
       "      <th>5</th>\n",
       "      <td>(2017, Russell Wilson)</td>\n",
       "      <td>1</td>\n",
       "    </tr>\n",
       "    <tr>\n",
       "      <th>6</th>\n",
       "      <td>(2017, Joe Flacco)</td>\n",
       "      <td>1</td>\n",
       "    </tr>\n",
       "    <tr>\n",
       "      <th>7</th>\n",
       "      <td>(2017, Kirk Cousins)</td>\n",
       "      <td>1</td>\n",
       "    </tr>\n",
       "    <tr>\n",
       "      <th>8</th>\n",
       "      <td>(2017, Drew Brees)</td>\n",
       "      <td>0</td>\n",
       "    </tr>\n",
       "    <tr>\n",
       "      <th>9</th>\n",
       "      <td>(2017, Matt Ryan)</td>\n",
       "      <td>0</td>\n",
       "    </tr>\n",
       "    <tr>\n",
       "      <th>10</th>\n",
       "      <td>(2017, Blake Bortles)</td>\n",
       "      <td>1</td>\n",
       "    </tr>\n",
       "    <tr>\n",
       "      <th>11</th>\n",
       "      <td>(2017, Derek Carr)</td>\n",
       "      <td>1</td>\n",
       "    </tr>\n",
       "    <tr>\n",
       "      <th>12</th>\n",
       "      <td>(2017, Alex Smith)</td>\n",
       "      <td>0</td>\n",
       "    </tr>\n",
       "    <tr>\n",
       "      <th>13</th>\n",
       "      <td>(2017, Andy Dalton)</td>\n",
       "      <td>1</td>\n",
       "    </tr>\n",
       "    <tr>\n",
       "      <th>14</th>\n",
       "      <td>(2017, Cam Newton)</td>\n",
       "      <td>1</td>\n",
       "    </tr>\n",
       "    <tr>\n",
       "      <th>15</th>\n",
       "      <td>(2017, Dak Prescott)</td>\n",
       "      <td>1</td>\n",
       "    </tr>\n",
       "    <tr>\n",
       "      <th>16</th>\n",
       "      <td>(2017, Case Keenum)</td>\n",
       "      <td>0</td>\n",
       "    </tr>\n",
       "    <tr>\n",
       "      <th>17</th>\n",
       "      <td>(2017, Jared Goff)</td>\n",
       "      <td>0</td>\n",
       "    </tr>\n",
       "    <tr>\n",
       "      <th>18</th>\n",
       "      <td>(2017, DeShone Kizer)</td>\n",
       "      <td>2</td>\n",
       "    </tr>\n",
       "    <tr>\n",
       "      <th>19</th>\n",
       "      <td>(2017, Jacoby Brissett)</td>\n",
       "      <td>1</td>\n",
       "    </tr>\n",
       "    <tr>\n",
       "      <th>20</th>\n",
       "      <td>(2017, Marcus Mariota)</td>\n",
       "      <td>1</td>\n",
       "    </tr>\n",
       "    <tr>\n",
       "      <th>21</th>\n",
       "      <td>(2017, Jameis Winston)</td>\n",
       "      <td>1</td>\n",
       "    </tr>\n",
       "    <tr>\n",
       "      <th>22</th>\n",
       "      <td>(2017, Carson Wentz)</td>\n",
       "      <td>0</td>\n",
       "    </tr>\n",
       "    <tr>\n",
       "      <th>23</th>\n",
       "      <td>(2017, Jay Cutler)</td>\n",
       "      <td>1</td>\n",
       "    </tr>\n",
       "    <tr>\n",
       "      <th>24</th>\n",
       "      <td>(2017, Tyrod Taylor)</td>\n",
       "      <td>1</td>\n",
       "    </tr>\n",
       "    <tr>\n",
       "      <th>25</th>\n",
       "      <td>(2017, Josh McCown)</td>\n",
       "      <td>1</td>\n",
       "    </tr>\n",
       "    <tr>\n",
       "      <th>26</th>\n",
       "      <td>(2017, Trevor Siemian)</td>\n",
       "      <td>2</td>\n",
       "    </tr>\n",
       "    <tr>\n",
       "      <th>27</th>\n",
       "      <td>(2017, Mitchell Trubisky)</td>\n",
       "      <td>2</td>\n",
       "    </tr>\n",
       "    <tr>\n",
       "      <th>28</th>\n",
       "      <td>(2017, Brett Hundley)</td>\n",
       "      <td>2</td>\n",
       "    </tr>\n",
       "  </tbody>\n",
       "</table>\n",
       "</div>"
      ],
      "text/plain": [
       "                    data_index  cluster\n",
       "0            (2017, Tom Brady)        0\n",
       "1        (2017, Philip Rivers)        0\n",
       "2          (2017, Eli Manning)        1\n",
       "3     (2017, Matthew Stafford)        0\n",
       "4   (2017, Ben Roethlisberger)        0\n",
       "5       (2017, Russell Wilson)        1\n",
       "6           (2017, Joe Flacco)        1\n",
       "7         (2017, Kirk Cousins)        1\n",
       "8           (2017, Drew Brees)        0\n",
       "9            (2017, Matt Ryan)        0\n",
       "10       (2017, Blake Bortles)        1\n",
       "11          (2017, Derek Carr)        1\n",
       "12          (2017, Alex Smith)        0\n",
       "13         (2017, Andy Dalton)        1\n",
       "14          (2017, Cam Newton)        1\n",
       "15        (2017, Dak Prescott)        1\n",
       "16         (2017, Case Keenum)        0\n",
       "17          (2017, Jared Goff)        0\n",
       "18       (2017, DeShone Kizer)        2\n",
       "19     (2017, Jacoby Brissett)        1\n",
       "20      (2017, Marcus Mariota)        1\n",
       "21      (2017, Jameis Winston)        1\n",
       "22        (2017, Carson Wentz)        0\n",
       "23          (2017, Jay Cutler)        1\n",
       "24        (2017, Tyrod Taylor)        1\n",
       "25         (2017, Josh McCown)        1\n",
       "26      (2017, Trevor Siemian)        2\n",
       "27   (2017, Mitchell Trubisky)        2\n",
       "28       (2017, Brett Hundley)        2"
      ]
     },
     "execution_count": 53,
     "metadata": {},
     "output_type": "execute_result"
    }
   ],
   "source": [
    "cluster_map17"
   ]
  },
  {
   "cell_type": "markdown",
   "metadata": {},
   "source": [
    "# PCA and K-Means for 2013 QBs"
   ]
  },
  {
   "cell_type": "code",
   "execution_count": 54,
   "metadata": {},
   "outputs": [
    {
     "data": {
      "text/plain": [
       "Text(0, 0.5, 'cumulative explained variance')"
      ]
     },
     "execution_count": 54,
     "metadata": {},
     "output_type": "execute_result"
    },
    {
     "data": {
      "image/png": "[encoded data removed]",
      "text/plain": [
       "<Figure size 432x288 with 1 Axes>"
      ]
     },
     "metadata": {},
     "output_type": "display_data"
    }
   ],
   "source": [
    "pca_fit = PCA().fit(data_stan13)\n",
    "plt.plot(np.cumsum(pca_fit.explained_variance_ratio_))\n",
    "plt.xlabel('number of components')\n",
    "plt.ylabel('cumulative explained variance')"
   ]
  },
  {
   "cell_type": "code",
   "execution_count": 55,
   "metadata": {},
   "outputs": [
    {
     "data": {
      "image/png": "[encoded data removed]",
      "text/plain": [
       "<Figure size 504x504 with 1 Axes>"
      ]
     },
     "metadata": {},
     "output_type": "display_data"
    }
   ],
   "source": [
    "#use 10 components, explains almost all of the variance\n",
    "pca13 = PCA(n_components = 10)\n",
    "x_10d = pca13.fit_transform(data_stan13)\n",
    "kmeans = KMeans(n_clusters = 3)\n",
    "X_clustered = kmeans.fit_predict(x_10d)\n",
    "color_map = {0: 'r', 1:'g', 2:'b'}\n",
    "label_color = [color_map[l] for l in X_clustered]\n",
    "plt.figure(figsize = (7,7))\n",
    "plt.scatter(x_10d[:,0], x_10d[:,1], c = label_color, alpha = 0.5)\n",
    "plt.show()"
   ]
  },
  {
   "cell_type": "code",
   "execution_count": 56,
   "metadata": {},
   "outputs": [],
   "source": [
    "# Temporary dataframe using PCA projections from x_10d\n",
    "# Visualize some other cluster results using other components \n",
    "clusterQBs13 = pd.DataFrame(x_10d)\n",
    "clusterQBs13 = clusterQBs13[[0,1,2]]\n",
    "clusterQBs13['Cluster'] = X_clustered"
   ]
  },
  {
   "cell_type": "code",
   "execution_count": 57,
   "metadata": {},
   "outputs": [],
   "source": [
    "cluster_map13 = pd.DataFrame()\n",
    "cluster_map13['data_index'] = QBs2013.index.values\n",
    "cluster_map13['cluster'] = kmeans.labels_"
   ]
  },
  {
   "cell_type": "code",
   "execution_count": 58,
   "metadata": {},
   "outputs": [
    {
     "data": {
      "text/html": [
       "<div>\n",
       "<style scoped>\n",
       "    .dataframe tbody tr th:only-of-type {\n",
       "        vertical-align: middle;\n",
       "    }\n",
       "\n",
       "    .dataframe tbody tr th {\n",
       "        vertical-align: top;\n",
       "    }\n",
       "\n",
       "    .dataframe thead th {\n",
       "        text-align: right;\n",
       "    }\n",
       "</style>\n",
       "<table border=\"1\" class=\"dataframe\">\n",
       "  <thead>\n",
       "    <tr style=\"text-align: right;\">\n",
       "      <th></th>\n",
       "      <th>data_index</th>\n",
       "      <th>cluster</th>\n",
       "    </tr>\n",
       "  </thead>\n",
       "  <tbody>\n",
       "    <tr>\n",
       "      <th>0</th>\n",
       "      <td>(2013, Peyton Manning)</td>\n",
       "      <td>2</td>\n",
       "    </tr>\n",
       "    <tr>\n",
       "      <th>1</th>\n",
       "      <td>(2013, Matt Ryan)</td>\n",
       "      <td>0</td>\n",
       "    </tr>\n",
       "    <tr>\n",
       "      <th>2</th>\n",
       "      <td>(2013, Drew Brees)</td>\n",
       "      <td>2</td>\n",
       "    </tr>\n",
       "    <tr>\n",
       "      <th>3</th>\n",
       "      <td>(2013, Matthew Stafford)</td>\n",
       "      <td>0</td>\n",
       "    </tr>\n",
       "    <tr>\n",
       "      <th>4</th>\n",
       "      <td>(2013, Tom Brady)</td>\n",
       "      <td>0</td>\n",
       "    </tr>\n",
       "    <tr>\n",
       "      <th>5</th>\n",
       "      <td>(2013, Joe Flacco)</td>\n",
       "      <td>0</td>\n",
       "    </tr>\n",
       "    <tr>\n",
       "      <th>6</th>\n",
       "      <td>(2013, Ryan Tannehill)</td>\n",
       "      <td>0</td>\n",
       "    </tr>\n",
       "    <tr>\n",
       "      <th>7</th>\n",
       "      <td>(2013, Andy Dalton)</td>\n",
       "      <td>0</td>\n",
       "    </tr>\n",
       "    <tr>\n",
       "      <th>8</th>\n",
       "      <td>(2013, Ben Roethlisberger)</td>\n",
       "      <td>0</td>\n",
       "    </tr>\n",
       "    <tr>\n",
       "      <th>9</th>\n",
       "      <td>(2013, Carson Palmer)</td>\n",
       "      <td>0</td>\n",
       "    </tr>\n",
       "    <tr>\n",
       "      <th>10</th>\n",
       "      <td>(2013, Andrew Luck)</td>\n",
       "      <td>0</td>\n",
       "    </tr>\n",
       "    <tr>\n",
       "      <th>11</th>\n",
       "      <td>(2013, Eli Manning)</td>\n",
       "      <td>0</td>\n",
       "    </tr>\n",
       "    <tr>\n",
       "      <th>12</th>\n",
       "      <td>(2013, Philip Rivers)</td>\n",
       "      <td>2</td>\n",
       "    </tr>\n",
       "    <tr>\n",
       "      <th>13</th>\n",
       "      <td>(2013, Tony Romo)</td>\n",
       "      <td>0</td>\n",
       "    </tr>\n",
       "    <tr>\n",
       "      <th>14</th>\n",
       "      <td>(2013, Alex Smith)</td>\n",
       "      <td>0</td>\n",
       "    </tr>\n",
       "    <tr>\n",
       "      <th>15</th>\n",
       "      <td>(2013, Chad Henne)</td>\n",
       "      <td>1</td>\n",
       "    </tr>\n",
       "    <tr>\n",
       "      <th>16</th>\n",
       "      <td>(2013, Cam Newton)</td>\n",
       "      <td>0</td>\n",
       "    </tr>\n",
       "    <tr>\n",
       "      <th>17</th>\n",
       "      <td>(2013, Robert Griffin)</td>\n",
       "      <td>0</td>\n",
       "    </tr>\n",
       "    <tr>\n",
       "      <th>18</th>\n",
       "      <td>(2013, Geno Smith)</td>\n",
       "      <td>0</td>\n",
       "    </tr>\n",
       "    <tr>\n",
       "      <th>19</th>\n",
       "      <td>(2013, Mike Glennon)</td>\n",
       "      <td>0</td>\n",
       "    </tr>\n",
       "    <tr>\n",
       "      <th>20</th>\n",
       "      <td>(2013, Colin Kaepernick)</td>\n",
       "      <td>0</td>\n",
       "    </tr>\n",
       "    <tr>\n",
       "      <th>21</th>\n",
       "      <td>(2013, Russell Wilson)</td>\n",
       "      <td>0</td>\n",
       "    </tr>\n",
       "    <tr>\n",
       "      <th>22</th>\n",
       "      <td>(2013, Matt Schaub)</td>\n",
       "      <td>1</td>\n",
       "    </tr>\n",
       "    <tr>\n",
       "      <th>23</th>\n",
       "      <td>(2013, Jay Cutler)</td>\n",
       "      <td>0</td>\n",
       "    </tr>\n",
       "    <tr>\n",
       "      <th>24</th>\n",
       "      <td>(2013, Ryan Fitzpatrick)</td>\n",
       "      <td>1</td>\n",
       "    </tr>\n",
       "    <tr>\n",
       "      <th>25</th>\n",
       "      <td>(2013, Jason Campbell)</td>\n",
       "      <td>1</td>\n",
       "    </tr>\n",
       "    <tr>\n",
       "      <th>26</th>\n",
       "      <td>(2013, Nick Foles)</td>\n",
       "      <td>2</td>\n",
       "    </tr>\n",
       "    <tr>\n",
       "      <th>27</th>\n",
       "      <td>(2013, EJ Manuel)</td>\n",
       "      <td>1</td>\n",
       "    </tr>\n",
       "    <tr>\n",
       "      <th>28</th>\n",
       "      <td>(2013, Aaron Rodgers)</td>\n",
       "      <td>2</td>\n",
       "    </tr>\n",
       "    <tr>\n",
       "      <th>29</th>\n",
       "      <td>(2013, Terrelle Pryor)</td>\n",
       "      <td>1</td>\n",
       "    </tr>\n",
       "    <tr>\n",
       "      <th>30</th>\n",
       "      <td>(2013, Case Keenum)</td>\n",
       "      <td>1</td>\n",
       "    </tr>\n",
       "    <tr>\n",
       "      <th>31</th>\n",
       "      <td>(2013, Kellen Clemens)</td>\n",
       "      <td>1</td>\n",
       "    </tr>\n",
       "    <tr>\n",
       "      <th>32</th>\n",
       "      <td>(2013, Christian Ponder)</td>\n",
       "      <td>1</td>\n",
       "    </tr>\n",
       "  </tbody>\n",
       "</table>\n",
       "</div>"
      ],
      "text/plain": [
       "                    data_index  cluster\n",
       "0       (2013, Peyton Manning)        2\n",
       "1            (2013, Matt Ryan)        0\n",
       "2           (2013, Drew Brees)        2\n",
       "3     (2013, Matthew Stafford)        0\n",
       "4            (2013, Tom Brady)        0\n",
       "5           (2013, Joe Flacco)        0\n",
       "6       (2013, Ryan Tannehill)        0\n",
       "7          (2013, Andy Dalton)        0\n",
       "8   (2013, Ben Roethlisberger)        0\n",
       "9        (2013, Carson Palmer)        0\n",
       "10         (2013, Andrew Luck)        0\n",
       "11         (2013, Eli Manning)        0\n",
       "12       (2013, Philip Rivers)        2\n",
       "13           (2013, Tony Romo)        0\n",
       "14          (2013, Alex Smith)        0\n",
       "15          (2013, Chad Henne)        1\n",
       "16          (2013, Cam Newton)        0\n",
       "17      (2013, Robert Griffin)        0\n",
       "18          (2013, Geno Smith)        0\n",
       "19        (2013, Mike Glennon)        0\n",
       "20    (2013, Colin Kaepernick)        0\n",
       "21      (2013, Russell Wilson)        0\n",
       "22         (2013, Matt Schaub)        1\n",
       "23          (2013, Jay Cutler)        0\n",
       "24    (2013, Ryan Fitzpatrick)        1\n",
       "25      (2013, Jason Campbell)        1\n",
       "26          (2013, Nick Foles)        2\n",
       "27           (2013, EJ Manuel)        1\n",
       "28       (2013, Aaron Rodgers)        2\n",
       "29      (2013, Terrelle Pryor)        1\n",
       "30         (2013, Case Keenum)        1\n",
       "31      (2013, Kellen Clemens)        1\n",
       "32    (2013, Christian Ponder)        1"
      ]
     },
     "execution_count": 58,
     "metadata": {},
     "output_type": "execute_result"
    }
   ],
   "source": [
    "cluster_map13"
   ]
  },
  {
   "cell_type": "markdown",
   "metadata": {},
   "source": [
    "### Bokeh Scatter Plot"
   ]
  },
  {
   "cell_type": "code",
   "execution_count": null,
   "metadata": {},
   "outputs": [],
   "source": []
  }
 ],
 "metadata": {
  "kernelspec": {
   "display_name": "Python 3",
   "language": "python",
   "name": "python3"
  },
  "language_info": {
   "codemirror_mode": {
    "name": "ipython",
    "version": 3
   },
   "file_extension": ".py",
   "mimetype": "text/x-python",
   "name": "python",
   "nbconvert_exporter": "python",
   "pygments_lexer": "ipython3",
   "version": "3.6.6"
  }
 },
 "nbformat": 4,
 "nbformat_minor": 2
}
