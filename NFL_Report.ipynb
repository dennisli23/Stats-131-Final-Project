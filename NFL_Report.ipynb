{
 "cells": [
  {
   "cell_type": "markdown",
   "metadata": {},
   "source": [
    "# Stats 131 Final Project"
   ]
  },
  {
   "cell_type": "markdown",
   "metadata": {},
   "source": [
    "## Project Overview"
   ]
  },
  {
   "cell_type": "markdown",
   "metadata": {},
   "source": [
    "In the National Football League (NFL), a franchise's starting quarterback is often considered the most important position and player on the team. A quarterback in the NFL is tasked with directing the offense and being an extension of the coaching staff whom call plays for the quarterback relay to his team. Because of their critical importance to their team, a quarterback is often the highest paid player on his respective team. There is a narrative in the NFL that a team cannot excel without good quarterback. With that said, our project aims to using Principal Component Analysis and K-Means Clustering to see whether or not we can separate quarterbacks into distinct tiers or clusters to see whether or not we can see what makes up an elite quarterback in the NFL."
   ]
  },
  {
   "cell_type": "markdown",
   "metadata": {},
   "source": [
    "## Background Information\n",
    "### General Structure of NFL\n",
    "The National Football League (NFL) is an American professional football league that consists of 32 teams where 16 teams are part of the National Football Conference (NFC) and the other 16 teams are part of the American Football Conference (AFC). In addition to  being separated into 2 distinct conferences, the teams within a conference are also divided into 4 divisions. The divisions are the following:\n",
    "\n",
    "##### American Football Conference (AFC)\n",
    "- AFC East\n",
    "    - New England Patriots (NWE)\n",
    "    - Miami Dolphins (MIA)\n",
    "    - Buffalo Bills (BUF)\n",
    "    - New York Jets (NYJ)\n",
    "- AFC West\n",
    "    - Kansas City Chiefs (KAN)\n",
    "    - Los Angeles Chargers (LAC)\n",
    "    - Denver Broncos (DEN)\n",
    "    - Oakland Raiders (OAK)\n",
    "- AFC North\n",
    "    - Pittsburgh Steelers (PIT)\n",
    "    - Baltimore Ravens (BAL)\n",
    "    - Cincinnati Bengals (CIN)\n",
    "    - Cleveland Browns (CLE)\n",
    "- AFC South\n",
    "    - Houston Texans (HOU)\n",
    "    - Indianapolis Colts (IND)\n",
    "    - Tennessee Titans (TEN)\n",
    "    - Jacksonville Jaguars (JAX)\n",
    "\n",
    "<br>\n",
    "\n",
    "##### National Football Conference (NFC)\n",
    "- NFC East\n",
    "    - Dallas Cowboys (DAL)\n",
    "    - Philadelphia Eagles (PHI)\n",
    "    - Washington Redskins (WAS)\n",
    "    - New York Giants (NYG)\n",
    "- NFC West\n",
    "    - Los Angeles Rams (LAR)\n",
    "    - Seattle Seahawks (SEA)\n",
    "    - Arizona Cardinals (ARI)\n",
    "    - San Francisco 49ers (SFO)\n",
    "- NFC North\n",
    "    - Chicago Bears (CHI)\n",
    "    - Minnesota Vikings (MIN)\n",
    "    - Green Bay Packers (GNB)\n",
    "    - Detroit Lions (DET)\n",
    "- NFC South\n",
    "    - New Orleans Saints (NOR)\n",
    "    - Carolina Panthers (CAR)\n",
    "    - Tampa Bay Buccaneers (TAM)\n",
    "    - Atlanta Falcons (ATL)\n"
   ]
  },
  {
   "cell_type": "markdown",
   "metadata": {},
   "source": [
    "### Structure of NFL season\n",
    "\n",
    "#### Regular Season\n",
    "The NFL season consists of 17 weeks with 16 games played from August to December with an additional postseason playoffs for qualified teams. Each team plays has a designated BYE week where the team does not play and is allowed an additional week of rest. All NFL games are played on Sundays with the exception of 2 games each week: one of which is played on Thursday and the other being played on Monday. \n",
    "\n",
    "There are considered to be 3 \"marquee\" games that are played each week: \n",
    "\n",
    "- <i>Thursday Night Football</i>\n",
    "- <i>Sunday Night Football</i>\n",
    "- <i>Monday Night Football</i>\n",
    "\n",
    "Thanksgiving week is the one exception to the week to week game schedule structure that the NFL follows. On Thanksgiving, instead of playing one game on <i>Thursday Night Football</i>, three games are played on three different timeslots on Thanksgiving.  \n",
    "\n",
    "#### Postseason/Playoffs\n",
    "Teams must qualify in order to make the postseason of the NFL. Six teams from each conference are will qualify for the playoffs, the division winner from each division and 2 wildcard spots from each conference. The two wildcard teams from each conference are teams two best teams from each conference excluding the division winners. "
   ]
  },
  {
   "cell_type": "markdown",
   "metadata": {},
   "source": [
    "### NFL Rosters\n",
    "A current NFL roster consists of 53 active players, meaning players who are healthy and a part of the team's roster on each Sunday. "
   ]
  },
  {
   "cell_type": "raw",
   "metadata": {},
   "source": []
  },
  {
   "cell_type": "markdown",
   "metadata": {},
   "source": [
    "## Data Cleaning/Preparation"
   ]
  },
  {
   "cell_type": "markdown",
   "metadata": {},
   "source": [
    "### Loading necessary libraries"
   ]
  },
  {
   "cell_type": "code",
   "execution_count": 1,
   "metadata": {},
   "outputs": [],
   "source": [
    "import pandas as pd\n",
    "import numpy as np\n",
    "import matplotlib.pyplot as plt\n",
    "import matplotlib.gridspec as gridspec"
   ]
  },
  {
   "cell_type": "code",
   "execution_count": 2,
   "metadata": {},
   "outputs": [],
   "source": [
    "from sklearn.decomposition import PCA\n",
    "from sklearn.preprocessing import StandardScaler\n",
    "from sklearn.model_selection import train_test_split\n",
    "from sklearn.pipeline import Pipeline\n",
    "from sklearn.cluster import KMeans\n",
    "from sklearn.model_selection import GridSearchCV"
   ]
  },
  {
   "cell_type": "code",
   "execution_count": 3,
   "metadata": {},
   "outputs": [],
   "source": [
    "import warnings\n",
    "warnings.filterwarnings('ignore')"
   ]
  },
  {
   "cell_type": "code",
   "execution_count": 4,
   "metadata": {},
   "outputs": [],
   "source": [
    "#Rank is based on Passing Attempts"
   ]
  },
  {
   "cell_type": "markdown",
   "metadata": {},
   "source": [
    "### Reading in QB Passing and Rushing Data"
   ]
  },
  {
   "cell_type": "code",
   "execution_count": 5,
   "metadata": {},
   "outputs": [],
   "source": [
    "nfl_data = {}\n",
    "rush_filter = ['Player','Rushing Att','Rushing Yds','Rushing TD']\n",
    "#rush_type = {'Rushing Att' : np.float64, 'Rushing Yds': np.float64,'Rushing TD': np.float64,'Rushing Lng': np.float64}"
   ]
  },
  {
   "cell_type": "code",
   "execution_count": 6,
   "metadata": {
    "scrolled": true
   },
   "outputs": [],
   "source": [
    "#Testing reading in data\n",
    "#nfl_rr = pd.read_csv('../src/Data/nfl-2017-rr.csv')\n",
    "#nfl_rr[rush_filter]"
   ]
  },
  {
   "cell_type": "code",
   "execution_count": 7,
   "metadata": {},
   "outputs": [],
   "source": [
    "pro_bowl = {2014 : ['Cam Newton', 'Nick Foles', 'Andrew Luck', 'Drew Brees', 'Alex Smith', 'Philip Rivers',\n",
    "                   'Russell Wilson', 'Tom Brady', 'Peyton Manning'],\n",
    "            2015 : ['Drew Brees', 'Andrew Luck', 'Andy Dalton', 'Matt Ryan', 'Tony Romo', 'Matthew Stafford',\n",
    "                   'Ben Roethlisberger', 'Tom Brady', 'Aaron Rodgers', 'Peyton Manning'],\n",
    "            2016 : ['Derek Carr', 'Eli Manning', 'Tyrod Taylor', 'Teddy Bridgewater', 'Russell Wilson',\n",
    "                   'Jameis Winston', 'Tom Brady', 'Cam Newton', 'Aaron Rodgers', 'Carson Palmer', \n",
    "                   'Ben Roethlisberger'],\n",
    "            2017 : ['Tom Brady', 'Derek Carr', 'Ben Roethlisberger', 'Alex Smith', 'Andy Dalton', 'Philip Rivers',\n",
    "                   'Matt Ryan', 'Dak Prescott', 'Aaron Rodgers', 'Kirk Cousins', 'Drew Brees'],\n",
    "            2018 : ['Tom Brady', 'Ben Roethlisberger', 'Philip Rivers', 'Alex Smith', 'Derek Carr',\n",
    "                   'Carson Wentz', 'Russell Wilson', 'Drew Brees', 'Jared Goff']}"
   ]
  },
  {
   "cell_type": "code",
   "execution_count": 8,
   "metadata": {},
   "outputs": [],
   "source": [
    "def add_pro_bowl(data, year):\n",
    "    if data.Player in pro_bowl[year]:\n",
    "        return 1\n",
    "    else:\n",
    "        return 0"
   ]
  },
  {
   "cell_type": "code",
   "execution_count": 9,
   "metadata": {},
   "outputs": [],
   "source": [
    "for i in range(2013,2018):\n",
    "    nfl = pd.read_csv('../src/Data/nfl-{}.csv'.format(i))\n",
    "    nfl_rr = pd.read_csv('../src/Data/nfl-{}-rr.csv'.format(i))\n",
    "    nfl_rr = nfl_rr[rush_filter]\n",
    "    nfl['Year'] = i\n",
    "    nfl['Pro_Bowl'] = nfl.apply(add_pro_bowl, axis = 1, year = i + 1)\n",
    "    nfl_full = nfl.merge(nfl_rr, on = 'Player', how = 'left')\n",
    "    nfl_full.set_index(['Year', 'Player'], inplace = True)\n",
    "    nfl_data[i] = nfl_full"
   ]
  },
  {
   "cell_type": "code",
   "execution_count": 10,
   "metadata": {
    "scrolled": false
   },
   "outputs": [
    {
     "name": "stdout",
     "output_type": "stream",
     "text": [
      "<class 'pandas.core.frame.DataFrame'>\n",
      "MultiIndex: 85 entries, (2013, Peyton Manning) to (2013, Brad Smith)\n",
      "Data columns (total 33 columns):\n",
      "Rk             85 non-null int64\n",
      "Tm             85 non-null object\n",
      "Age            85 non-null int64\n",
      "Pos            66 non-null object\n",
      "G              85 non-null int64\n",
      "GS             85 non-null int64\n",
      "QBrec          51 non-null object\n",
      "Cmp            85 non-null int64\n",
      "Att            85 non-null int64\n",
      "Cmp%           85 non-null float64\n",
      "Yds            85 non-null int64\n",
      "TD             85 non-null int64\n",
      "TD%            85 non-null float64\n",
      "Int            85 non-null int64\n",
      "Int%           85 non-null float64\n",
      "Lng            85 non-null int64\n",
      "Y/A            85 non-null float64\n",
      "AY/A           85 non-null float64\n",
      "Y/C            75 non-null float64\n",
      "Y/G            85 non-null float64\n",
      "Rate           85 non-null float64\n",
      "QBR            73 non-null float64\n",
      "Sk             85 non-null int64\n",
      "Yds2           85 non-null int64\n",
      "NY/A           85 non-null float64\n",
      "ANY/A          85 non-null float64\n",
      "Sk%            85 non-null float64\n",
      "4QC            37 non-null float64\n",
      "GWD            37 non-null float64\n",
      "Pro_Bowl       85 non-null int64\n",
      "Rushing Att    76 non-null object\n",
      "Rushing Yds    76 non-null object\n",
      "Rushing TD     76 non-null object\n",
      "dtypes: float64(14), int64(13), object(6)\n",
      "memory usage: 22.9+ KB\n"
     ]
    }
   ],
   "source": [
    "nfl_data[2013].info()"
   ]
  },
  {
   "cell_type": "code",
   "execution_count": 11,
   "metadata": {
    "scrolled": true
   },
   "outputs": [],
   "source": [
    "nfl = nfl_data[2013]\n",
    "for i in range(2014,2018):\n",
    "    nfl = pd.concat([nfl, nfl_data[i]])"
   ]
  },
  {
   "cell_type": "code",
   "execution_count": 12,
   "metadata": {
    "scrolled": true
   },
   "outputs": [
    {
     "data": {
      "text/plain": [
       "Index(['FB/rb', 'FS', 'K', 'LCB', 'NT', 'P', 'P/WR', 'QB', 'QB/wr', 'RB', 'TE',\n",
       "       'WR', 'fb/wr', 'fs', 'mlb', 'qb', 'rb', 'rb/wr', 'wr'],\n",
       "      dtype='object')"
      ]
     },
     "execution_count": 12,
     "metadata": {},
     "output_type": "execute_result"
    }
   ],
   "source": [
    "nfl.Pos.astype('category').cat.categories"
   ]
  },
  {
   "cell_type": "markdown",
   "metadata": {},
   "source": [
    "### Filtering to only be Quarterbacks"
   ]
  },
  {
   "cell_type": "code",
   "execution_count": 13,
   "metadata": {},
   "outputs": [],
   "source": [
    "def qb_fix(data):\n",
    "    if data.Pos == 'QB/WR' or data.Pos == 'qb' or data.Pos == 'qb/wr' or data.Pos == 'QB':\n",
    "        return 'QB'"
   ]
  },
  {
   "cell_type": "code",
   "execution_count": 14,
   "metadata": {},
   "outputs": [],
   "source": [
    "nfl.Pos = nfl.apply(qb_fix, axis = 1)"
   ]
  },
  {
   "cell_type": "code",
   "execution_count": 15,
   "metadata": {},
   "outputs": [],
   "source": [
    "qb = nfl[nfl.Pos == 'QB']"
   ]
  },
  {
   "cell_type": "markdown",
   "metadata": {},
   "source": [
    "### Adding Conference and Division Variable"
   ]
  },
  {
   "cell_type": "code",
   "execution_count": 16,
   "metadata": {},
   "outputs": [],
   "source": [
    "conference = {'AFC' : ['NWE', 'BUF', 'NYJ', 'MIA', 'KAN', 'LAC', 'SDG', 'DEN', 'OAK', \n",
    "                       'PIT', 'BAL', 'CIN' 'CLE', 'HOU', 'IND', 'TEN', 'JAX'],\n",
    "              'NFC' : ['DAL', 'PHI', 'WAS', 'NYG', 'STL', 'LAR', 'SEA', 'ARI', 'SFO', \n",
    "                       'CHI', 'MIN', 'GNB', 'DET', 'NOR', 'CAR', 'TAM', 'ATL'],\n",
    "              'Other' : ['3TM', '2TM']}\n",
    "\n",
    "division = {'AFC East' : ['NWE', 'BUF', 'NYJ', 'MIA'],\n",
    "           'AFC West' : ['KAN', 'LAC', 'SDG', 'DEN', 'OAK'],\n",
    "           'AFC North' : ['PIT', 'BAL', 'CIN' 'CLE'],\n",
    "           'AFC South' : ['HOU', 'IND', 'TEN', 'JAX'],\n",
    "           'NFC East' : ['DAL', 'PHI', 'WAS', 'NYG'],\n",
    "           'NFC West' : ['STL', 'LAR', 'SEA', 'ARI', 'SFO'],\n",
    "           'NFC North' : ['CHI', 'MIN', 'GNB', 'DET'],\n",
    "           'NFC South' : ['NOR', 'CAR', 'TAM', 'ATL'],\n",
    "           'Other' : ['3TM', '2TM']}"
   ]
  },
  {
   "cell_type": "code",
   "execution_count": 17,
   "metadata": {},
   "outputs": [],
   "source": [
    "def division_set(data):\n",
    "    if data.Tm in conference['AFC']:\n",
    "        if data.Tm in division['AFC East']:\n",
    "            return 'AFC East'\n",
    "        elif data.Tm in division['AFC West']:\n",
    "            return 'AFC West'\n",
    "        elif data.Tm in division['AFC North']:\n",
    "            return 'AFC North'\n",
    "        elif data.Tm in division['AFC South']:\n",
    "            return 'AFC South'\n",
    "        \n",
    "    elif data.Tm in conference['NFC']:\n",
    "        if data.Tm in division['NFC East']:\n",
    "            return 'NFC East'\n",
    "        elif data.Tm in division['NFC West']:\n",
    "            return 'NFC West'\n",
    "        elif data.Tm in division['NFC North']:\n",
    "            return 'NFC North'\n",
    "        elif data.Tm in division['NFC South']:\n",
    "            return 'NFC South'\n",
    "    else:\n",
    "        return 'Other'"
   ]
  },
  {
   "cell_type": "code",
   "execution_count": 18,
   "metadata": {
    "scrolled": true
   },
   "outputs": [],
   "source": [
    "qb['Division'] = qb.apply(division_set, axis = 1)"
   ]
  },
  {
   "cell_type": "code",
   "execution_count": 19,
   "metadata": {
    "scrolled": false
   },
   "outputs": [],
   "source": [
    "qb['Conference'] = qb.Division.str[0:3]"
   ]
  },
  {
   "cell_type": "markdown",
   "metadata": {},
   "source": [
    "### Creating Wins, Losses, and Win Percentage"
   ]
  },
  {
   "cell_type": "code",
   "execution_count": 20,
   "metadata": {},
   "outputs": [],
   "source": [
    "def win_loss(data, i):\n",
    "    return int(data.QBrec.rsplit('-')[i])"
   ]
  },
  {
   "cell_type": "code",
   "execution_count": 21,
   "metadata": {},
   "outputs": [],
   "source": [
    "qb['wins'] = qb.apply(win_loss, i = 0, axis = 1)\n",
    "qb['losses'] = qb.apply(win_loss, i = 1, axis = 1)\n",
    "qb['ties'] = qb.apply(win_loss, i = 2, axis = 1)"
   ]
  },
  {
   "cell_type": "code",
   "execution_count": 41,
   "metadata": {},
   "outputs": [],
   "source": [
    "qb['win%'] = (qb.wins/(qb.wins + qb.losses + qb.ties))*100"
   ]
  },
  {
   "cell_type": "markdown",
   "metadata": {},
   "source": [
    "### Correcting the variable types"
   ]
  },
  {
   "cell_type": "code",
   "execution_count": 22,
   "metadata": {},
   "outputs": [
    {
     "data": {
      "text/plain": [
       "Index(['0-1-0', '0-1-1', '0-15-0', '0-2-0', '0-3-0', '0-4-0', '0-5-0', '0-6-0',\n",
       "       '0-7-0', '0-8-0', '1-0-0', '1-1-0', '1-10-0', '1-2-0', '1-3-0', '1-4-0',\n",
       "       '1-5-0', '1-6-0', '1-7-0', '10-3-0', '10-4-0', '10-5-1', '10-6-0',\n",
       "       '11-1-0', '11-2-0', '11-3-0', '11-4-0', '11-5-0', '12-3-0', '12-4-0',\n",
       "       '13-3-0', '15-1-0', '2-0-0', '2-1-0', '2-2-0', '2-3-0', '2-4-0',\n",
       "       '2-5-0', '2-6-0', '2-6-1', '3-0-0', '3-1-0', '3-10-0', '3-12-0',\n",
       "       '3-13-0', '3-2-0', '3-3-0', '3-4-0', '3-5-0', '3-6-0', '3-7-0', '3-8-0',\n",
       "       '3-9-0', '4-11-0', '4-12-0', '4-3-0', '4-4-0', '4-5-0', '4-6-0',\n",
       "       '4-7-0', '4-8-0', '4-9-0', '5-0-0', '5-10-0', '5-11-0', '5-2-0',\n",
       "       '5-3-0', '5-4-0', '5-5-0', '5-6-0', '5-8-0', '5-8-1', '6-0-0', '6-10-0',\n",
       "       '6-2-0', '6-3-0', '6-6-0', '6-8-0', '6-8-1', '6-9-0', '6-9-1', '7-2-0',\n",
       "       '7-4-0', '7-5-0', '7-6-0', '7-7-0', '7-8-0', '7-9-0', '8-2-0', '8-5-0',\n",
       "       '8-6-0', '8-7-0', '8-7-1', '8-8-0', '9-6-0', '9-7-0'],\n",
       "      dtype='object')"
      ]
     },
     "execution_count": 22,
     "metadata": {},
     "output_type": "execute_result"
    }
   ],
   "source": [
    "qb.QBrec.astype('category').cat.categories"
   ]
  },
  {
   "cell_type": "code",
   "execution_count": 23,
   "metadata": {},
   "outputs": [],
   "source": [
    "object_types = ['Rushing Att', 'Rushing Yds', 'Rushing TD']\n",
    "\n",
    "for i in object_types:\n",
    "    qb[i] = qb[i].astype('float64') "
   ]
  },
  {
   "cell_type": "code",
   "execution_count": 24,
   "metadata": {},
   "outputs": [
    {
     "data": {
      "text/html": [
       "<div>\n",
       "<style scoped>\n",
       "    .dataframe tbody tr th:only-of-type {\n",
       "        vertical-align: middle;\n",
       "    }\n",
       "\n",
       "    .dataframe tbody tr th {\n",
       "        vertical-align: top;\n",
       "    }\n",
       "\n",
       "    .dataframe thead th {\n",
       "        text-align: right;\n",
       "    }\n",
       "</style>\n",
       "<table border=\"1\" class=\"dataframe\">\n",
       "  <thead>\n",
       "    <tr style=\"text-align: right;\">\n",
       "      <th></th>\n",
       "      <th></th>\n",
       "      <th>Rk</th>\n",
       "      <th>Tm</th>\n",
       "      <th>Age</th>\n",
       "      <th>Pos</th>\n",
       "      <th>G</th>\n",
       "      <th>GS</th>\n",
       "      <th>QBrec</th>\n",
       "      <th>Cmp</th>\n",
       "      <th>Att</th>\n",
       "      <th>Cmp%</th>\n",
       "      <th>...</th>\n",
       "      <th>GWD</th>\n",
       "      <th>Pro_Bowl</th>\n",
       "      <th>Rushing Att</th>\n",
       "      <th>Rushing Yds</th>\n",
       "      <th>Rushing TD</th>\n",
       "      <th>Division</th>\n",
       "      <th>Conference</th>\n",
       "      <th>wins</th>\n",
       "      <th>losses</th>\n",
       "      <th>ties</th>\n",
       "    </tr>\n",
       "    <tr>\n",
       "      <th>Year</th>\n",
       "      <th>Player</th>\n",
       "      <th></th>\n",
       "      <th></th>\n",
       "      <th></th>\n",
       "      <th></th>\n",
       "      <th></th>\n",
       "      <th></th>\n",
       "      <th></th>\n",
       "      <th></th>\n",
       "      <th></th>\n",
       "      <th></th>\n",
       "      <th></th>\n",
       "      <th></th>\n",
       "      <th></th>\n",
       "      <th></th>\n",
       "      <th></th>\n",
       "      <th></th>\n",
       "      <th></th>\n",
       "      <th></th>\n",
       "      <th></th>\n",
       "      <th></th>\n",
       "      <th></th>\n",
       "    </tr>\n",
       "  </thead>\n",
       "  <tbody>\n",
       "    <tr>\n",
       "      <th rowspan=\"10\" valign=\"top\">2013</th>\n",
       "      <th>Peyton Manning</th>\n",
       "      <td>1</td>\n",
       "      <td>DEN</td>\n",
       "      <td>37</td>\n",
       "      <td>QB</td>\n",
       "      <td>16</td>\n",
       "      <td>16</td>\n",
       "      <td>13-3-0</td>\n",
       "      <td>450</td>\n",
       "      <td>659</td>\n",
       "      <td>68.3</td>\n",
       "      <td>...</td>\n",
       "      <td>2.0</td>\n",
       "      <td>1</td>\n",
       "      <td>32.0</td>\n",
       "      <td>-31.0</td>\n",
       "      <td>1.0</td>\n",
       "      <td>AFC West</td>\n",
       "      <td>AFC</td>\n",
       "      <td>13</td>\n",
       "      <td>3</td>\n",
       "      <td>0</td>\n",
       "    </tr>\n",
       "    <tr>\n",
       "      <th>Matt Ryan</th>\n",
       "      <td>2</td>\n",
       "      <td>ATL</td>\n",
       "      <td>28</td>\n",
       "      <td>QB</td>\n",
       "      <td>16</td>\n",
       "      <td>16</td>\n",
       "      <td>4-12-0</td>\n",
       "      <td>439</td>\n",
       "      <td>651</td>\n",
       "      <td>67.4</td>\n",
       "      <td>...</td>\n",
       "      <td>1.0</td>\n",
       "      <td>0</td>\n",
       "      <td>17.0</td>\n",
       "      <td>55.0</td>\n",
       "      <td>0.0</td>\n",
       "      <td>NFC South</td>\n",
       "      <td>NFC</td>\n",
       "      <td>4</td>\n",
       "      <td>12</td>\n",
       "      <td>0</td>\n",
       "    </tr>\n",
       "    <tr>\n",
       "      <th>Drew Brees</th>\n",
       "      <td>3</td>\n",
       "      <td>NOR</td>\n",
       "      <td>34</td>\n",
       "      <td>QB</td>\n",
       "      <td>16</td>\n",
       "      <td>16</td>\n",
       "      <td>11-5-0</td>\n",
       "      <td>446</td>\n",
       "      <td>650</td>\n",
       "      <td>68.6</td>\n",
       "      <td>...</td>\n",
       "      <td>2.0</td>\n",
       "      <td>1</td>\n",
       "      <td>35.0</td>\n",
       "      <td>52.0</td>\n",
       "      <td>3.0</td>\n",
       "      <td>NFC South</td>\n",
       "      <td>NFC</td>\n",
       "      <td>11</td>\n",
       "      <td>5</td>\n",
       "      <td>0</td>\n",
       "    </tr>\n",
       "    <tr>\n",
       "      <th>Matthew Stafford</th>\n",
       "      <td>4</td>\n",
       "      <td>DET</td>\n",
       "      <td>25</td>\n",
       "      <td>QB</td>\n",
       "      <td>16</td>\n",
       "      <td>16</td>\n",
       "      <td>7-9-0</td>\n",
       "      <td>371</td>\n",
       "      <td>634</td>\n",
       "      <td>58.5</td>\n",
       "      <td>...</td>\n",
       "      <td>3.0</td>\n",
       "      <td>0</td>\n",
       "      <td>37.0</td>\n",
       "      <td>69.0</td>\n",
       "      <td>2.0</td>\n",
       "      <td>NFC North</td>\n",
       "      <td>NFC</td>\n",
       "      <td>7</td>\n",
       "      <td>9</td>\n",
       "      <td>0</td>\n",
       "    </tr>\n",
       "    <tr>\n",
       "      <th>Tom Brady</th>\n",
       "      <td>5</td>\n",
       "      <td>NWE</td>\n",
       "      <td>36</td>\n",
       "      <td>QB</td>\n",
       "      <td>16</td>\n",
       "      <td>16</td>\n",
       "      <td>12-4-0</td>\n",
       "      <td>380</td>\n",
       "      <td>628</td>\n",
       "      <td>60.5</td>\n",
       "      <td>...</td>\n",
       "      <td>5.0</td>\n",
       "      <td>1</td>\n",
       "      <td>32.0</td>\n",
       "      <td>18.0</td>\n",
       "      <td>0.0</td>\n",
       "      <td>AFC East</td>\n",
       "      <td>AFC</td>\n",
       "      <td>12</td>\n",
       "      <td>4</td>\n",
       "      <td>0</td>\n",
       "    </tr>\n",
       "    <tr>\n",
       "      <th>Joe Flacco</th>\n",
       "      <td>6</td>\n",
       "      <td>BAL</td>\n",
       "      <td>28</td>\n",
       "      <td>QB</td>\n",
       "      <td>16</td>\n",
       "      <td>16</td>\n",
       "      <td>8-8-0</td>\n",
       "      <td>362</td>\n",
       "      <td>614</td>\n",
       "      <td>59.0</td>\n",
       "      <td>...</td>\n",
       "      <td>4.0</td>\n",
       "      <td>0</td>\n",
       "      <td>27.0</td>\n",
       "      <td>131.0</td>\n",
       "      <td>1.0</td>\n",
       "      <td>AFC North</td>\n",
       "      <td>AFC</td>\n",
       "      <td>8</td>\n",
       "      <td>8</td>\n",
       "      <td>0</td>\n",
       "    </tr>\n",
       "    <tr>\n",
       "      <th>Ryan Tannehill</th>\n",
       "      <td>7</td>\n",
       "      <td>MIA</td>\n",
       "      <td>25</td>\n",
       "      <td>QB</td>\n",
       "      <td>16</td>\n",
       "      <td>16</td>\n",
       "      <td>8-8-0</td>\n",
       "      <td>355</td>\n",
       "      <td>588</td>\n",
       "      <td>60.4</td>\n",
       "      <td>...</td>\n",
       "      <td>3.0</td>\n",
       "      <td>0</td>\n",
       "      <td>40.0</td>\n",
       "      <td>238.0</td>\n",
       "      <td>1.0</td>\n",
       "      <td>AFC East</td>\n",
       "      <td>AFC</td>\n",
       "      <td>8</td>\n",
       "      <td>8</td>\n",
       "      <td>0</td>\n",
       "    </tr>\n",
       "    <tr>\n",
       "      <th>Andy Dalton</th>\n",
       "      <td>8</td>\n",
       "      <td>CIN</td>\n",
       "      <td>26</td>\n",
       "      <td>QB</td>\n",
       "      <td>16</td>\n",
       "      <td>16</td>\n",
       "      <td>11-5-0</td>\n",
       "      <td>363</td>\n",
       "      <td>586</td>\n",
       "      <td>61.9</td>\n",
       "      <td>...</td>\n",
       "      <td>3.0</td>\n",
       "      <td>0</td>\n",
       "      <td>61.0</td>\n",
       "      <td>183.0</td>\n",
       "      <td>2.0</td>\n",
       "      <td>Other</td>\n",
       "      <td>Oth</td>\n",
       "      <td>11</td>\n",
       "      <td>5</td>\n",
       "      <td>0</td>\n",
       "    </tr>\n",
       "    <tr>\n",
       "      <th>Ben Roethlisberger</th>\n",
       "      <td>9</td>\n",
       "      <td>PIT</td>\n",
       "      <td>31</td>\n",
       "      <td>QB</td>\n",
       "      <td>16</td>\n",
       "      <td>16</td>\n",
       "      <td>8-8-0</td>\n",
       "      <td>375</td>\n",
       "      <td>584</td>\n",
       "      <td>64.2</td>\n",
       "      <td>...</td>\n",
       "      <td>3.0</td>\n",
       "      <td>0</td>\n",
       "      <td>27.0</td>\n",
       "      <td>99.0</td>\n",
       "      <td>1.0</td>\n",
       "      <td>AFC North</td>\n",
       "      <td>AFC</td>\n",
       "      <td>8</td>\n",
       "      <td>8</td>\n",
       "      <td>0</td>\n",
       "    </tr>\n",
       "    <tr>\n",
       "      <th>Carson Palmer</th>\n",
       "      <td>10</td>\n",
       "      <td>ARI</td>\n",
       "      <td>34</td>\n",
       "      <td>QB</td>\n",
       "      <td>16</td>\n",
       "      <td>16</td>\n",
       "      <td>10-6-0</td>\n",
       "      <td>362</td>\n",
       "      <td>572</td>\n",
       "      <td>63.3</td>\n",
       "      <td>...</td>\n",
       "      <td>4.0</td>\n",
       "      <td>0</td>\n",
       "      <td>27.0</td>\n",
       "      <td>3.0</td>\n",
       "      <td>0.0</td>\n",
       "      <td>NFC West</td>\n",
       "      <td>NFC</td>\n",
       "      <td>10</td>\n",
       "      <td>6</td>\n",
       "      <td>0</td>\n",
       "    </tr>\n",
       "  </tbody>\n",
       "</table>\n",
       "<p>10 rows × 38 columns</p>\n",
       "</div>"
      ],
      "text/plain": [
       "                         Rk   Tm  Age Pos   G  GS   QBrec  Cmp  Att  Cmp%  \\\n",
       "Year Player                                                                 \n",
       "2013 Peyton Manning       1  DEN   37  QB  16  16  13-3-0  450  659  68.3   \n",
       "     Matt Ryan            2  ATL   28  QB  16  16  4-12-0  439  651  67.4   \n",
       "     Drew Brees           3  NOR   34  QB  16  16  11-5-0  446  650  68.6   \n",
       "     Matthew Stafford     4  DET   25  QB  16  16   7-9-0  371  634  58.5   \n",
       "     Tom Brady            5  NWE   36  QB  16  16  12-4-0  380  628  60.5   \n",
       "     Joe Flacco           6  BAL   28  QB  16  16   8-8-0  362  614  59.0   \n",
       "     Ryan Tannehill       7  MIA   25  QB  16  16   8-8-0  355  588  60.4   \n",
       "     Andy Dalton          8  CIN   26  QB  16  16  11-5-0  363  586  61.9   \n",
       "     Ben Roethlisberger   9  PIT   31  QB  16  16   8-8-0  375  584  64.2   \n",
       "     Carson Palmer       10  ARI   34  QB  16  16  10-6-0  362  572  63.3   \n",
       "\n",
       "                         ...   GWD  Pro_Bowl  Rushing Att  Rushing Yds  \\\n",
       "Year Player              ...                                             \n",
       "2013 Peyton Manning      ...   2.0         1         32.0        -31.0   \n",
       "     Matt Ryan           ...   1.0         0         17.0         55.0   \n",
       "     Drew Brees          ...   2.0         1         35.0         52.0   \n",
       "     Matthew Stafford    ...   3.0         0         37.0         69.0   \n",
       "     Tom Brady           ...   5.0         1         32.0         18.0   \n",
       "     Joe Flacco          ...   4.0         0         27.0        131.0   \n",
       "     Ryan Tannehill      ...   3.0         0         40.0        238.0   \n",
       "     Andy Dalton         ...   3.0         0         61.0        183.0   \n",
       "     Ben Roethlisberger  ...   3.0         0         27.0         99.0   \n",
       "     Carson Palmer       ...   4.0         0         27.0          3.0   \n",
       "\n",
       "                         Rushing TD   Division  Conference  wins  losses  ties  \n",
       "Year Player                                                                     \n",
       "2013 Peyton Manning             1.0   AFC West         AFC    13       3     0  \n",
       "     Matt Ryan                  0.0  NFC South         NFC     4      12     0  \n",
       "     Drew Brees                 3.0  NFC South         NFC    11       5     0  \n",
       "     Matthew Stafford           2.0  NFC North         NFC     7       9     0  \n",
       "     Tom Brady                  0.0   AFC East         AFC    12       4     0  \n",
       "     Joe Flacco                 1.0  AFC North         AFC     8       8     0  \n",
       "     Ryan Tannehill             1.0   AFC East         AFC     8       8     0  \n",
       "     Andy Dalton                2.0      Other         Oth    11       5     0  \n",
       "     Ben Roethlisberger         1.0  AFC North         AFC     8       8     0  \n",
       "     Carson Palmer              0.0   NFC West         NFC    10       6     0  \n",
       "\n",
       "[10 rows x 38 columns]"
      ]
     },
     "execution_count": 24,
     "metadata": {},
     "output_type": "execute_result"
    }
   ],
   "source": [
    "qb.head(10)"
   ]
  },
  {
   "cell_type": "code",
   "execution_count": 25,
   "metadata": {
    "scrolled": false
   },
   "outputs": [
    {
     "name": "stdout",
     "output_type": "stream",
     "text": [
      "<class 'pandas.core.frame.DataFrame'>\n",
      "MultiIndex: 258 entries, (2013, Peyton Manning) to (2017, Scott Tolzien)\n",
      "Data columns (total 38 columns):\n",
      "Rk             258 non-null int64\n",
      "Tm             258 non-null object\n",
      "Age            258 non-null int64\n",
      "Pos            258 non-null object\n",
      "G              258 non-null int64\n",
      "GS             258 non-null int64\n",
      "QBrec          258 non-null object\n",
      "Cmp            258 non-null int64\n",
      "Att            258 non-null int64\n",
      "Cmp%           258 non-null float64\n",
      "Yds            258 non-null int64\n",
      "TD             258 non-null int64\n",
      "TD%            258 non-null float64\n",
      "Int            258 non-null int64\n",
      "Int%           258 non-null float64\n",
      "Lng            258 non-null int64\n",
      "Y/A            258 non-null float64\n",
      "AY/A           258 non-null float64\n",
      "Y/C            258 non-null float64\n",
      "Y/G            258 non-null float64\n",
      "Rate           258 non-null float64\n",
      "QBR            257 non-null float64\n",
      "Sk             258 non-null int64\n",
      "Yds2           258 non-null int64\n",
      "NY/A           258 non-null float64\n",
      "ANY/A          258 non-null float64\n",
      "Sk%            258 non-null float64\n",
      "4QC            177 non-null float64\n",
      "GWD            177 non-null float64\n",
      "Pro_Bowl       258 non-null int64\n",
      "Rushing Att    255 non-null float64\n",
      "Rushing Yds    255 non-null float64\n",
      "Rushing TD     255 non-null float64\n",
      "Division       258 non-null object\n",
      "Conference     258 non-null object\n",
      "wins           258 non-null int64\n",
      "losses         258 non-null int64\n",
      "ties           258 non-null int64\n",
      "dtypes: float64(17), int64(16), object(5)\n",
      "memory usage: 79.1+ KB\n"
     ]
    }
   ],
   "source": [
    "qb.info()"
   ]
  },
  {
   "cell_type": "code",
   "execution_count": 26,
   "metadata": {
    "scrolled": false
   },
   "outputs": [],
   "source": [
    "qb.fillna(0, inplace = True)"
   ]
  },
  {
   "cell_type": "code",
   "execution_count": 27,
   "metadata": {},
   "outputs": [],
   "source": [
    "qb_ready = qb.drop(['Rk', 'Tm', 'Pos', 'QBrec', 'Division', 'Conference'], axis = 1)"
   ]
  },
  {
   "cell_type": "code",
   "execution_count": 28,
   "metadata": {
    "scrolled": true
   },
   "outputs": [
    {
     "data": {
      "text/html": [
       "<div>\n",
       "<style scoped>\n",
       "    .dataframe tbody tr th:only-of-type {\n",
       "        vertical-align: middle;\n",
       "    }\n",
       "\n",
       "    .dataframe tbody tr th {\n",
       "        vertical-align: top;\n",
       "    }\n",
       "\n",
       "    .dataframe thead th {\n",
       "        text-align: right;\n",
       "    }\n",
       "</style>\n",
       "<table border=\"1\" class=\"dataframe\">\n",
       "  <thead>\n",
       "    <tr style=\"text-align: right;\">\n",
       "      <th></th>\n",
       "      <th></th>\n",
       "      <th>Age</th>\n",
       "      <th>G</th>\n",
       "      <th>GS</th>\n",
       "      <th>Cmp</th>\n",
       "      <th>Att</th>\n",
       "      <th>Cmp%</th>\n",
       "      <th>Yds</th>\n",
       "      <th>TD</th>\n",
       "      <th>TD%</th>\n",
       "      <th>Int</th>\n",
       "      <th>...</th>\n",
       "      <th>Sk%</th>\n",
       "      <th>4QC</th>\n",
       "      <th>GWD</th>\n",
       "      <th>Pro_Bowl</th>\n",
       "      <th>Rushing Att</th>\n",
       "      <th>Rushing Yds</th>\n",
       "      <th>Rushing TD</th>\n",
       "      <th>wins</th>\n",
       "      <th>losses</th>\n",
       "      <th>ties</th>\n",
       "    </tr>\n",
       "    <tr>\n",
       "      <th>Year</th>\n",
       "      <th>Player</th>\n",
       "      <th></th>\n",
       "      <th></th>\n",
       "      <th></th>\n",
       "      <th></th>\n",
       "      <th></th>\n",
       "      <th></th>\n",
       "      <th></th>\n",
       "      <th></th>\n",
       "      <th></th>\n",
       "      <th></th>\n",
       "      <th></th>\n",
       "      <th></th>\n",
       "      <th></th>\n",
       "      <th></th>\n",
       "      <th></th>\n",
       "      <th></th>\n",
       "      <th></th>\n",
       "      <th></th>\n",
       "      <th></th>\n",
       "      <th></th>\n",
       "      <th></th>\n",
       "    </tr>\n",
       "  </thead>\n",
       "  <tbody>\n",
       "    <tr>\n",
       "      <th rowspan=\"10\" valign=\"top\">2013</th>\n",
       "      <th>Peyton Manning</th>\n",
       "      <td>37</td>\n",
       "      <td>16</td>\n",
       "      <td>16</td>\n",
       "      <td>450</td>\n",
       "      <td>659</td>\n",
       "      <td>68.3</td>\n",
       "      <td>5477</td>\n",
       "      <td>55</td>\n",
       "      <td>8.3</td>\n",
       "      <td>10</td>\n",
       "      <td>...</td>\n",
       "      <td>2.7</td>\n",
       "      <td>2.0</td>\n",
       "      <td>2.0</td>\n",
       "      <td>1</td>\n",
       "      <td>32.0</td>\n",
       "      <td>-31.0</td>\n",
       "      <td>1.0</td>\n",
       "      <td>13</td>\n",
       "      <td>3</td>\n",
       "      <td>0</td>\n",
       "    </tr>\n",
       "    <tr>\n",
       "      <th>Matt Ryan</th>\n",
       "      <td>28</td>\n",
       "      <td>16</td>\n",
       "      <td>16</td>\n",
       "      <td>439</td>\n",
       "      <td>651</td>\n",
       "      <td>67.4</td>\n",
       "      <td>4515</td>\n",
       "      <td>26</td>\n",
       "      <td>4.0</td>\n",
       "      <td>17</td>\n",
       "      <td>...</td>\n",
       "      <td>6.3</td>\n",
       "      <td>1.0</td>\n",
       "      <td>1.0</td>\n",
       "      <td>0</td>\n",
       "      <td>17.0</td>\n",
       "      <td>55.0</td>\n",
       "      <td>0.0</td>\n",
       "      <td>4</td>\n",
       "      <td>12</td>\n",
       "      <td>0</td>\n",
       "    </tr>\n",
       "    <tr>\n",
       "      <th>Drew Brees</th>\n",
       "      <td>34</td>\n",
       "      <td>16</td>\n",
       "      <td>16</td>\n",
       "      <td>446</td>\n",
       "      <td>650</td>\n",
       "      <td>68.6</td>\n",
       "      <td>5162</td>\n",
       "      <td>39</td>\n",
       "      <td>6.0</td>\n",
       "      <td>12</td>\n",
       "      <td>...</td>\n",
       "      <td>5.4</td>\n",
       "      <td>2.0</td>\n",
       "      <td>2.0</td>\n",
       "      <td>1</td>\n",
       "      <td>35.0</td>\n",
       "      <td>52.0</td>\n",
       "      <td>3.0</td>\n",
       "      <td>11</td>\n",
       "      <td>5</td>\n",
       "      <td>0</td>\n",
       "    </tr>\n",
       "    <tr>\n",
       "      <th>Matthew Stafford</th>\n",
       "      <td>25</td>\n",
       "      <td>16</td>\n",
       "      <td>16</td>\n",
       "      <td>371</td>\n",
       "      <td>634</td>\n",
       "      <td>58.5</td>\n",
       "      <td>4650</td>\n",
       "      <td>29</td>\n",
       "      <td>4.6</td>\n",
       "      <td>19</td>\n",
       "      <td>...</td>\n",
       "      <td>3.5</td>\n",
       "      <td>2.0</td>\n",
       "      <td>3.0</td>\n",
       "      <td>0</td>\n",
       "      <td>37.0</td>\n",
       "      <td>69.0</td>\n",
       "      <td>2.0</td>\n",
       "      <td>7</td>\n",
       "      <td>9</td>\n",
       "      <td>0</td>\n",
       "    </tr>\n",
       "    <tr>\n",
       "      <th>Tom Brady</th>\n",
       "      <td>36</td>\n",
       "      <td>16</td>\n",
       "      <td>16</td>\n",
       "      <td>380</td>\n",
       "      <td>628</td>\n",
       "      <td>60.5</td>\n",
       "      <td>4343</td>\n",
       "      <td>25</td>\n",
       "      <td>4.0</td>\n",
       "      <td>11</td>\n",
       "      <td>...</td>\n",
       "      <td>6.0</td>\n",
       "      <td>5.0</td>\n",
       "      <td>5.0</td>\n",
       "      <td>1</td>\n",
       "      <td>32.0</td>\n",
       "      <td>18.0</td>\n",
       "      <td>0.0</td>\n",
       "      <td>12</td>\n",
       "      <td>4</td>\n",
       "      <td>0</td>\n",
       "    </tr>\n",
       "    <tr>\n",
       "      <th>Joe Flacco</th>\n",
       "      <td>28</td>\n",
       "      <td>16</td>\n",
       "      <td>16</td>\n",
       "      <td>362</td>\n",
       "      <td>614</td>\n",
       "      <td>59.0</td>\n",
       "      <td>3912</td>\n",
       "      <td>19</td>\n",
       "      <td>3.1</td>\n",
       "      <td>22</td>\n",
       "      <td>...</td>\n",
       "      <td>7.3</td>\n",
       "      <td>2.0</td>\n",
       "      <td>4.0</td>\n",
       "      <td>0</td>\n",
       "      <td>27.0</td>\n",
       "      <td>131.0</td>\n",
       "      <td>1.0</td>\n",
       "      <td>8</td>\n",
       "      <td>8</td>\n",
       "      <td>0</td>\n",
       "    </tr>\n",
       "    <tr>\n",
       "      <th>Ryan Tannehill</th>\n",
       "      <td>25</td>\n",
       "      <td>16</td>\n",
       "      <td>16</td>\n",
       "      <td>355</td>\n",
       "      <td>588</td>\n",
       "      <td>60.4</td>\n",
       "      <td>3913</td>\n",
       "      <td>24</td>\n",
       "      <td>4.1</td>\n",
       "      <td>17</td>\n",
       "      <td>...</td>\n",
       "      <td>9.0</td>\n",
       "      <td>4.0</td>\n",
       "      <td>3.0</td>\n",
       "      <td>0</td>\n",
       "      <td>40.0</td>\n",
       "      <td>238.0</td>\n",
       "      <td>1.0</td>\n",
       "      <td>8</td>\n",
       "      <td>8</td>\n",
       "      <td>0</td>\n",
       "    </tr>\n",
       "    <tr>\n",
       "      <th>Andy Dalton</th>\n",
       "      <td>26</td>\n",
       "      <td>16</td>\n",
       "      <td>16</td>\n",
       "      <td>363</td>\n",
       "      <td>586</td>\n",
       "      <td>61.9</td>\n",
       "      <td>4293</td>\n",
       "      <td>33</td>\n",
       "      <td>5.6</td>\n",
       "      <td>20</td>\n",
       "      <td>...</td>\n",
       "      <td>4.7</td>\n",
       "      <td>0.0</td>\n",
       "      <td>3.0</td>\n",
       "      <td>0</td>\n",
       "      <td>61.0</td>\n",
       "      <td>183.0</td>\n",
       "      <td>2.0</td>\n",
       "      <td>11</td>\n",
       "      <td>5</td>\n",
       "      <td>0</td>\n",
       "    </tr>\n",
       "    <tr>\n",
       "      <th>Ben Roethlisberger</th>\n",
       "      <td>31</td>\n",
       "      <td>16</td>\n",
       "      <td>16</td>\n",
       "      <td>375</td>\n",
       "      <td>584</td>\n",
       "      <td>64.2</td>\n",
       "      <td>4261</td>\n",
       "      <td>28</td>\n",
       "      <td>4.8</td>\n",
       "      <td>14</td>\n",
       "      <td>...</td>\n",
       "      <td>6.7</td>\n",
       "      <td>1.0</td>\n",
       "      <td>3.0</td>\n",
       "      <td>0</td>\n",
       "      <td>27.0</td>\n",
       "      <td>99.0</td>\n",
       "      <td>1.0</td>\n",
       "      <td>8</td>\n",
       "      <td>8</td>\n",
       "      <td>0</td>\n",
       "    </tr>\n",
       "    <tr>\n",
       "      <th>Carson Palmer</th>\n",
       "      <td>34</td>\n",
       "      <td>16</td>\n",
       "      <td>16</td>\n",
       "      <td>362</td>\n",
       "      <td>572</td>\n",
       "      <td>63.3</td>\n",
       "      <td>4274</td>\n",
       "      <td>24</td>\n",
       "      <td>4.2</td>\n",
       "      <td>22</td>\n",
       "      <td>...</td>\n",
       "      <td>6.7</td>\n",
       "      <td>3.0</td>\n",
       "      <td>4.0</td>\n",
       "      <td>0</td>\n",
       "      <td>27.0</td>\n",
       "      <td>3.0</td>\n",
       "      <td>0.0</td>\n",
       "      <td>10</td>\n",
       "      <td>6</td>\n",
       "      <td>0</td>\n",
       "    </tr>\n",
       "  </tbody>\n",
       "</table>\n",
       "<p>10 rows × 32 columns</p>\n",
       "</div>"
      ],
      "text/plain": [
       "                         Age   G  GS  Cmp  Att  Cmp%   Yds  TD  TD%  Int  \\\n",
       "Year Player                                                                \n",
       "2013 Peyton Manning       37  16  16  450  659  68.3  5477  55  8.3   10   \n",
       "     Matt Ryan            28  16  16  439  651  67.4  4515  26  4.0   17   \n",
       "     Drew Brees           34  16  16  446  650  68.6  5162  39  6.0   12   \n",
       "     Matthew Stafford     25  16  16  371  634  58.5  4650  29  4.6   19   \n",
       "     Tom Brady            36  16  16  380  628  60.5  4343  25  4.0   11   \n",
       "     Joe Flacco           28  16  16  362  614  59.0  3912  19  3.1   22   \n",
       "     Ryan Tannehill       25  16  16  355  588  60.4  3913  24  4.1   17   \n",
       "     Andy Dalton          26  16  16  363  586  61.9  4293  33  5.6   20   \n",
       "     Ben Roethlisberger   31  16  16  375  584  64.2  4261  28  4.8   14   \n",
       "     Carson Palmer        34  16  16  362  572  63.3  4274  24  4.2   22   \n",
       "\n",
       "                         ...   Sk%  4QC  GWD  Pro_Bowl  Rushing Att  \\\n",
       "Year Player              ...                                          \n",
       "2013 Peyton Manning      ...   2.7  2.0  2.0         1         32.0   \n",
       "     Matt Ryan           ...   6.3  1.0  1.0         0         17.0   \n",
       "     Drew Brees          ...   5.4  2.0  2.0         1         35.0   \n",
       "     Matthew Stafford    ...   3.5  2.0  3.0         0         37.0   \n",
       "     Tom Brady           ...   6.0  5.0  5.0         1         32.0   \n",
       "     Joe Flacco          ...   7.3  2.0  4.0         0         27.0   \n",
       "     Ryan Tannehill      ...   9.0  4.0  3.0         0         40.0   \n",
       "     Andy Dalton         ...   4.7  0.0  3.0         0         61.0   \n",
       "     Ben Roethlisberger  ...   6.7  1.0  3.0         0         27.0   \n",
       "     Carson Palmer       ...   6.7  3.0  4.0         0         27.0   \n",
       "\n",
       "                         Rushing Yds  Rushing TD  wins  losses  ties  \n",
       "Year Player                                                           \n",
       "2013 Peyton Manning            -31.0         1.0    13       3     0  \n",
       "     Matt Ryan                  55.0         0.0     4      12     0  \n",
       "     Drew Brees                 52.0         3.0    11       5     0  \n",
       "     Matthew Stafford           69.0         2.0     7       9     0  \n",
       "     Tom Brady                  18.0         0.0    12       4     0  \n",
       "     Joe Flacco                131.0         1.0     8       8     0  \n",
       "     Ryan Tannehill            238.0         1.0     8       8     0  \n",
       "     Andy Dalton               183.0         2.0    11       5     0  \n",
       "     Ben Roethlisberger         99.0         1.0     8       8     0  \n",
       "     Carson Palmer               3.0         0.0    10       6     0  \n",
       "\n",
       "[10 rows x 32 columns]"
      ]
     },
     "execution_count": 28,
     "metadata": {},
     "output_type": "execute_result"
    }
   ],
   "source": [
    "qb_ready.head(10)"
   ]
  },
  {
   "cell_type": "code",
   "execution_count": 29,
   "metadata": {
    "scrolled": true
   },
   "outputs": [
    {
     "name": "stdout",
     "output_type": "stream",
     "text": [
      "<class 'pandas.core.frame.DataFrame'>\n",
      "MultiIndex: 258 entries, (2013, Peyton Manning) to (2017, Scott Tolzien)\n",
      "Data columns (total 32 columns):\n",
      "Age            258 non-null int64\n",
      "G              258 non-null int64\n",
      "GS             258 non-null int64\n",
      "Cmp            258 non-null int64\n",
      "Att            258 non-null int64\n",
      "Cmp%           258 non-null float64\n",
      "Yds            258 non-null int64\n",
      "TD             258 non-null int64\n",
      "TD%            258 non-null float64\n",
      "Int            258 non-null int64\n",
      "Int%           258 non-null float64\n",
      "Lng            258 non-null int64\n",
      "Y/A            258 non-null float64\n",
      "AY/A           258 non-null float64\n",
      "Y/C            258 non-null float64\n",
      "Y/G            258 non-null float64\n",
      "Rate           258 non-null float64\n",
      "QBR            258 non-null float64\n",
      "Sk             258 non-null int64\n",
      "Yds2           258 non-null int64\n",
      "NY/A           258 non-null float64\n",
      "ANY/A          258 non-null float64\n",
      "Sk%            258 non-null float64\n",
      "4QC            258 non-null float64\n",
      "GWD            258 non-null float64\n",
      "Pro_Bowl       258 non-null int64\n",
      "Rushing Att    258 non-null float64\n",
      "Rushing Yds    258 non-null float64\n",
      "Rushing TD     258 non-null float64\n",
      "wins           258 non-null int64\n",
      "losses         258 non-null int64\n",
      "ties           258 non-null int64\n",
      "dtypes: float64(17), int64(15)\n",
      "memory usage: 67.0+ KB\n"
     ]
    }
   ],
   "source": [
    "qb_ready.info()"
   ]
  },
  {
   "cell_type": "markdown",
   "metadata": {},
   "source": [
    "## Prep data from Sci-Kit Learn Implementation"
   ]
  },
  {
   "cell_type": "markdown",
   "metadata": {},
   "source": [
    "### Splitting into Training and Testing Data"
   ]
  },
  {
   "cell_type": "code",
   "execution_count": 30,
   "metadata": {},
   "outputs": [],
   "source": [
    "train, test = train_test_split(qb_ready, test_size = 0.25, random_state = 123)"
   ]
  },
  {
   "cell_type": "markdown",
   "metadata": {},
   "source": [
    "### Standardizing Data"
   ]
  },
  {
   "cell_type": "code",
   "execution_count": 31,
   "metadata": {
    "scrolled": false
   },
   "outputs": [],
   "source": [
    "scaler = StandardScaler()\n",
    "scaler.fit(train)\n",
    "\n",
    "train_stan = scaler.transform(train) \n",
    "test_stan = scaler.transform(test)"
   ]
  },
  {
   "cell_type": "markdown",
   "metadata": {},
   "source": [
    "### PCA Dimension Determination"
   ]
  },
  {
   "cell_type": "code",
   "execution_count": 32,
   "metadata": {
    "scrolled": true
   },
   "outputs": [
    {
     "data": {
      "text/plain": [
       "Text(0, 0.5, 'cumulative explained variance')"
      ]
     },
     "execution_count": 32,
     "metadata": {},
     "output_type": "execute_result"
    },
    {
     "data": {
      "image/png": "[encoded data removed]",
      "text/plain": [
       "<Figure size 432x288 with 1 Axes>"
      ]
     },
     "metadata": {
      "needs_background": "light"
     },
     "output_type": "display_data"
    }
   ],
   "source": [
    "pca_fit = PCA().fit(train_stan)\n",
    "plt.plot(np.cumsum(pca_fit.explained_variance_ratio_))\n",
    "plt.xlabel('number of components')\n",
    "plt.ylabel('cumulative explained variance')"
   ]
  },
  {
   "cell_type": "markdown",
   "metadata": {},
   "source": [
    "### Using PCA to for dimension reduction"
   ]
  },
  {
   "cell_type": "code",
   "execution_count": 33,
   "metadata": {},
   "outputs": [],
   "source": [
    "pca = PCA(n_components = 10)"
   ]
  },
  {
   "cell_type": "code",
   "execution_count": 34,
   "metadata": {},
   "outputs": [],
   "source": [
    "clusters = {}"
   ]
  },
  {
   "cell_type": "code",
   "execution_count": 35,
   "metadata": {},
   "outputs": [],
   "source": [
    "for i in range(2,8):\n",
    "    kmeans = KMeans(n_clusters = i)\n",
    "    steps = [('PCA', pca), ('KMeans', kmeans)]\n",
    "    pipeline = Pipeline(steps)\n",
    "    pipeline.fit(train_stan)\n",
    "    clusters[i] = kmeans.labels_"
   ]
  },
  {
   "cell_type": "markdown",
   "metadata": {},
   "source": [
    "### Visualizing the clustering"
   ]
  },
  {
   "cell_type": "code",
   "execution_count": 36,
   "metadata": {},
   "outputs": [
    {
     "data": {
      "text/plain": [
       "(193, 2)"
      ]
     },
     "execution_count": 36,
     "metadata": {},
     "output_type": "execute_result"
    }
   ],
   "source": [
    "pca_visual = PCA(n_components = 2)\n",
    "projected_values = pca_visual.fit_transform(train_stan)\n",
    "projected_values.shape"
   ]
  },
  {
   "cell_type": "code",
   "execution_count": 37,
   "metadata": {},
   "outputs": [
    {
     "data": {
      "image/png": "[encoded data removed]",
      "text/plain": [
       "<Figure size 432x288 with 1 Axes>"
      ]
     },
     "metadata": {
      "needs_background": "light"
     },
     "output_type": "display_data"
    },
    {
     "data": {
      "image/png": "[encoded data removed]",
      "text/plain": [
       "<Figure size 432x288 with 1 Axes>"
      ]
     },
     "metadata": {
      "needs_background": "light"
     },
     "output_type": "display_data"
    },
    {
     "data": {
      "image/png": "[encoded data removed]",
      "text/plain": [
       "<Figure size 432x288 with 1 Axes>"
      ]
     },
     "metadata": {
      "needs_background": "light"
     },
     "output_type": "display_data"
    },
    {
     "data": {
      "image/png": "[encoded data removed]",
      "text/plain": [
       "<Figure size 432x288 with 1 Axes>"
      ]
     },
     "metadata": {
      "needs_background": "light"
     },
     "output_type": "display_data"
    },
    {
     "data": {
      "image/png": "[encoded data removed]",
      "text/plain": [
       "<Figure size 432x288 with 1 Axes>"
      ]
     },
     "metadata": {
      "needs_background": "light"
     },
     "output_type": "display_data"
    },
    {
     "data": {
      "image/png": "[encoded data removed]",
      "text/plain": [
       "<Figure size 432x288 with 1 Axes>"
      ]
     },
     "metadata": {
      "needs_background": "light"
     },
     "output_type": "display_data"
    }
   ],
   "source": [
    "for i in range(2,8):\n",
    "    plt.scatter(projected_values[:,0], projected_values[:,1],\n",
    "               alpha = 1, c = clusters[i])\n",
    "    plt.xlabel('Component 1')\n",
    "    plt.ylabel('Component 2')\n",
    "    plt.title('{} Clusters'.format(i))\n",
    "    plt.show()"
   ]
  }
 ],
 "metadata": {
  "kernelspec": {
   "display_name": "Python 3",
   "language": "python",
   "name": "python3"
  },
  "language_info": {
   "codemirror_mode": {
    "name": "ipython",
    "version": 3
   },
   "file_extension": ".py",
   "mimetype": "text/x-python",
   "name": "python",
   "nbconvert_exporter": "python",
   "pygments_lexer": "ipython3",
   "version": "3.6.6"
  }
 },
 "nbformat": 4,
 "nbformat_minor": 2
}
