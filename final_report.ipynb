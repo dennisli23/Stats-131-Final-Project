{
 "cells": [
  {
   "cell_type": "markdown",
   "metadata": {},
   "source": [
    "# Stats 131 Final Project"
   ]
  },
  {
   "cell_type": "markdown",
   "metadata": {},
   "source": [
    "## Project Overview"
   ]
  },
  {
   "cell_type": "markdown",
   "metadata": {},
   "source": [
    "In the National Football League (NFL), a franchise's starting quarterback is often considered the most important position and player on the team. A quarterback in the NFL is tasked with directing the offense and being an extension of the coaching staff whom call plays for the quarterback relay to his team. Because of their critical importance to their team, a quarterback is often the highest paid player on his respective team. There is a narrative in the NFL that a team cannot excel without good quarterback. With that said, our project aims to using Principal Component Analysis and K-Means Clustering to see whether or not we can separate quarterbacks into distinct tiers or clusters to see whether or not we can see what makes up an elite quarterback in the NFL."
   ]
  },
  {
   "cell_type": "markdown",
   "metadata": {},
   "source": [
    "## Background Information\n",
    "\n",
    "### Football Terms\n",
    "\n",
    "- <b>First-String Players</b> The players on a football team who play most, if not all, of the teams offensive or defensive plays. These players are deemed as the starters.\n",
    "- <b>Possession:</b> When a team has the football and is trying to score.\n",
    "- <b>Rushing:</b> When a player is handed off the ball by the quarterback to run with the football.\n",
    "- <b>Reception:</b> When a player catches the football from a pass.\n",
    "- <b>Target:</b> A receiver is considered to be targeted by the quarterback when a pass is thrown in his direction.\n",
    "- <b>Rushing the passer:</b> Different from rushing, this is when players on the defense try to break past the offensive line to sack the quarterback.\n",
    "- <b>Tackle:</b> Taking down a player when they have the football.\n",
    "- <b>Sack:</b> Tackling the quarterback when he was trying to make a passing play.\n",
    "- <b>Blocking:</b> Cutting off a defensive player's path to tackling the offensive player who has the ball.\n",
    "- <b>Snap:</b> When the center gives the ball from under his legs to the quarterback, thus starting the play.\n",
    "- <b>Line of Scrimmage:</b> The imaginary line between the two teams where the football is snapped. \n",
    "- <b>Down (verb):</b> When the ball carrier is tackled to the ground by the defensive team. A player is considered to be down if any part of his body other than his hands or feet touch the ground while having contact with a defensive player. A ball carrier can also be considered down if he runs out of bounds.\n",
    "- <b>Down (noun):</b> A play. A team is given 4 sets of downs per offensive possession. \n",
    "- <b>First Down:</b> Advancing the ball 10 yards past the line of scrimmage. Obtaining a first down results in a fresh set of 4 downs for the offensive team. \n",
    "- <b>End Zone:</b> The area at the ends of the field where a team must cross into to score.\n",
    "- <b>Goal Line:</b> The line that designates the beginning of the endzone.\n",
    "- <b>Touchdown:</b> When a team gets into the opposing team's endzone. Touchdowns are worth 6 points.\n",
    "- <b>Field Goal:</b> When a kicker kicks the football between the goal posts. Field Goals are worth 3 points.\n",
    "- <b>Extra Point:</b> When a team scores a touchdown, they have the option to kick the ball through the goal posts from 15 yards from the goal line to score 1 point.\n",
    "- <b>2-Point Conversion:</b> After scoring a touchdown, the team can opt to run one offensive play ran from the 2 yard line that is worth 2 points if the team reaches the endzone.\n",
    "- <b>Safety:</b> When a ball carrier is tackled in their own endzone. A safety is worth 2 points to the defensive team and awards possession to the defensive team. \n",
    "- <b>Checkdown:</b> A short, dump-off pass, usually to a team's running back, when all wide receivers are covered.\n",
    "- <b>Offensive Line:</b> Players on the offense who line up in front of the quarterback at the line of scrimmage. Consist of the Center, Offesive Guard, and Offensive Tackles. \n",
    "- <b>Defensive Line:</b> Players on the defense who line up opposite of the offensive line to try to sack the quarterback. Consist of the Defensive Tackles and Defensive Ends.\n",
    "- <b>Defensive Backs:</b> Defensive Players who try to prevent the wide receivers catching passes.\n",
    "- <b>Field Position:</b> Where the offensive team is on the field\n",
    "- <b>Punting:</b> On 4th down, a team can punt the ball back towards their opponents own endzone to prevent their opponent from having good field position.\n",
    "- <b>Turnover:</b>: When the offensive team gives up the ball to the defensive team. A turnover can be achieved on downs, an interception, or fumble.\n",
    "- <b>Interception/Pick:</b> When a defensive player catches a pass from the offensive team's quarterback. Results in a change in possession. \n",
    "- <b>Fumble:</b> When a ball carrier loses the football. If the ball is recovered by the offensive team, they retain possession. If the ball is recovered by the defensive team, it is a lost fumble and the defensive team now has possession. After a fumble, the next down is started at the spot where the football was recovered.  \n",
    "- <b>Turnover on Downs:</b> When a team fails to advance the ball 10 yards past the line of scrimmage. If a team punts the ball, it is not considered a turnover on downs.\n",
    "- <b>Audible:</b> When the quarterback changes the play at the line of scrimmage.\n",
    "- <b>Blitz:</b> When extra players, other than the defensive lineman, are sent to try to sack the quarterback.\n",
    "- <b>Lateral:</b> A pass thrown parallel to or in the backwards direction from a team's goal line.\n",
    "- <b>Red Zone:</b> When the offensive team is within 20 yards of the opposing team's endzone.\n",
    "- <b>Hail Mary:</b> A very long, desperation pass made in an attempt to score. Usually these passes occur at the end of games where the offensive team must score to win the game. Hail Marys are usually unsuccessful.\n",
    "- <b>Kickoff:</b> The start of a new possesion after the other team has scored. The opposing team kicks the ball toward the other team's endzone.\n",
    "- <b>Onside Kick:</b> During a kickoff, a team may elect to kick the ball a very short distance in an attempt to get another offensive possession. The onside kick must travel at least 15 yards before player on the kicking team may touch the ball, but a kicking team player is allowed to touch the ball before the 15 yard distance if a player on the opposing team touches the ball first.\n",
    "- <b>Touchback:</b> When a punt or kick during a kickoff travels beyond the receiving team's endzone. The ball is placed on the team's own 25 yard line as a result of a touchback.\n",
    "- <b>Field Goal Range:</b> When a team is within the ideal range to attempt a field goal. Field goal range is usually around 50 yards from the goal posts as attempted field goals beyond this distance have a low conversion rate."
   ]
  },
  {
   "cell_type": "markdown",
   "metadata": {},
   "source": [
    "### Basics of Football\n",
    "\n",
    "In a football game, a team's objective is to move the football down the field with the main goal of reaching the other team's endzone, thus scoring a touchdown which is worth 6 points. A team can move the football through rushing or passing the football. A team is given 4 sets of down for each offensive possession and a fresh set of 4 downs are given everytime a team gets a first down. After scoring a touchdown, a team can either kick an extra point, a kick attempt from 33 yards out that is worth 1 point if converted or go for a 2-point conversion, one offensive play from the 2 yard line that is worth 2 points if the team reachs the endzone. If a team is unable to score a touchdown, they instead settle for a field goal, which is worth 3 points. A team can also commit a turnover through an interception, lost fumble, or a safety. If a team fails to obtain a first down after 3 downs, they can either punt the ball to the other team or \"go for it\" and try to obtain a first down on their 4th down. Failing to convert on 4th down results in giving possesion to the other team on the line of scrimmage. \n",
    "\n",
    "When a team is on defense, their objective is to stop the the other team from scoring. Being able to hold the opposing team to a field goal is considered satisfactory but ideally, a defense is able force the opposing team to punt or commit a turnover. Special teams are responsible to the change of possesion plays: kickoffs and punts. During kickoffs punts, the kicking team is attempting to give the worst possible field position to the receiving team. The receiving team can either return the football (catch the kick and run it) in an attempt to gain better field position or possibly even score a touchdown, kneel in the endzone, resulting in a touchback, or call for a fair catch, resulting in the offense starting from the spot of the catch."
   ]
  },
  {
   "cell_type": "markdown",
   "metadata": {},
   "source": [
    "### Positions\n",
    "\n",
    "##### Offensive:\n",
    "- <b>Quarterback</b>\n",
    "    - Considered the most important position on a football team. A quarterback relays the coaching staff's plays to the rest of the offense, however it is up to a quarterback to call an audible to change the play or run the designated play if he sees something in the other's teams defense formation. A quarterback can be lined up under the center or in shotgun. Quarterbacks have three options when they receive the ball: make a forward pass, hand the ball off to the running back, or run the football themselves.\n",
    "    \n",
    "- <b>Running Back</b>\n",
    "    - Running backs are players who line up behind the line of scrimmage either behind or next to the quarterback depending on the play. They either are handed off the football by the quarterback to rush the football, block the pass-rushers on the other team, or leak out beyond the line of scrimmage to receive a checkdown from the quarterback.\n",
    "    \n",
    "- <b>Wide Receiver</b>\n",
    "    - Wide Receivers catch passes from the quarterback. The main objective is to run routes to get open for their quarterback to pass them the ball. A good wide receiver has good hands, and speed. Wide receivers can line up behind the line of scrimmage, out wide (outermost receiver on the line of scrimmage), or in the slot (in between the receiver out wide and the offensive line).\n",
    "- <b>Tight End</b>\n",
    "    - Tight Ends are considered to be hybrid players who can function as an extra blocker to protect the quarterback or run routs as a receiver. Most Tight Ends are blocking tight ends who only occasionally catch passes. The best tight ends in the NFL are good at both catching passes as well as blocking. Tight ends are usually targetted in the red zone as they are usually bigger and stronger that wide receivers with the average height and weight of a tight end being 6'3\" and 240 lbs respectively. \n",
    "- <b>Center</b>\n",
    "    - Snaps the ball to the quarterback, thus starting the offensive play. Centers also block and protect the quarterback from being sacked. As part of the offensive line, they also block to open up running lanes on rushing plays.\n",
    "- <b>Right/Left Guard</b>\n",
    "    - Protects the quarterback from the opposing team's defensive tackles. As part of the offensive line, they also block to open up running lanes on rushing plays.\n",
    "- <b>Right/Left Tackle</b>\n",
    "    - Protects the quarterback from the opposing team's defensive ends. As part of the offensive line, they also block to open up running lanes on rushing plays.\n",
    "- <b>Fullback</b>\n",
    "    - An extra blocker that lines up behind the quarterback but in front of the running back. Because they are usually only used on rushing plays, their main objective is to help further clear lanes for the running back to run the ball, although they can also rush the ball and catch the ball in need be.\n",
    "\n",
    "##### Defensive:\n",
    "- <b>Defensive End</b>\n",
    "    - A defensive end rushes the passer and stops the opposing team's rusher from running around the outside of the line.\n",
    "- <b>Defensive Tackle</b>\n",
    "    - Similar to a defensive end, defensive tackles rush the passer and stop the opposing team's rusher from running through the middle on rushing plays.\n",
    "- <b>Middle Linebacker</b>\n",
    "    - Considered to the \"quarterback on defense\", middle linebackers primarily call the team's defense plays and must be able adjust to multiple situations. Depending on the play, a middle linebacker may stop the running back if he has broken past the defensive line, cover the middle of the field on passing plays, or rush the passer on blitz plays.\n",
    "- <b>Outside Linebacker</b>\n",
    "    - Outside linebackers often cover tight ends on their routes, or rush the passer when the tight end is blocking to protect his quarterback. Outside linebackers are also responsible for stopping the running back if he has broken past the defensive end.\n",
    "- <b>Cornerback</b>\n",
    "    - Cornerbacks are responsible for covering the other team's opposing wide receiver and prevent them from catching passes from the opposing team's quarterback.\n",
    "- <b>Safety</b>\n",
    "    - Safetys are considered to be the last line of defense. Strong safetys are usually bigger and stronger and add a layer of extra protection on run plays while free safetys usually help cornerbacks with covering long pass plays. A free safety might help a cornerback double team an opposing team's number 1 wide receiver.\n",
    "\n",
    "##### Special Teams:\n",
    "- <b>Kicker</b>\n",
    "    - Responisble for kicking field goals and extra points. Some kickers also kick on kickoffs.\n",
    "- <b>Holder</b>\n",
    "    - Holds the ball on the ground for the kicker to kick.\n",
    "- <b>Long Snapper</b>\n",
    "    - Similar to a center but for special teams, a long snapper snaps the ball holder.\n",
    "- <b>Punter</b>\n",
    "    - Responsible for punting the ball on punt plays. Some punters kick for kickoffs.\n",
    "- <b>Kick/Punt Returner</b>\n",
    "    - A receiving team's player who catches and returns the ball on kickoffs and punts. Usually the kick/punt returner is a young wide receiver who either is not in the starting lineup or is does not play a large role during offensive plays.\n",
    "- <b>Upback</b>\n",
    "    - Upbacks protect the punter, acting as the last line of defense to ensure the punt is not blocked.\n",
    "- <b>Gunner</b>\n",
    "    - Players designated in running down the field to tackle the kick/punt returner.\n",
    "- <b>Jammer</b>\n",
    "    - Players designated to block the gunners."
   ]
  },
  {
   "cell_type": "markdown",
   "metadata": {},
   "source": [
    "### General Structure of NFL\n",
    "The National Football League (NFL) is an American professional football league that consists of 32 teams where 16 teams are part of the National Football Conference (NFC) and the other 16 teams are part of the American Football Conference (AFC). In addition to  being separated into 2 distinct conferences, the teams within a conference are also divided into 4 divisions. The divisions are the following:\n",
    "\n",
    "##### American Football Conference (AFC)\n",
    "- AFC East\n",
    "    - New England Patriots (NWE)\n",
    "    - Miami Dolphins (MIA)\n",
    "    - Buffalo Bills (BUF)\n",
    "    - New York Jets (NYJ)\n",
    "- AFC West\n",
    "    - Kansas City Chiefs (KAN)\n",
    "    - Los Angeles Chargers (LAC)\n",
    "    - Denver Broncos (DEN)\n",
    "    - Oakland Raiders (OAK)\n",
    "- AFC North\n",
    "    - Pittsburgh Steelers (PIT)\n",
    "    - Baltimore Ravens (BAL)\n",
    "    - Cincinnati Bengals (CIN)\n",
    "    - Cleveland Browns (CLE)\n",
    "- AFC South\n",
    "    - Houston Texans (HOU)\n",
    "    - Indianapolis Colts (IND)\n",
    "    - Tennessee Titans (TEN)\n",
    "    - Jacksonville Jaguars (JAX)\n",
    "\n",
    "<br>\n",
    "\n",
    "##### National Football Conference (NFC)\n",
    "- NFC East\n",
    "    - Dallas Cowboys (DAL)\n",
    "    - Philadelphia Eagles (PHI)\n",
    "    - Washington Redskins (WAS)\n",
    "    - New York Giants (NYG)\n",
    "- NFC West\n",
    "    - Los Angeles Rams (LAR)\n",
    "    - Seattle Seahawks (SEA)\n",
    "    - Arizona Cardinals (ARI)\n",
    "    - San Francisco 49ers (SFO)\n",
    "- NFC North\n",
    "    - Chicago Bears (CHI)\n",
    "    - Minnesota Vikings (MIN)\n",
    "    - Green Bay Packers (GNB)\n",
    "    - Detroit Lions (DET)\n",
    "- NFC South\n",
    "    - New Orleans Saints (NOR)\n",
    "    - Carolina Panthers (CAR)\n",
    "    - Tampa Bay Buccaneers (TAM)\n",
    "    - Atlanta Falcons (ATL)\n"
   ]
  },
  {
   "cell_type": "markdown",
   "metadata": {},
   "source": [
    "### Structure of NFL season\n",
    "\n",
    "#### Preseason\n",
    "The NFL preseason consists of 4 exhibition games that have no effect on a team's standing or record. Preseason games are usually an opportunity for training camp/practice squad players to earn a spot on a team's roster while also giving first-string players a chance to practice and work into shape.  \n",
    "\n",
    "#### Regular Season\n",
    "The NFL season consists of 17 weeks with 16 games played from August to December with an additional postseason playoffs for qualified teams. Each team plays has a designated BYE week where the team does not play and is allowed an additional week of rest. All NFL games are played on Sundays with the exception of 2 games each week: one of which is played on Thursday and the other being played on Monday. \n",
    "\n",
    "There are considered to be 3 \"marquee\" games that are played each week: \n",
    "\n",
    "- <i>Thursday Night Football</i>\n",
    "- <i>Sunday Night Football</i>\n",
    "- <i>Monday Night Football</i>\n",
    "\n",
    "Thanksgiving week is the one exception to the week to week game schedule structure that the NFL follows. On Thanksgiving, instead of playing one game on <i>Thursday Night Football</i>, three games are played on three different timeslots on Thanksgiving.  \n",
    "\n",
    "#### Postseason/Playoffs\n",
    "Teams must qualify in order to make the postseason of the NFL. Six teams from each conference are will qualify for the playoffs, the division winner from each division and 2 wildcard spots from each conference. The two wildcard teams from each conference are teams two best teams from each conference excluding the division winners. "
   ]
  },
  {
   "cell_type": "markdown",
   "metadata": {},
   "source": [
    "### NFL Rosters\n",
    "A current NFL roster consists of 53 active players, meaning players who are healthy and a part of the team's roster on each Sunday. A NFL team consists of the three categoriess of football players: offensive players, defensive players, and special teams. There are not any set restrictions as to how many of each type a player a team must roster, but most teams have a good balance between the three types of players. "
   ]
  },
  {
   "cell_type": "markdown",
   "metadata": {},
   "source": [
    "### Data Description\n",
    "\n",
    "#### General information about Quarterback statistics\n",
    "Quarterbacks are usually separated into 2 types: a gunslinger and a game manager. A gunslinger is characterzed as a quarterback who loves to take risks, often throwing many long passes and risky passes that can either result in big plays or an interception. A game manager usually has a negative connotation attached and is a quarterback who only attempts safe, short passes. Game managers are usually afraid to take risks such as throwing long passes and are considered to be a quarterback who tries not to make mistakes and fail to make their teammates better.  \n",
    "\n",
    "The best quarterbacks are usually a mixture of a gunslinger and a game manager. These quarterbacks are able to throw quick accurate passes while also being able to make the long passes. They are able to read the defenses to determine the best option on any given play. A quarterback with these skills are considered to be elite, but there are few elite quarterbacks in the NFL.\n",
    "\n",
    "Statistically, a quarterback is considered to have a good game if he is able to throw for 250 yards and 2 touchdowns with no interceptions. If a quarterback is able to achieve these marks each game over the course of a 16 game season, he would end the season with 4000 passing yards and 32 touchdowns but no quarterback achieves these exact stats. It is hotly debated what a good or average quarterback's stats should be. Usually over 4000 passing yards is considered good for a quarterback. The number of touchdowns and interceptions a quarterback throws and a quarterback's TD:INT ratio always has to be taken in context. A quarterback may throw 30 touchdowns and 20 interceptions in a season and have a lower TD:INT ratio than a quaterback who threw for 15 touchdowns and 5 interceptions. In general, a TD:INT ratio over 2 is considered to be good given that there is enough volume. A general baseline for a good quarterback would be 30 or more touchdowns and 10 or fewer interceptions over the course of a 16 game season.\n",
    "\n",
    "#### Data\n",
    "All of the data we are using in this project comes from https://www.pro-football-reference.com/. For this project, we extracted the quarterback passing and rushing statistics from the 2013-2017 seasons. We chose not to include the 2018 NFL season because the season is still in progress.\n",
    "\n",
    "#### Variables\n",
    "\n",
    "- <b>Player:</b> The name of the NFL player.\n",
    "- <b>Tm:</b> The team the NFL player played for. If the player played for multiple teams in during the respective season, their team is designated as '2TM' or '3TM'.\n",
    "- <b>Age:</b> Age of the player.\n",
    "- <b>Pos:</b> NFL Player's position\n",
    "- <b>G:</b> Number of games the player played in.\n",
    "- <b>GS:</b> Number of games the player started.\n",
    "- <b>QBrec:</b> The quarterback's record in the games he played. Formatted as \"Win-Loss-Tie\".\n",
    "- <b>Cmp:</b> Number of pass completions thrown in the respective season.\n",
    "- <b>Att:</b> Number of attempted passes in the respective season.\n",
    "- <b>Cmp%:</b> Percent of passes completed.\n",
    "- <b>Yds:</b> Total number yards thrown.\n",
    "- <b>TD:</b> Number of passing touchdowns.\n",
    "- <b>TD%:</b> Percentage of passing touchdowns when attempting a pass.\n",
    "- <b>Int:</b> Number of interceptions thrown.\n",
    "- <b>Int%:</b> Percentage of interceptions thrown when attempting a pass.\n",
    "- <b>Lng:</b> Longest completed pass.\n",
    "- <b>Y/A:</b> Yards gained per attempted pass.\n",
    "- <b>AY/A:</b> Adjusted yards gained per attempted pass. Calculated using the following formula: (Passing yards + 20 * Passing TDS - 45 * Interceptions)/(Passes Attempted)\n",
    "- <b>Y/C:</b> Yards gained per completed pass.\n",
    "- <b>Y/G:</b> Yards thrown per game.\n",
    "- <b>Rate:</b> Passing Rating. See below for more details.\n",
    "- <b>QBR:</b> ESPNs Total Quarterback Rating. Meant to measure the quarterback's performance beyond just passing.\n",
    "- <b>Sk:</b> Number of times sacked\n",
    "- <b>Yds2:</b> Yards lost on sacks.\n",
    "- <b>NY/A:</b> Net yards gained per pass attempt. Calculated with the following formula: (Passing yards - Sack yards)/(Passes attempted + Times sacked).\n",
    "- <b>ANY/A:</b> Adjustednet yards per pass attempt. Calculated using the following formula: (Passing yards - Sack yards + (20 * Passing Touchdowns) - (45 * Interceptions thrown))/(Passing Yards + Times sacked).\n",
    "- <b>Sk%:</b> Percentage of times sacked when attempting a pass.\n",
    "- <b>4QC:</b> Number of 4th quarter comebacks, an offensive scoring drive in the 4th quarter with the team trailing by one score. Must result in the player's team winning.\n",
    "- <b>GWD:</b> Number of game winning drives, an offensive drive that puts their team ahead in the 4th quarter or overtime for the last time in the game.\n",
    "- <b>Pro_Bowl:</b> Whether or not the player made the Pro Bowl that season.\n",
    "- <b>Rushing Att:</b> Number of rushing attempts.\n",
    "- <b>Rushing Yds:</b> Total number of rushing yards.\n",
    "- <b>Rushing TD:</b> Number of rushing touchdowns.\n",
    "- <b>Division:</b> The division a player's team is in.\n",
    "- <b>Conference:</b> The conference a player's team is in.\n",
    "- <b>wins:</b> Number of wins in the games the player played.\n",
    "- <b>losses:</b> Number of losses in the games the player played.\n",
    "- <b>ties:</b> Number of ties in the games the player played.\n",
    "- <b>win%:</b> Percentage of games the player won.\n",
    "\n",
    "#### Passer Rating\n",
    "In general, passer rating is a good general way to measure a quarterback's performance although it is still a flawed measurement. A good comparison would be using BMI to measure one's health. BMI does not take into account of body fat percentage, thus many fit, muscular athletes are categorized as overweight or obese when they are in fact very fit and healthy. Passer rating is a good screen test for a quarterback's performance but a player's passer rating and statistics must be taken into context before completely judging a quarterback's abilties and performance in the NFL. \n",
    "\n",
    "The maximum possible passer rating in the NFL is 158.3, indicating that a quarterback had a near perfect game. In general, a passer rating of 100+ indicates an excellent performance, 90-100 usually indicates a good quarterback, between 80-90 would be about an average quarterback and anything below 80 indicates a below average quarterback. The league average passer rating in the 2017 NFL season was 88.6, but remember that these are general ranges can passer rating is not a conclusive indicator of a quarterback's performance and abilties.\n",
    "\n",
    "The passer rating formula is shown below:\n",
    "\n",
    "$$a =  (\\frac{COMP}{ATT} - 0.3)\\times 5$$\n",
    "\n",
    "$$b = (\\frac{YDS}{ATT} - 3)\\times 0.25$$\n",
    "\n",
    "$$c = (\\frac{TD}{ATT} - 0.3)\\times 20$$\n",
    "\n",
    "$$d = 2.375 - ((\\frac{COMP}{ATT} - 0.3)\\times 25)$$\n",
    "\n",
    "where:\n",
    "- <b>ATT</b> = Number of passing attempts\n",
    "- <b>COMP</b> = Number of completions\n",
    "- <b>YDS</b> = Number of passing yards\n",
    "- <b>TD</b> = Number of touchdown passes\n",
    "- <b>INT</b> = Number of interceptions thrown\n",
    "\n",
    "$$ Passer Rating = (\\frac{(a + b + c + d)}{6})\\times 100 $$\n",
    "\n",
    "#### How Football Statistics are recorded\n",
    "\n",
    "Stats for football are recorded every game and added into a player's totals for that given season. Usually football stats are viewed as totals from an entire season as opposed to one's average per game, although how many games a player plays is factored into player's evaluation when looking at one's season totals."
   ]
  },
  {
   "cell_type": "markdown",
   "metadata": {},
   "source": [
    "## Data Cleaning/Preparation"
   ]
  },
  {
   "cell_type": "markdown",
   "metadata": {},
   "source": [
    "### Loading necessary libraries"
   ]
  },
  {
   "cell_type": "code",
   "execution_count": 1,
   "metadata": {},
   "outputs": [],
   "source": [
    "import pandas as pd\n",
    "import numpy as np\n",
    "import matplotlib.pyplot as plt\n",
    "import matplotlib.gridspec as gridspec\n",
    "import seaborn as sns"
   ]
  },
  {
   "cell_type": "code",
   "execution_count": 2,
   "metadata": {},
   "outputs": [],
   "source": [
    "from sklearn.decomposition import PCA\n",
    "from sklearn.preprocessing import StandardScaler\n",
    "from sklearn.model_selection import train_test_split\n",
    "from sklearn.pipeline import Pipeline\n",
    "from sklearn.cluster import KMeans\n",
    "from sklearn.model_selection import GridSearchCV"
   ]
  },
  {
   "cell_type": "code",
   "execution_count": 3,
   "metadata": {},
   "outputs": [],
   "source": [
    "import warnings\n",
    "warnings.filterwarnings('ignore')"
   ]
  },
  {
   "cell_type": "markdown",
   "metadata": {},
   "source": [
    "### Reading in QB Passing and Rushing Data"
   ]
  },
  {
   "cell_type": "code",
   "execution_count": 4,
   "metadata": {},
   "outputs": [],
   "source": [
    "nfl_data = {}\n",
    "rush_filter = ['Player','Rushing Att','Rushing Yds','Rushing TD']"
   ]
  },
  {
   "cell_type": "markdown",
   "metadata": {},
   "source": [
    "The code chunk below creates the dictionary that will be used to make the pro bowl variables."
   ]
  },
  {
   "cell_type": "code",
   "execution_count": 5,
   "metadata": {},
   "outputs": [],
   "source": [
    "pro_bowl = {2014 : ['Cam Newton', 'Nick Foles', 'Andrew Luck', 'Drew Brees', 'Alex Smith', 'Philip Rivers',\n",
    "                   'Russell Wilson', 'Tom Brady', 'Peyton Manning'],\n",
    "            2015 : ['Drew Brees', 'Andrew Luck', 'Andy Dalton', 'Matt Ryan', 'Tony Romo', 'Matthew Stafford',\n",
    "                   'Ben Roethlisberger', 'Tom Brady', 'Aaron Rodgers', 'Peyton Manning'],\n",
    "            2016 : ['Derek Carr', 'Eli Manning', 'Tyrod Taylor', 'Teddy Bridgewater', 'Russell Wilson',\n",
    "                   'Jameis Winston', 'Tom Brady', 'Cam Newton', 'Aaron Rodgers', 'Carson Palmer', \n",
    "                   'Ben Roethlisberger'],\n",
    "            2017 : ['Tom Brady', 'Derek Carr', 'Ben Roethlisberger', 'Alex Smith', 'Andy Dalton', 'Philip Rivers',\n",
    "                   'Matt Ryan', 'Dak Prescott', 'Aaron Rodgers', 'Kirk Cousins', 'Drew Brees'],\n",
    "            2018 : ['Tom Brady', 'Ben Roethlisberger', 'Philip Rivers', 'Alex Smith', 'Derek Carr',\n",
    "                   'Carson Wentz', 'Russell Wilson', 'Drew Brees', 'Jared Goff']}"
   ]
  },
  {
   "cell_type": "code",
   "execution_count": 6,
   "metadata": {},
   "outputs": [],
   "source": [
    "def add_pro_bowl(data, year):\n",
    "    if data.Player in pro_bowl[year]:\n",
    "        return 1\n",
    "    else:\n",
    "        return 0"
   ]
  },
  {
   "cell_type": "markdown",
   "metadata": {},
   "source": [
    "The for loop below reads in the multiple data files while creating the \"Year\" and \"Pro_Bowl\" variable for the datasets. Each year's passing and rushing statistics are merged together and placed in a dictionary."
   ]
  },
  {
   "cell_type": "code",
   "execution_count": 7,
   "metadata": {},
   "outputs": [],
   "source": [
    "for i in range(2013,2018):\n",
    "    nfl = pd.read_csv('../src/Data/nfl-{}.csv'.format(i))\n",
    "    nfl_rr = pd.read_csv('../src/Data/nfl-{}-rr.csv'.format(i))\n",
    "    nfl_rr = nfl_rr[rush_filter]\n",
    "    nfl['Year'] = i\n",
    "    nfl['Pro_Bowl'] = nfl.apply(add_pro_bowl, axis = 1, year = i + 1)\n",
    "    nfl_full = nfl.merge(nfl_rr, on = 'Player', how = 'left')\n",
    "    nfl_full.set_index(['Year', 'Player'], inplace = True)\n",
    "    nfl_data[i] = nfl_full"
   ]
  },
  {
   "cell_type": "code",
   "execution_count": 8,
   "metadata": {
    "scrolled": false
   },
   "outputs": [
    {
     "name": "stdout",
     "output_type": "stream",
     "text": [
      "<class 'pandas.core.frame.DataFrame'>\n",
      "MultiIndex: 85 entries, (2013, Peyton Manning) to (2013, Brad Smith)\n",
      "Data columns (total 33 columns):\n",
      "Rk             85 non-null int64\n",
      "Tm             85 non-null object\n",
      "Age            85 non-null int64\n",
      "Pos            66 non-null object\n",
      "G              85 non-null int64\n",
      "GS             85 non-null int64\n",
      "QBrec          51 non-null object\n",
      "Cmp            85 non-null int64\n",
      "Att            85 non-null int64\n",
      "Cmp%           85 non-null float64\n",
      "Yds            85 non-null int64\n",
      "TD             85 non-null int64\n",
      "TD%            85 non-null float64\n",
      "Int            85 non-null int64\n",
      "Int%           85 non-null float64\n",
      "Lng            85 non-null int64\n",
      "Y/A            85 non-null float64\n",
      "AY/A           85 non-null float64\n",
      "Y/C            75 non-null float64\n",
      "Y/G            85 non-null float64\n",
      "Rate           85 non-null float64\n",
      "QBR            73 non-null float64\n",
      "Sk             85 non-null int64\n",
      "Yds2           85 non-null int64\n",
      "NY/A           85 non-null float64\n",
      "ANY/A          85 non-null float64\n",
      "Sk%            85 non-null float64\n",
      "4QC            37 non-null float64\n",
      "GWD            37 non-null float64\n",
      "Pro_Bowl       85 non-null int64\n",
      "Rushing Att    76 non-null object\n",
      "Rushing Yds    76 non-null object\n",
      "Rushing TD     76 non-null object\n",
      "dtypes: float64(14), int64(13), object(6)\n",
      "memory usage: 22.9+ KB\n"
     ]
    }
   ],
   "source": [
    "nfl_data[2013].info()"
   ]
  },
  {
   "cell_type": "markdown",
   "metadata": {},
   "source": [
    "The for loop below concatenates all of the pandas dataframes inside the dictionary together."
   ]
  },
  {
   "cell_type": "code",
   "execution_count": 9,
   "metadata": {
    "scrolled": true
   },
   "outputs": [],
   "source": [
    "nfl = nfl_data[2013]\n",
    "for i in range(2014,2018):\n",
    "    nfl = pd.concat([nfl, nfl_data[i]])"
   ]
  },
  {
   "cell_type": "markdown",
   "metadata": {},
   "source": [
    "### Filtering to only be Quarterbacks"
   ]
  },
  {
   "cell_type": "markdown",
   "metadata": {},
   "source": [
    "Before we can use the dataset, we first have to filter the data to be only quarterbacks. Thus, we created a basic function that cleaned the position variable, allowing us to filter the dataset to contain only quarterbacks. This dataset is the dataset we will be using for our analysis."
   ]
  },
  {
   "cell_type": "code",
   "execution_count": 10,
   "metadata": {
    "scrolled": true
   },
   "outputs": [
    {
     "data": {
      "text/plain": [
       "Index(['FB/rb', 'FS', 'K', 'LCB', 'NT', 'P', 'P/WR', 'QB', 'QB/wr', 'RB', 'TE',\n",
       "       'WR', 'fb/wr', 'fs', 'mlb', 'qb', 'rb', 'rb/wr', 'wr'],\n",
       "      dtype='object')"
      ]
     },
     "execution_count": 10,
     "metadata": {},
     "output_type": "execute_result"
    }
   ],
   "source": [
    "nfl.Pos.astype('category').cat.categories"
   ]
  },
  {
   "cell_type": "code",
   "execution_count": 11,
   "metadata": {},
   "outputs": [],
   "source": [
    "def qb_fix(data):\n",
    "    if data.Pos == 'QB/WR' or data.Pos == 'qb' or data.Pos == 'qb/wr' or data.Pos == 'QB':\n",
    "        return 'QB'"
   ]
  },
  {
   "cell_type": "code",
   "execution_count": 12,
   "metadata": {},
   "outputs": [],
   "source": [
    "nfl.Pos = nfl.apply(qb_fix, axis = 1)"
   ]
  },
  {
   "cell_type": "code",
   "execution_count": 13,
   "metadata": {},
   "outputs": [],
   "source": [
    "qb = nfl[nfl.Pos == 'QB']"
   ]
  },
  {
   "cell_type": "markdown",
   "metadata": {},
   "source": [
    "### Adding Conference and Division Variable"
   ]
  },
  {
   "cell_type": "markdown",
   "metadata": {},
   "source": [
    "The next few code chunks below created the \"Conference\" and \"Division\" variables to our dataset."
   ]
  },
  {
   "cell_type": "code",
   "execution_count": 14,
   "metadata": {},
   "outputs": [],
   "source": [
    "conference = {'AFC' : ['NWE', 'BUF', 'NYJ', 'MIA', 'KAN', 'LAC', 'SDG', 'DEN', 'OAK', \n",
    "                       'PIT', 'BAL', 'CIN' 'CLE', 'HOU', 'IND', 'TEN', 'JAX'],\n",
    "              'NFC' : ['DAL', 'PHI', 'WAS', 'NYG', 'STL', 'LAR', 'SEA', 'ARI', 'SFO', \n",
    "                       'CHI', 'MIN', 'GNB', 'DET', 'NOR', 'CAR', 'TAM', 'ATL'],\n",
    "              'Other' : ['3TM', '2TM']}\n",
    "\n",
    "division = {'AFC East' : ['NWE', 'BUF', 'NYJ', 'MIA'],\n",
    "           'AFC West' : ['KAN', 'LAC', 'SDG', 'DEN', 'OAK'],\n",
    "           'AFC North' : ['PIT', 'BAL', 'CIN', 'CLE'],\n",
    "           'AFC South' : ['HOU', 'IND', 'TEN', 'JAX'],\n",
    "           'NFC East' : ['DAL', 'PHI', 'WAS', 'NYG'],\n",
    "           'NFC West' : ['STL', 'LAR', 'SEA', 'ARI', 'SFO'],\n",
    "           'NFC North' : ['CHI', 'MIN', 'GNB', 'DET'],\n",
    "           'NFC South' : ['NOR', 'CAR', 'TAM', 'ATL'],\n",
    "           'Other' : ['3TM', '2TM']}"
   ]
  },
  {
   "cell_type": "code",
   "execution_count": 15,
   "metadata": {},
   "outputs": [],
   "source": [
    "def division_set(data):\n",
    "    if data.Tm in conference['AFC']:\n",
    "        if data.Tm in division['AFC East']:\n",
    "            return 'AFC East'\n",
    "        elif data.Tm in division['AFC West']:\n",
    "            return 'AFC West'\n",
    "        elif data.Tm in division['AFC North']:\n",
    "            return 'AFC North'\n",
    "        elif data.Tm in division['AFC South']:\n",
    "            return 'AFC South'\n",
    "        \n",
    "    elif data.Tm in conference['NFC']:\n",
    "        if data.Tm in division['NFC East']:\n",
    "            return 'NFC East'\n",
    "        elif data.Tm in division['NFC West']:\n",
    "            return 'NFC West'\n",
    "        elif data.Tm in division['NFC North']:\n",
    "            return 'NFC North'\n",
    "        elif data.Tm in division['NFC South']:\n",
    "            return 'NFC South'\n",
    "    else:\n",
    "        return 'Other'"
   ]
  },
  {
   "cell_type": "code",
   "execution_count": 16,
   "metadata": {
    "scrolled": true
   },
   "outputs": [],
   "source": [
    "qb['Division'] = qb.apply(division_set, axis = 1)"
   ]
  },
  {
   "cell_type": "code",
   "execution_count": 17,
   "metadata": {
    "scrolled": false
   },
   "outputs": [],
   "source": [
    "qb['Conference'] = qb.Division.str[0:3]"
   ]
  },
  {
   "cell_type": "markdown",
   "metadata": {},
   "source": [
    "### Creating Wins, Losses, and Win Percentage"
   ]
  },
  {
   "cell_type": "markdown",
   "metadata": {},
   "source": [
    "Next, we cleaned the QBrec variable to become 4 different variables: wins, losses, ties, and win percentage. This will allow us to better analyze a quarterback's record during the respective season."
   ]
  },
  {
   "cell_type": "code",
   "execution_count": 18,
   "metadata": {
    "scrolled": true
   },
   "outputs": [
    {
     "data": {
      "text/plain": [
       "Index(['0-1-0', '0-1-1', '0-15-0', '0-2-0', '0-3-0', '0-4-0', '0-5-0', '0-6-0',\n",
       "       '0-7-0', '0-8-0', '1-0-0', '1-1-0', '1-10-0', '1-2-0', '1-3-0', '1-4-0',\n",
       "       '1-5-0', '1-6-0', '1-7-0', '10-3-0', '10-4-0', '10-5-1', '10-6-0',\n",
       "       '11-1-0', '11-2-0', '11-3-0', '11-4-0', '11-5-0', '12-3-0', '12-4-0',\n",
       "       '13-3-0', '15-1-0', '2-0-0', '2-1-0', '2-2-0', '2-3-0', '2-4-0',\n",
       "       '2-5-0', '2-6-0', '2-6-1', '3-0-0', '3-1-0', '3-10-0', '3-12-0',\n",
       "       '3-13-0', '3-2-0', '3-3-0', '3-4-0', '3-5-0', '3-6-0', '3-7-0', '3-8-0',\n",
       "       '3-9-0', '4-11-0', '4-12-0', '4-3-0', '4-4-0', '4-5-0', '4-6-0',\n",
       "       '4-7-0', '4-8-0', '4-9-0', '5-0-0', '5-10-0', '5-11-0', '5-2-0',\n",
       "       '5-3-0', '5-4-0', '5-5-0', '5-6-0', '5-8-0', '5-8-1', '6-0-0', '6-10-0',\n",
       "       '6-2-0', '6-3-0', '6-6-0', '6-8-0', '6-8-1', '6-9-0', '6-9-1', '7-2-0',\n",
       "       '7-4-0', '7-5-0', '7-6-0', '7-7-0', '7-8-0', '7-9-0', '8-2-0', '8-5-0',\n",
       "       '8-6-0', '8-7-0', '8-7-1', '8-8-0', '9-6-0', '9-7-0'],\n",
       "      dtype='object')"
      ]
     },
     "execution_count": 18,
     "metadata": {},
     "output_type": "execute_result"
    }
   ],
   "source": [
    "qb.QBrec.astype('category').cat.categories"
   ]
  },
  {
   "cell_type": "code",
   "execution_count": 19,
   "metadata": {},
   "outputs": [],
   "source": [
    "def win_loss(data, i):\n",
    "    return int(data.QBrec.rsplit('-')[i])"
   ]
  },
  {
   "cell_type": "code",
   "execution_count": 20,
   "metadata": {},
   "outputs": [],
   "source": [
    "qb['wins'] = qb.apply(win_loss, i = 0, axis = 1)\n",
    "qb['losses'] = qb.apply(win_loss, i = 1, axis = 1)\n",
    "qb['ties'] = qb.apply(win_loss, i = 2, axis = 1)"
   ]
  },
  {
   "cell_type": "code",
   "execution_count": 21,
   "metadata": {},
   "outputs": [],
   "source": [
    "qb['win%'] = (qb.wins/(qb.wins + qb.losses + qb.ties))*100"
   ]
  },
  {
   "cell_type": "markdown",
   "metadata": {},
   "source": [
    "### Correcting the variable types"
   ]
  },
  {
   "cell_type": "markdown",
   "metadata": {},
   "source": [
    "Because the rushing related variables were read in as object datatypes, this code chunk simply convertes the three rushing variables to be float types."
   ]
  },
  {
   "cell_type": "code",
   "execution_count": 22,
   "metadata": {},
   "outputs": [],
   "source": [
    "object_types = ['Rushing Att', 'Rushing Yds', 'Rushing TD']\n",
    "\n",
    "for i in object_types:\n",
    "    qb[i] = qb[i].astype('float64') "
   ]
  },
  {
   "cell_type": "code",
   "execution_count": 23,
   "metadata": {},
   "outputs": [
    {
     "data": {
      "text/html": [
       "<div>\n",
       "<style scoped>\n",
       "    .dataframe tbody tr th:only-of-type {\n",
       "        vertical-align: middle;\n",
       "    }\n",
       "\n",
       "    .dataframe tbody tr th {\n",
       "        vertical-align: top;\n",
       "    }\n",
       "\n",
       "    .dataframe thead th {\n",
       "        text-align: right;\n",
       "    }\n",
       "</style>\n",
       "<table border=\"1\" class=\"dataframe\">\n",
       "  <thead>\n",
       "    <tr style=\"text-align: right;\">\n",
       "      <th></th>\n",
       "      <th></th>\n",
       "      <th>Rk</th>\n",
       "      <th>Tm</th>\n",
       "      <th>Age</th>\n",
       "      <th>Pos</th>\n",
       "      <th>G</th>\n",
       "      <th>GS</th>\n",
       "      <th>QBrec</th>\n",
       "      <th>Cmp</th>\n",
       "      <th>Att</th>\n",
       "      <th>Cmp%</th>\n",
       "      <th>...</th>\n",
       "      <th>Pro_Bowl</th>\n",
       "      <th>Rushing Att</th>\n",
       "      <th>Rushing Yds</th>\n",
       "      <th>Rushing TD</th>\n",
       "      <th>Division</th>\n",
       "      <th>Conference</th>\n",
       "      <th>wins</th>\n",
       "      <th>losses</th>\n",
       "      <th>ties</th>\n",
       "      <th>win%</th>\n",
       "    </tr>\n",
       "    <tr>\n",
       "      <th>Year</th>\n",
       "      <th>Player</th>\n",
       "      <th></th>\n",
       "      <th></th>\n",
       "      <th></th>\n",
       "      <th></th>\n",
       "      <th></th>\n",
       "      <th></th>\n",
       "      <th></th>\n",
       "      <th></th>\n",
       "      <th></th>\n",
       "      <th></th>\n",
       "      <th></th>\n",
       "      <th></th>\n",
       "      <th></th>\n",
       "      <th></th>\n",
       "      <th></th>\n",
       "      <th></th>\n",
       "      <th></th>\n",
       "      <th></th>\n",
       "      <th></th>\n",
       "      <th></th>\n",
       "      <th></th>\n",
       "    </tr>\n",
       "  </thead>\n",
       "  <tbody>\n",
       "    <tr>\n",
       "      <th rowspan=\"5\" valign=\"top\">2013</th>\n",
       "      <th>Peyton Manning</th>\n",
       "      <td>1</td>\n",
       "      <td>DEN</td>\n",
       "      <td>37</td>\n",
       "      <td>QB</td>\n",
       "      <td>16</td>\n",
       "      <td>16</td>\n",
       "      <td>13-3-0</td>\n",
       "      <td>450</td>\n",
       "      <td>659</td>\n",
       "      <td>68.3</td>\n",
       "      <td>...</td>\n",
       "      <td>1</td>\n",
       "      <td>32.0</td>\n",
       "      <td>-31.0</td>\n",
       "      <td>1.0</td>\n",
       "      <td>AFC West</td>\n",
       "      <td>AFC</td>\n",
       "      <td>13</td>\n",
       "      <td>3</td>\n",
       "      <td>0</td>\n",
       "      <td>81.25</td>\n",
       "    </tr>\n",
       "    <tr>\n",
       "      <th>Matt Ryan</th>\n",
       "      <td>2</td>\n",
       "      <td>ATL</td>\n",
       "      <td>28</td>\n",
       "      <td>QB</td>\n",
       "      <td>16</td>\n",
       "      <td>16</td>\n",
       "      <td>4-12-0</td>\n",
       "      <td>439</td>\n",
       "      <td>651</td>\n",
       "      <td>67.4</td>\n",
       "      <td>...</td>\n",
       "      <td>0</td>\n",
       "      <td>17.0</td>\n",
       "      <td>55.0</td>\n",
       "      <td>0.0</td>\n",
       "      <td>NFC South</td>\n",
       "      <td>NFC</td>\n",
       "      <td>4</td>\n",
       "      <td>12</td>\n",
       "      <td>0</td>\n",
       "      <td>25.00</td>\n",
       "    </tr>\n",
       "    <tr>\n",
       "      <th>Drew Brees</th>\n",
       "      <td>3</td>\n",
       "      <td>NOR</td>\n",
       "      <td>34</td>\n",
       "      <td>QB</td>\n",
       "      <td>16</td>\n",
       "      <td>16</td>\n",
       "      <td>11-5-0</td>\n",
       "      <td>446</td>\n",
       "      <td>650</td>\n",
       "      <td>68.6</td>\n",
       "      <td>...</td>\n",
       "      <td>1</td>\n",
       "      <td>35.0</td>\n",
       "      <td>52.0</td>\n",
       "      <td>3.0</td>\n",
       "      <td>NFC South</td>\n",
       "      <td>NFC</td>\n",
       "      <td>11</td>\n",
       "      <td>5</td>\n",
       "      <td>0</td>\n",
       "      <td>68.75</td>\n",
       "    </tr>\n",
       "    <tr>\n",
       "      <th>Matthew Stafford</th>\n",
       "      <td>4</td>\n",
       "      <td>DET</td>\n",
       "      <td>25</td>\n",
       "      <td>QB</td>\n",
       "      <td>16</td>\n",
       "      <td>16</td>\n",
       "      <td>7-9-0</td>\n",
       "      <td>371</td>\n",
       "      <td>634</td>\n",
       "      <td>58.5</td>\n",
       "      <td>...</td>\n",
       "      <td>0</td>\n",
       "      <td>37.0</td>\n",
       "      <td>69.0</td>\n",
       "      <td>2.0</td>\n",
       "      <td>NFC North</td>\n",
       "      <td>NFC</td>\n",
       "      <td>7</td>\n",
       "      <td>9</td>\n",
       "      <td>0</td>\n",
       "      <td>43.75</td>\n",
       "    </tr>\n",
       "    <tr>\n",
       "      <th>Tom Brady</th>\n",
       "      <td>5</td>\n",
       "      <td>NWE</td>\n",
       "      <td>36</td>\n",
       "      <td>QB</td>\n",
       "      <td>16</td>\n",
       "      <td>16</td>\n",
       "      <td>12-4-0</td>\n",
       "      <td>380</td>\n",
       "      <td>628</td>\n",
       "      <td>60.5</td>\n",
       "      <td>...</td>\n",
       "      <td>1</td>\n",
       "      <td>32.0</td>\n",
       "      <td>18.0</td>\n",
       "      <td>0.0</td>\n",
       "      <td>AFC East</td>\n",
       "      <td>AFC</td>\n",
       "      <td>12</td>\n",
       "      <td>4</td>\n",
       "      <td>0</td>\n",
       "      <td>75.00</td>\n",
       "    </tr>\n",
       "  </tbody>\n",
       "</table>\n",
       "<p>5 rows × 39 columns</p>\n",
       "</div>"
      ],
      "text/plain": [
       "                       Rk   Tm  Age Pos   G  GS   QBrec  Cmp  Att  Cmp%  \\\n",
       "Year Player                                                               \n",
       "2013 Peyton Manning     1  DEN   37  QB  16  16  13-3-0  450  659  68.3   \n",
       "     Matt Ryan          2  ATL   28  QB  16  16  4-12-0  439  651  67.4   \n",
       "     Drew Brees         3  NOR   34  QB  16  16  11-5-0  446  650  68.6   \n",
       "     Matthew Stafford   4  DET   25  QB  16  16   7-9-0  371  634  58.5   \n",
       "     Tom Brady          5  NWE   36  QB  16  16  12-4-0  380  628  60.5   \n",
       "\n",
       "                       ...    Pro_Bowl  Rushing Att  Rushing Yds  Rushing TD  \\\n",
       "Year Player            ...                                                     \n",
       "2013 Peyton Manning    ...           1         32.0        -31.0         1.0   \n",
       "     Matt Ryan         ...           0         17.0         55.0         0.0   \n",
       "     Drew Brees        ...           1         35.0         52.0         3.0   \n",
       "     Matthew Stafford  ...           0         37.0         69.0         2.0   \n",
       "     Tom Brady         ...           1         32.0         18.0         0.0   \n",
       "\n",
       "                        Division  Conference  wins  losses  ties   win%  \n",
       "Year Player                                                              \n",
       "2013 Peyton Manning     AFC West         AFC    13       3     0  81.25  \n",
       "     Matt Ryan         NFC South         NFC     4      12     0  25.00  \n",
       "     Drew Brees        NFC South         NFC    11       5     0  68.75  \n",
       "     Matthew Stafford  NFC North         NFC     7       9     0  43.75  \n",
       "     Tom Brady          AFC East         AFC    12       4     0  75.00  \n",
       "\n",
       "[5 rows x 39 columns]"
      ]
     },
     "execution_count": 23,
     "metadata": {},
     "output_type": "execute_result"
    }
   ],
   "source": [
    "qb.head()"
   ]
  },
  {
   "cell_type": "code",
   "execution_count": 24,
   "metadata": {
    "scrolled": false
   },
   "outputs": [
    {
     "name": "stdout",
     "output_type": "stream",
     "text": [
      "<class 'pandas.core.frame.DataFrame'>\n",
      "MultiIndex: 258 entries, (2013, Peyton Manning) to (2017, Scott Tolzien)\n",
      "Data columns (total 39 columns):\n",
      "Rk             258 non-null int64\n",
      "Tm             258 non-null object\n",
      "Age            258 non-null int64\n",
      "Pos            258 non-null object\n",
      "G              258 non-null int64\n",
      "GS             258 non-null int64\n",
      "QBrec          258 non-null object\n",
      "Cmp            258 non-null int64\n",
      "Att            258 non-null int64\n",
      "Cmp%           258 non-null float64\n",
      "Yds            258 non-null int64\n",
      "TD             258 non-null int64\n",
      "TD%            258 non-null float64\n",
      "Int            258 non-null int64\n",
      "Int%           258 non-null float64\n",
      "Lng            258 non-null int64\n",
      "Y/A            258 non-null float64\n",
      "AY/A           258 non-null float64\n",
      "Y/C            258 non-null float64\n",
      "Y/G            258 non-null float64\n",
      "Rate           258 non-null float64\n",
      "QBR            257 non-null float64\n",
      "Sk             258 non-null int64\n",
      "Yds2           258 non-null int64\n",
      "NY/A           258 non-null float64\n",
      "ANY/A          258 non-null float64\n",
      "Sk%            258 non-null float64\n",
      "4QC            177 non-null float64\n",
      "GWD            177 non-null float64\n",
      "Pro_Bowl       258 non-null int64\n",
      "Rushing Att    255 non-null float64\n",
      "Rushing Yds    255 non-null float64\n",
      "Rushing TD     255 non-null float64\n",
      "Division       258 non-null object\n",
      "Conference     258 non-null object\n",
      "wins           258 non-null int64\n",
      "losses         258 non-null int64\n",
      "ties           258 non-null int64\n",
      "win%           258 non-null float64\n",
      "dtypes: float64(18), int64(16), object(5)\n",
      "memory usage: 81.1+ KB\n"
     ]
    }
   ],
   "source": [
    "qb.info()"
   ]
  },
  {
   "cell_type": "markdown",
   "metadata": {},
   "source": [
    "Now, we filled all of the NA values with zero as any value recorded as NaN in football is equivalent of a statistics not being recorded thus meaning it is zero. We also dropped teh \"Rk\", \"Team\", \"Pos\", and \"QBrec\" variables as they are not useful to our analysis. "
   ]
  },
  {
   "cell_type": "code",
   "execution_count": 25,
   "metadata": {
    "scrolled": false
   },
   "outputs": [],
   "source": [
    "qb.fillna(0, inplace = True)"
   ]
  },
  {
   "cell_type": "code",
   "execution_count": 26,
   "metadata": {},
   "outputs": [],
   "source": [
    "qb_ready = qb.drop(['Rk', 'Tm', 'Pos', 'QBrec'], axis = 1)"
   ]
  },
  {
   "cell_type": "code",
   "execution_count": 27,
   "metadata": {
    "scrolled": true
   },
   "outputs": [
    {
     "data": {
      "text/html": [
       "<div>\n",
       "<style scoped>\n",
       "    .dataframe tbody tr th:only-of-type {\n",
       "        vertical-align: middle;\n",
       "    }\n",
       "\n",
       "    .dataframe tbody tr th {\n",
       "        vertical-align: top;\n",
       "    }\n",
       "\n",
       "    .dataframe thead th {\n",
       "        text-align: right;\n",
       "    }\n",
       "</style>\n",
       "<table border=\"1\" class=\"dataframe\">\n",
       "  <thead>\n",
       "    <tr style=\"text-align: right;\">\n",
       "      <th></th>\n",
       "      <th></th>\n",
       "      <th>Age</th>\n",
       "      <th>G</th>\n",
       "      <th>GS</th>\n",
       "      <th>Cmp</th>\n",
       "      <th>Att</th>\n",
       "      <th>Cmp%</th>\n",
       "      <th>Yds</th>\n",
       "      <th>TD</th>\n",
       "      <th>TD%</th>\n",
       "      <th>Int</th>\n",
       "      <th>...</th>\n",
       "      <th>Pro_Bowl</th>\n",
       "      <th>Rushing Att</th>\n",
       "      <th>Rushing Yds</th>\n",
       "      <th>Rushing TD</th>\n",
       "      <th>Division</th>\n",
       "      <th>Conference</th>\n",
       "      <th>wins</th>\n",
       "      <th>losses</th>\n",
       "      <th>ties</th>\n",
       "      <th>win%</th>\n",
       "    </tr>\n",
       "    <tr>\n",
       "      <th>Year</th>\n",
       "      <th>Player</th>\n",
       "      <th></th>\n",
       "      <th></th>\n",
       "      <th></th>\n",
       "      <th></th>\n",
       "      <th></th>\n",
       "      <th></th>\n",
       "      <th></th>\n",
       "      <th></th>\n",
       "      <th></th>\n",
       "      <th></th>\n",
       "      <th></th>\n",
       "      <th></th>\n",
       "      <th></th>\n",
       "      <th></th>\n",
       "      <th></th>\n",
       "      <th></th>\n",
       "      <th></th>\n",
       "      <th></th>\n",
       "      <th></th>\n",
       "      <th></th>\n",
       "      <th></th>\n",
       "    </tr>\n",
       "  </thead>\n",
       "  <tbody>\n",
       "    <tr>\n",
       "      <th rowspan=\"10\" valign=\"top\">2013</th>\n",
       "      <th>Peyton Manning</th>\n",
       "      <td>37</td>\n",
       "      <td>16</td>\n",
       "      <td>16</td>\n",
       "      <td>450</td>\n",
       "      <td>659</td>\n",
       "      <td>68.3</td>\n",
       "      <td>5477</td>\n",
       "      <td>55</td>\n",
       "      <td>8.3</td>\n",
       "      <td>10</td>\n",
       "      <td>...</td>\n",
       "      <td>1</td>\n",
       "      <td>32.0</td>\n",
       "      <td>-31.0</td>\n",
       "      <td>1.0</td>\n",
       "      <td>AFC West</td>\n",
       "      <td>AFC</td>\n",
       "      <td>13</td>\n",
       "      <td>3</td>\n",
       "      <td>0</td>\n",
       "      <td>81.25</td>\n",
       "    </tr>\n",
       "    <tr>\n",
       "      <th>Matt Ryan</th>\n",
       "      <td>28</td>\n",
       "      <td>16</td>\n",
       "      <td>16</td>\n",
       "      <td>439</td>\n",
       "      <td>651</td>\n",
       "      <td>67.4</td>\n",
       "      <td>4515</td>\n",
       "      <td>26</td>\n",
       "      <td>4.0</td>\n",
       "      <td>17</td>\n",
       "      <td>...</td>\n",
       "      <td>0</td>\n",
       "      <td>17.0</td>\n",
       "      <td>55.0</td>\n",
       "      <td>0.0</td>\n",
       "      <td>NFC South</td>\n",
       "      <td>NFC</td>\n",
       "      <td>4</td>\n",
       "      <td>12</td>\n",
       "      <td>0</td>\n",
       "      <td>25.00</td>\n",
       "    </tr>\n",
       "    <tr>\n",
       "      <th>Drew Brees</th>\n",
       "      <td>34</td>\n",
       "      <td>16</td>\n",
       "      <td>16</td>\n",
       "      <td>446</td>\n",
       "      <td>650</td>\n",
       "      <td>68.6</td>\n",
       "      <td>5162</td>\n",
       "      <td>39</td>\n",
       "      <td>6.0</td>\n",
       "      <td>12</td>\n",
       "      <td>...</td>\n",
       "      <td>1</td>\n",
       "      <td>35.0</td>\n",
       "      <td>52.0</td>\n",
       "      <td>3.0</td>\n",
       "      <td>NFC South</td>\n",
       "      <td>NFC</td>\n",
       "      <td>11</td>\n",
       "      <td>5</td>\n",
       "      <td>0</td>\n",
       "      <td>68.75</td>\n",
       "    </tr>\n",
       "    <tr>\n",
       "      <th>Matthew Stafford</th>\n",
       "      <td>25</td>\n",
       "      <td>16</td>\n",
       "      <td>16</td>\n",
       "      <td>371</td>\n",
       "      <td>634</td>\n",
       "      <td>58.5</td>\n",
       "      <td>4650</td>\n",
       "      <td>29</td>\n",
       "      <td>4.6</td>\n",
       "      <td>19</td>\n",
       "      <td>...</td>\n",
       "      <td>0</td>\n",
       "      <td>37.0</td>\n",
       "      <td>69.0</td>\n",
       "      <td>2.0</td>\n",
       "      <td>NFC North</td>\n",
       "      <td>NFC</td>\n",
       "      <td>7</td>\n",
       "      <td>9</td>\n",
       "      <td>0</td>\n",
       "      <td>43.75</td>\n",
       "    </tr>\n",
       "    <tr>\n",
       "      <th>Tom Brady</th>\n",
       "      <td>36</td>\n",
       "      <td>16</td>\n",
       "      <td>16</td>\n",
       "      <td>380</td>\n",
       "      <td>628</td>\n",
       "      <td>60.5</td>\n",
       "      <td>4343</td>\n",
       "      <td>25</td>\n",
       "      <td>4.0</td>\n",
       "      <td>11</td>\n",
       "      <td>...</td>\n",
       "      <td>1</td>\n",
       "      <td>32.0</td>\n",
       "      <td>18.0</td>\n",
       "      <td>0.0</td>\n",
       "      <td>AFC East</td>\n",
       "      <td>AFC</td>\n",
       "      <td>12</td>\n",
       "      <td>4</td>\n",
       "      <td>0</td>\n",
       "      <td>75.00</td>\n",
       "    </tr>\n",
       "    <tr>\n",
       "      <th>Joe Flacco</th>\n",
       "      <td>28</td>\n",
       "      <td>16</td>\n",
       "      <td>16</td>\n",
       "      <td>362</td>\n",
       "      <td>614</td>\n",
       "      <td>59.0</td>\n",
       "      <td>3912</td>\n",
       "      <td>19</td>\n",
       "      <td>3.1</td>\n",
       "      <td>22</td>\n",
       "      <td>...</td>\n",
       "      <td>0</td>\n",
       "      <td>27.0</td>\n",
       "      <td>131.0</td>\n",
       "      <td>1.0</td>\n",
       "      <td>AFC North</td>\n",
       "      <td>AFC</td>\n",
       "      <td>8</td>\n",
       "      <td>8</td>\n",
       "      <td>0</td>\n",
       "      <td>50.00</td>\n",
       "    </tr>\n",
       "    <tr>\n",
       "      <th>Ryan Tannehill</th>\n",
       "      <td>25</td>\n",
       "      <td>16</td>\n",
       "      <td>16</td>\n",
       "      <td>355</td>\n",
       "      <td>588</td>\n",
       "      <td>60.4</td>\n",
       "      <td>3913</td>\n",
       "      <td>24</td>\n",
       "      <td>4.1</td>\n",
       "      <td>17</td>\n",
       "      <td>...</td>\n",
       "      <td>0</td>\n",
       "      <td>40.0</td>\n",
       "      <td>238.0</td>\n",
       "      <td>1.0</td>\n",
       "      <td>AFC East</td>\n",
       "      <td>AFC</td>\n",
       "      <td>8</td>\n",
       "      <td>8</td>\n",
       "      <td>0</td>\n",
       "      <td>50.00</td>\n",
       "    </tr>\n",
       "    <tr>\n",
       "      <th>Andy Dalton</th>\n",
       "      <td>26</td>\n",
       "      <td>16</td>\n",
       "      <td>16</td>\n",
       "      <td>363</td>\n",
       "      <td>586</td>\n",
       "      <td>61.9</td>\n",
       "      <td>4293</td>\n",
       "      <td>33</td>\n",
       "      <td>5.6</td>\n",
       "      <td>20</td>\n",
       "      <td>...</td>\n",
       "      <td>0</td>\n",
       "      <td>61.0</td>\n",
       "      <td>183.0</td>\n",
       "      <td>2.0</td>\n",
       "      <td>Other</td>\n",
       "      <td>Oth</td>\n",
       "      <td>11</td>\n",
       "      <td>5</td>\n",
       "      <td>0</td>\n",
       "      <td>68.75</td>\n",
       "    </tr>\n",
       "    <tr>\n",
       "      <th>Ben Roethlisberger</th>\n",
       "      <td>31</td>\n",
       "      <td>16</td>\n",
       "      <td>16</td>\n",
       "      <td>375</td>\n",
       "      <td>584</td>\n",
       "      <td>64.2</td>\n",
       "      <td>4261</td>\n",
       "      <td>28</td>\n",
       "      <td>4.8</td>\n",
       "      <td>14</td>\n",
       "      <td>...</td>\n",
       "      <td>0</td>\n",
       "      <td>27.0</td>\n",
       "      <td>99.0</td>\n",
       "      <td>1.0</td>\n",
       "      <td>AFC North</td>\n",
       "      <td>AFC</td>\n",
       "      <td>8</td>\n",
       "      <td>8</td>\n",
       "      <td>0</td>\n",
       "      <td>50.00</td>\n",
       "    </tr>\n",
       "    <tr>\n",
       "      <th>Carson Palmer</th>\n",
       "      <td>34</td>\n",
       "      <td>16</td>\n",
       "      <td>16</td>\n",
       "      <td>362</td>\n",
       "      <td>572</td>\n",
       "      <td>63.3</td>\n",
       "      <td>4274</td>\n",
       "      <td>24</td>\n",
       "      <td>4.2</td>\n",
       "      <td>22</td>\n",
       "      <td>...</td>\n",
       "      <td>0</td>\n",
       "      <td>27.0</td>\n",
       "      <td>3.0</td>\n",
       "      <td>0.0</td>\n",
       "      <td>NFC West</td>\n",
       "      <td>NFC</td>\n",
       "      <td>10</td>\n",
       "      <td>6</td>\n",
       "      <td>0</td>\n",
       "      <td>62.50</td>\n",
       "    </tr>\n",
       "  </tbody>\n",
       "</table>\n",
       "<p>10 rows × 35 columns</p>\n",
       "</div>"
      ],
      "text/plain": [
       "                         Age   G  GS  Cmp  Att  Cmp%   Yds  TD  TD%  Int  \\\n",
       "Year Player                                                                \n",
       "2013 Peyton Manning       37  16  16  450  659  68.3  5477  55  8.3   10   \n",
       "     Matt Ryan            28  16  16  439  651  67.4  4515  26  4.0   17   \n",
       "     Drew Brees           34  16  16  446  650  68.6  5162  39  6.0   12   \n",
       "     Matthew Stafford     25  16  16  371  634  58.5  4650  29  4.6   19   \n",
       "     Tom Brady            36  16  16  380  628  60.5  4343  25  4.0   11   \n",
       "     Joe Flacco           28  16  16  362  614  59.0  3912  19  3.1   22   \n",
       "     Ryan Tannehill       25  16  16  355  588  60.4  3913  24  4.1   17   \n",
       "     Andy Dalton          26  16  16  363  586  61.9  4293  33  5.6   20   \n",
       "     Ben Roethlisberger   31  16  16  375  584  64.2  4261  28  4.8   14   \n",
       "     Carson Palmer        34  16  16  362  572  63.3  4274  24  4.2   22   \n",
       "\n",
       "                         ...    Pro_Bowl  Rushing Att  Rushing Yds  \\\n",
       "Year Player              ...                                         \n",
       "2013 Peyton Manning      ...           1         32.0        -31.0   \n",
       "     Matt Ryan           ...           0         17.0         55.0   \n",
       "     Drew Brees          ...           1         35.0         52.0   \n",
       "     Matthew Stafford    ...           0         37.0         69.0   \n",
       "     Tom Brady           ...           1         32.0         18.0   \n",
       "     Joe Flacco          ...           0         27.0        131.0   \n",
       "     Ryan Tannehill      ...           0         40.0        238.0   \n",
       "     Andy Dalton         ...           0         61.0        183.0   \n",
       "     Ben Roethlisberger  ...           0         27.0         99.0   \n",
       "     Carson Palmer       ...           0         27.0          3.0   \n",
       "\n",
       "                         Rushing TD   Division  Conference  wins  losses  \\\n",
       "Year Player                                                                \n",
       "2013 Peyton Manning             1.0   AFC West         AFC    13       3   \n",
       "     Matt Ryan                  0.0  NFC South         NFC     4      12   \n",
       "     Drew Brees                 3.0  NFC South         NFC    11       5   \n",
       "     Matthew Stafford           2.0  NFC North         NFC     7       9   \n",
       "     Tom Brady                  0.0   AFC East         AFC    12       4   \n",
       "     Joe Flacco                 1.0  AFC North         AFC     8       8   \n",
       "     Ryan Tannehill             1.0   AFC East         AFC     8       8   \n",
       "     Andy Dalton                2.0      Other         Oth    11       5   \n",
       "     Ben Roethlisberger         1.0  AFC North         AFC     8       8   \n",
       "     Carson Palmer              0.0   NFC West         NFC    10       6   \n",
       "\n",
       "                         ties   win%  \n",
       "Year Player                           \n",
       "2013 Peyton Manning         0  81.25  \n",
       "     Matt Ryan              0  25.00  \n",
       "     Drew Brees             0  68.75  \n",
       "     Matthew Stafford       0  43.75  \n",
       "     Tom Brady              0  75.00  \n",
       "     Joe Flacco             0  50.00  \n",
       "     Ryan Tannehill         0  50.00  \n",
       "     Andy Dalton            0  68.75  \n",
       "     Ben Roethlisberger     0  50.00  \n",
       "     Carson Palmer          0  62.50  \n",
       "\n",
       "[10 rows x 35 columns]"
      ]
     },
     "execution_count": 27,
     "metadata": {},
     "output_type": "execute_result"
    }
   ],
   "source": [
    "qb_ready.head(10)"
   ]
  },
  {
   "cell_type": "markdown",
   "metadata": {},
   "source": [
    "## Exploratory Data Analysis"
   ]
  },
  {
   "cell_type": "markdown",
   "metadata": {},
   "source": [
    "For our analysis, we decided to only include observations (quarterback seasons) where the player played at least 8 games as that constitutes half of the season. Players who played in less than half the season do not have sufficient data on the season to properly analyze their performance."
   ]
  },
  {
   "cell_type": "code",
   "execution_count": 28,
   "metadata": {
    "scrolled": true
   },
   "outputs": [
    {
     "name": "stdout",
     "output_type": "stream",
     "text": [
      "<class 'pandas.core.frame.DataFrame'>\n",
      "MultiIndex: 258 entries, (2013, Peyton Manning) to (2017, Scott Tolzien)\n",
      "Data columns (total 35 columns):\n",
      "Age            258 non-null int64\n",
      "G              258 non-null int64\n",
      "GS             258 non-null int64\n",
      "Cmp            258 non-null int64\n",
      "Att            258 non-null int64\n",
      "Cmp%           258 non-null float64\n",
      "Yds            258 non-null int64\n",
      "TD             258 non-null int64\n",
      "TD%            258 non-null float64\n",
      "Int            258 non-null int64\n",
      "Int%           258 non-null float64\n",
      "Lng            258 non-null int64\n",
      "Y/A            258 non-null float64\n",
      "AY/A           258 non-null float64\n",
      "Y/C            258 non-null float64\n",
      "Y/G            258 non-null float64\n",
      "Rate           258 non-null float64\n",
      "QBR            258 non-null float64\n",
      "Sk             258 non-null int64\n",
      "Yds2           258 non-null int64\n",
      "NY/A           258 non-null float64\n",
      "ANY/A          258 non-null float64\n",
      "Sk%            258 non-null float64\n",
      "4QC            258 non-null float64\n",
      "GWD            258 non-null float64\n",
      "Pro_Bowl       258 non-null int64\n",
      "Rushing Att    258 non-null float64\n",
      "Rushing Yds    258 non-null float64\n",
      "Rushing TD     258 non-null float64\n",
      "Division       258 non-null object\n",
      "Conference     258 non-null object\n",
      "wins           258 non-null int64\n",
      "losses         258 non-null int64\n",
      "ties           258 non-null int64\n",
      "win%           258 non-null float64\n",
      "dtypes: float64(18), int64(15), object(2)\n",
      "memory usage: 73.1+ KB\n"
     ]
    }
   ],
   "source": [
    "qb_ready.info()"
   ]
  },
  {
   "cell_type": "code",
   "execution_count": 29,
   "metadata": {
    "scrolled": true
   },
   "outputs": [
    {
     "data": {
      "text/html": [
       "<div>\n",
       "<style scoped>\n",
       "    .dataframe tbody tr th:only-of-type {\n",
       "        vertical-align: middle;\n",
       "    }\n",
       "\n",
       "    .dataframe tbody tr th {\n",
       "        vertical-align: top;\n",
       "    }\n",
       "\n",
       "    .dataframe thead th {\n",
       "        text-align: right;\n",
       "    }\n",
       "</style>\n",
       "<table border=\"1\" class=\"dataframe\">\n",
       "  <thead>\n",
       "    <tr style=\"text-align: right;\">\n",
       "      <th></th>\n",
       "      <th>Age</th>\n",
       "      <th>G</th>\n",
       "      <th>GS</th>\n",
       "      <th>Cmp</th>\n",
       "      <th>Att</th>\n",
       "      <th>Cmp%</th>\n",
       "      <th>Yds</th>\n",
       "      <th>TD</th>\n",
       "      <th>TD%</th>\n",
       "      <th>Int</th>\n",
       "      <th>...</th>\n",
       "      <th>4QC</th>\n",
       "      <th>GWD</th>\n",
       "      <th>Pro_Bowl</th>\n",
       "      <th>Rushing Att</th>\n",
       "      <th>Rushing Yds</th>\n",
       "      <th>Rushing TD</th>\n",
       "      <th>wins</th>\n",
       "      <th>losses</th>\n",
       "      <th>ties</th>\n",
       "      <th>win%</th>\n",
       "    </tr>\n",
       "  </thead>\n",
       "  <tbody>\n",
       "    <tr>\n",
       "      <th>count</th>\n",
       "      <td>156.000000</td>\n",
       "      <td>156.000000</td>\n",
       "      <td>156.000000</td>\n",
       "      <td>156.000000</td>\n",
       "      <td>156.000000</td>\n",
       "      <td>156.000000</td>\n",
       "      <td>156.000000</td>\n",
       "      <td>156.000000</td>\n",
       "      <td>156.000000</td>\n",
       "      <td>156.000000</td>\n",
       "      <td>...</td>\n",
       "      <td>156.000000</td>\n",
       "      <td>156.000000</td>\n",
       "      <td>156.000000</td>\n",
       "      <td>156.000000</td>\n",
       "      <td>156.000000</td>\n",
       "      <td>156.000000</td>\n",
       "      <td>156.000000</td>\n",
       "      <td>156.000000</td>\n",
       "      <td>156.000000</td>\n",
       "      <td>156.000000</td>\n",
       "    </tr>\n",
       "    <tr>\n",
       "      <th>mean</th>\n",
       "      <td>29.102564</td>\n",
       "      <td>14.224359</td>\n",
       "      <td>13.961538</td>\n",
       "      <td>304.583333</td>\n",
       "      <td>483.275641</td>\n",
       "      <td>62.742949</td>\n",
       "      <td>3498.217949</td>\n",
       "      <td>22.083333</td>\n",
       "      <td>4.476923</td>\n",
       "      <td>11.378205</td>\n",
       "      <td>...</td>\n",
       "      <td>1.788462</td>\n",
       "      <td>2.243590</td>\n",
       "      <td>0.314103</td>\n",
       "      <td>42.378205</td>\n",
       "      <td>181.448718</td>\n",
       "      <td>1.641026</td>\n",
       "      <td>7.326923</td>\n",
       "      <td>6.589744</td>\n",
       "      <td>0.044872</td>\n",
       "      <td>51.118749</td>\n",
       "    </tr>\n",
       "    <tr>\n",
       "      <th>std</th>\n",
       "      <td>4.693413</td>\n",
       "      <td>2.445730</td>\n",
       "      <td>2.749509</td>\n",
       "      <td>79.910269</td>\n",
       "      <td>115.685590</td>\n",
       "      <td>3.748705</td>\n",
       "      <td>919.827090</td>\n",
       "      <td>9.003195</td>\n",
       "      <td>1.293949</td>\n",
       "      <td>4.426231</td>\n",
       "      <td>...</td>\n",
       "      <td>1.367879</td>\n",
       "      <td>1.451903</td>\n",
       "      <td>0.465652</td>\n",
       "      <td>25.950410</td>\n",
       "      <td>175.422340</td>\n",
       "      <td>1.869789</td>\n",
       "      <td>3.350808</td>\n",
       "      <td>2.599930</td>\n",
       "      <td>0.207689</td>\n",
       "      <td>19.880324</td>\n",
       "    </tr>\n",
       "    <tr>\n",
       "      <th>min</th>\n",
       "      <td>21.000000</td>\n",
       "      <td>8.000000</td>\n",
       "      <td>8.000000</td>\n",
       "      <td>128.000000</td>\n",
       "      <td>195.000000</td>\n",
       "      <td>52.900000</td>\n",
       "      <td>1380.000000</td>\n",
       "      <td>6.000000</td>\n",
       "      <td>2.100000</td>\n",
       "      <td>2.000000</td>\n",
       "      <td>...</td>\n",
       "      <td>0.000000</td>\n",
       "      <td>0.000000</td>\n",
       "      <td>0.000000</td>\n",
       "      <td>5.000000</td>\n",
       "      <td>-31.000000</td>\n",
       "      <td>0.000000</td>\n",
       "      <td>0.000000</td>\n",
       "      <td>1.000000</td>\n",
       "      <td>0.000000</td>\n",
       "      <td>0.000000</td>\n",
       "    </tr>\n",
       "    <tr>\n",
       "      <th>25%</th>\n",
       "      <td>25.000000</td>\n",
       "      <td>13.000000</td>\n",
       "      <td>13.000000</td>\n",
       "      <td>255.000000</td>\n",
       "      <td>411.500000</td>\n",
       "      <td>60.175000</td>\n",
       "      <td>2904.500000</td>\n",
       "      <td>15.000000</td>\n",
       "      <td>3.500000</td>\n",
       "      <td>8.000000</td>\n",
       "      <td>...</td>\n",
       "      <td>1.000000</td>\n",
       "      <td>1.000000</td>\n",
       "      <td>0.000000</td>\n",
       "      <td>25.000000</td>\n",
       "      <td>51.750000</td>\n",
       "      <td>0.000000</td>\n",
       "      <td>5.000000</td>\n",
       "      <td>5.000000</td>\n",
       "      <td>0.000000</td>\n",
       "      <td>37.500000</td>\n",
       "    </tr>\n",
       "    <tr>\n",
       "      <th>50%</th>\n",
       "      <td>28.500000</td>\n",
       "      <td>15.000000</td>\n",
       "      <td>15.000000</td>\n",
       "      <td>311.500000</td>\n",
       "      <td>499.500000</td>\n",
       "      <td>62.950000</td>\n",
       "      <td>3550.500000</td>\n",
       "      <td>21.000000</td>\n",
       "      <td>4.300000</td>\n",
       "      <td>11.000000</td>\n",
       "      <td>...</td>\n",
       "      <td>2.000000</td>\n",
       "      <td>2.000000</td>\n",
       "      <td>0.000000</td>\n",
       "      <td>34.500000</td>\n",
       "      <td>128.500000</td>\n",
       "      <td>1.000000</td>\n",
       "      <td>7.000000</td>\n",
       "      <td>6.000000</td>\n",
       "      <td>0.000000</td>\n",
       "      <td>50.000000</td>\n",
       "    </tr>\n",
       "    <tr>\n",
       "      <th>75%</th>\n",
       "      <td>32.250000</td>\n",
       "      <td>16.000000</td>\n",
       "      <td>16.000000</td>\n",
       "      <td>363.250000</td>\n",
       "      <td>573.500000</td>\n",
       "      <td>65.300000</td>\n",
       "      <td>4234.750000</td>\n",
       "      <td>28.000000</td>\n",
       "      <td>5.325000</td>\n",
       "      <td>14.000000</td>\n",
       "      <td>...</td>\n",
       "      <td>2.250000</td>\n",
       "      <td>3.000000</td>\n",
       "      <td>1.000000</td>\n",
       "      <td>57.000000</td>\n",
       "      <td>262.250000</td>\n",
       "      <td>2.000000</td>\n",
       "      <td>10.000000</td>\n",
       "      <td>8.000000</td>\n",
       "      <td>0.000000</td>\n",
       "      <td>68.750000</td>\n",
       "    </tr>\n",
       "    <tr>\n",
       "      <th>max</th>\n",
       "      <td>40.000000</td>\n",
       "      <td>16.000000</td>\n",
       "      <td>16.000000</td>\n",
       "      <td>471.000000</td>\n",
       "      <td>673.000000</td>\n",
       "      <td>72.000000</td>\n",
       "      <td>5477.000000</td>\n",
       "      <td>55.000000</td>\n",
       "      <td>8.500000</td>\n",
       "      <td>27.000000</td>\n",
       "      <td>...</td>\n",
       "      <td>8.000000</td>\n",
       "      <td>8.000000</td>\n",
       "      <td>1.000000</td>\n",
       "      <td>139.000000</td>\n",
       "      <td>849.000000</td>\n",
       "      <td>10.000000</td>\n",
       "      <td>15.000000</td>\n",
       "      <td>15.000000</td>\n",
       "      <td>1.000000</td>\n",
       "      <td>93.750000</td>\n",
       "    </tr>\n",
       "  </tbody>\n",
       "</table>\n",
       "<p>8 rows × 33 columns</p>\n",
       "</div>"
      ],
      "text/plain": [
       "              Age           G          GS         Cmp         Att        Cmp%  \\\n",
       "count  156.000000  156.000000  156.000000  156.000000  156.000000  156.000000   \n",
       "mean    29.102564   14.224359   13.961538  304.583333  483.275641   62.742949   \n",
       "std      4.693413    2.445730    2.749509   79.910269  115.685590    3.748705   \n",
       "min     21.000000    8.000000    8.000000  128.000000  195.000000   52.900000   \n",
       "25%     25.000000   13.000000   13.000000  255.000000  411.500000   60.175000   \n",
       "50%     28.500000   15.000000   15.000000  311.500000  499.500000   62.950000   \n",
       "75%     32.250000   16.000000   16.000000  363.250000  573.500000   65.300000   \n",
       "max     40.000000   16.000000   16.000000  471.000000  673.000000   72.000000   \n",
       "\n",
       "               Yds          TD         TD%         Int     ...      \\\n",
       "count   156.000000  156.000000  156.000000  156.000000     ...       \n",
       "mean   3498.217949   22.083333    4.476923   11.378205     ...       \n",
       "std     919.827090    9.003195    1.293949    4.426231     ...       \n",
       "min    1380.000000    6.000000    2.100000    2.000000     ...       \n",
       "25%    2904.500000   15.000000    3.500000    8.000000     ...       \n",
       "50%    3550.500000   21.000000    4.300000   11.000000     ...       \n",
       "75%    4234.750000   28.000000    5.325000   14.000000     ...       \n",
       "max    5477.000000   55.000000    8.500000   27.000000     ...       \n",
       "\n",
       "              4QC         GWD    Pro_Bowl  Rushing Att  Rushing Yds  \\\n",
       "count  156.000000  156.000000  156.000000   156.000000   156.000000   \n",
       "mean     1.788462    2.243590    0.314103    42.378205   181.448718   \n",
       "std      1.367879    1.451903    0.465652    25.950410   175.422340   \n",
       "min      0.000000    0.000000    0.000000     5.000000   -31.000000   \n",
       "25%      1.000000    1.000000    0.000000    25.000000    51.750000   \n",
       "50%      2.000000    2.000000    0.000000    34.500000   128.500000   \n",
       "75%      2.250000    3.000000    1.000000    57.000000   262.250000   \n",
       "max      8.000000    8.000000    1.000000   139.000000   849.000000   \n",
       "\n",
       "       Rushing TD        wins      losses        ties        win%  \n",
       "count  156.000000  156.000000  156.000000  156.000000  156.000000  \n",
       "mean     1.641026    7.326923    6.589744    0.044872   51.118749  \n",
       "std      1.869789    3.350808    2.599930    0.207689   19.880324  \n",
       "min      0.000000    0.000000    1.000000    0.000000    0.000000  \n",
       "25%      0.000000    5.000000    5.000000    0.000000   37.500000  \n",
       "50%      1.000000    7.000000    6.000000    0.000000   50.000000  \n",
       "75%      2.000000   10.000000    8.000000    0.000000   68.750000  \n",
       "max     10.000000   15.000000   15.000000    1.000000   93.750000  \n",
       "\n",
       "[8 rows x 33 columns]"
      ]
     },
     "execution_count": 29,
     "metadata": {},
     "output_type": "execute_result"
    }
   ],
   "source": [
    "qb_ready[qb_ready.GS >= 8].describe()"
   ]
  },
  {
   "cell_type": "code",
   "execution_count": 30,
   "metadata": {},
   "outputs": [
    {
     "data": {
      "image/png": "[encoded data removed]",
      "text/plain": [
       "<Figure size 360x360 with 1 Axes>"
      ]
     },
     "metadata": {},
     "output_type": "display_data"
    }
   ],
   "source": [
    "sns.set(style=\"whitegrid\")\n",
    "p = sns.catplot(\"Conference\", \"Y/G\", \"Division\", data = qb_ready[qb_ready.GS >= 8], kind = \"box\", legend = False)\n",
    "plt.legend(bbox_to_anchor=(1.05, 1), loc=2, borderaxespad=0.)\n",
    "plt.show()"
   ]
  },
  {
   "cell_type": "code",
   "execution_count": 31,
   "metadata": {},
   "outputs": [
    {
     "data": {
      "image/png": "[encoded data removed]",
      "text/plain": [
       "<Figure size 360x360 with 1 Axes>"
      ]
     },
     "metadata": {},
     "output_type": "display_data"
    }
   ],
   "source": [
    "p = sns.catplot(\"Conference\", \"Rushing Yds\", \"Division\", data = qb_ready[qb_ready.GS >= 8], kind = \"box\", legend = False)\n",
    "plt.legend(bbox_to_anchor=(1.05, 1), loc=2, borderaxespad=0.)\n",
    "plt.show()"
   ]
  },
  {
   "cell_type": "code",
   "execution_count": 32,
   "metadata": {},
   "outputs": [
    {
     "data": {
      "image/png": "[encoded data removed]",
      "text/plain": [
       "<Figure size 360x360 with 1 Axes>"
      ]
     },
     "metadata": {},
     "output_type": "display_data"
    }
   ],
   "source": [
    "p = sns.catplot(\"Conference\", \"Int\", \"Division\", data = qb_ready[qb_ready.GS >= 8], kind = \"box\", legend = False)\n",
    "plt.legend(bbox_to_anchor=(1.05, 1), loc=2, borderaxespad=0.)\n",
    "plt.show()"
   ]
  },
  {
   "cell_type": "code",
   "execution_count": 33,
   "metadata": {},
   "outputs": [
    {
     "data": {
      "image/png": "[encoded data removed]",
      "text/plain": [
       "<Figure size 360x360 with 1 Axes>"
      ]
     },
     "metadata": {},
     "output_type": "display_data"
    }
   ],
   "source": [
    "p = sns.catplot(\"Conference\", \"Y/G\", \"Pro_Bowl\", data = qb_ready[qb_ready.GS >= 8], kind = \"box\", legend = False)\n",
    "plt.legend(bbox_to_anchor=(1.05, 1), loc=2, borderaxespad=0.)\n",
    "plt.show()"
   ]
  },
  {
   "cell_type": "code",
   "execution_count": 34,
   "metadata": {},
   "outputs": [
    {
     "data": {
      "image/png": "[encoded data removed]",
      "text/plain": [
       "<Figure size 360x360 with 1 Axes>"
      ]
     },
     "metadata": {},
     "output_type": "display_data"
    }
   ],
   "source": [
    "p = sns.catplot(\"Conference\", \"Cmp%\", \"Pro_Bowl\", data = qb_ready[qb_ready.GS >= 8], kind = \"box\", legend = False)\n",
    "plt.legend(bbox_to_anchor=(1.05, 1), loc=2, borderaxespad=0.)\n",
    "plt.show()"
   ]
  },
  {
   "cell_type": "code",
   "execution_count": 35,
   "metadata": {},
   "outputs": [
    {
     "data": {
      "image/png": "[encoded data removed]",
      "text/plain": [
       "<Figure size 360x360 with 1 Axes>"
      ]
     },
     "metadata": {},
     "output_type": "display_data"
    }
   ],
   "source": [
    "p = sns.catplot(\"Conference\", \"Sk\", \"Pro_Bowl\", data = qb_ready[qb_ready.GS >= 8], kind = \"box\", legend = False)\n",
    "plt.legend(bbox_to_anchor=(1.05, 1), loc=2, borderaxespad=0.)\n",
    "plt.show()"
   ]
  },
  {
   "cell_type": "code",
   "execution_count": 36,
   "metadata": {},
   "outputs": [
    {
     "data": {
      "image/png": "[encoded data removed]",
      "text/plain": [
       "<Figure size 360x360 with 1 Axes>"
      ]
     },
     "metadata": {},
     "output_type": "display_data"
    }
   ],
   "source": [
    "p = sns.catplot(\"Division\", \"Y/G\", \"Pro_Bowl\", data = qb_ready[qb_ready.GS >= 8], kind = \"box\", legend = False)\n",
    "plt.legend(bbox_to_anchor=(1.05, 1), loc=2, borderaxespad=0.)\n",
    "p.set_xticklabels(rotation=30)\n",
    "plt.show()"
   ]
  },
  {
   "cell_type": "code",
   "execution_count": 37,
   "metadata": {},
   "outputs": [
    {
     "data": {
      "image/png": "[encoded data removed]",
      "text/plain": [
       "<Figure size 360x360 with 1 Axes>"
      ]
     },
     "metadata": {},
     "output_type": "display_data"
    }
   ],
   "source": [
    "p = sns.catplot(\"Division\", \"Rushing Yds\", \"Pro_Bowl\", data = qb_ready[qb_ready.GS >= 8], kind = \"box\", legend = False)\n",
    "plt.legend(bbox_to_anchor=(1.05, 1), loc=2, borderaxespad=0.)\n",
    "p.set_xticklabels(rotation=30)\n",
    "plt.show()"
   ]
  },
  {
   "cell_type": "code",
   "execution_count": 38,
   "metadata": {},
   "outputs": [
    {
     "data": {
      "image/png": "[encoded data removed]",
      "text/plain": [
       "<Figure size 360x360 with 1 Axes>"
      ]
     },
     "metadata": {},
     "output_type": "display_data"
    }
   ],
   "source": [
    "p = sns.catplot(\"Conference\", \"Y/G\", data = qb_ready[qb_ready.GS >= 8], kind = \"box\", legend = False)\n",
    "plt.show()"
   ]
  },
  {
   "cell_type": "code",
   "execution_count": 39,
   "metadata": {},
   "outputs": [
    {
     "data": {
      "image/png": "[encoded data removed]",
      "text/plain": [
       "<Figure size 360x360 with 1 Axes>"
      ]
     },
     "metadata": {},
     "output_type": "display_data"
    }
   ],
   "source": [
    "p = sns.catplot(\"Conference\", \"Int\", data = qb_ready[qb_ready.GS >= 8], kind = \"box\", legend = False)\n",
    "plt.show()"
   ]
  },
  {
   "cell_type": "code",
   "execution_count": 40,
   "metadata": {},
   "outputs": [
    {
     "data": {
      "image/png": "[encoded data removed]",
      "text/plain": [
       "<Figure size 360x360 with 1 Axes>"
      ]
     },
     "metadata": {},
     "output_type": "display_data"
    }
   ],
   "source": [
    "# Set style of scatterplot\n",
    "sns.set_context(\"notebook\", font_scale=1.1)\n",
    "sns.set_style(\"ticks\")\n",
    "\n",
    "# Create scatterplot of dataframe\n",
    "sns.lmplot('Att', \n",
    "           'Int', \n",
    "           data = qb_ready[qb_ready.GS >=8], \n",
    "           fit_reg=False) \n",
    "# Set title\n",
    "plt.title('Pass Attempts vs. Int Thrown')\n",
    "\n",
    "# Set x-axis label\n",
    "plt.xlabel('Pass Attempts')\n",
    "\n",
    "# Set y-axis label\n",
    "plt.ylabel('Interceptions Thrown')\n",
    "plt.show()"
   ]
  },
  {
   "cell_type": "code",
   "execution_count": 41,
   "metadata": {},
   "outputs": [
    {
     "data": {
      "image/png": "[encoded data removed]",
      "text/plain": [
       "<Figure size 360x360 with 1 Axes>"
      ]
     },
     "metadata": {},
     "output_type": "display_data"
    }
   ],
   "source": [
    "# Set style of scatterplot\n",
    "sns.set_context(\"notebook\", font_scale=1.1)\n",
    "sns.set_style(\"ticks\")\n",
    "\n",
    "# Create scatterplot of dataframe\n",
    "sns.lmplot('Age', \n",
    "           'Cmp%', \n",
    "           data = qb_ready[qb_ready.GS >=8], \n",
    "           fit_reg=False) \n",
    "# Set title\n",
    "plt.title('QB Age vs. Completion %')\n",
    "\n",
    "# Set x-axis label\n",
    "plt.xlabel('QB Age')\n",
    "\n",
    "# Set y-axis label\n",
    "plt.ylabel('Completion %')\n",
    "plt.show()"
   ]
  },
  {
   "cell_type": "code",
   "execution_count": 42,
   "metadata": {},
   "outputs": [
    {
     "data": {
      "image/png": "[encoded data removed]",
      "text/plain": [
       "<Figure size 360x360 with 1 Axes>"
      ]
     },
     "metadata": {},
     "output_type": "display_data"
    }
   ],
   "source": [
    "p = sns.catplot(\"Division\", \"Y/G\", \"Pro_Bowl\", data = qb_ready[qb_ready.GS >= 8], kind = \"box\", legend = False)\n",
    "plt.legend(bbox_to_anchor=(1.05, 1), loc=2, borderaxespad=0.)\n",
    "p.set_xticklabels(rotation=30)\n",
    "plt.show()"
   ]
  },
  {
   "cell_type": "markdown",
   "metadata": {},
   "source": [
    "## Prep data from Sci-Kit Learn Implementation"
   ]
  },
  {
   "cell_type": "code",
   "execution_count": 43,
   "metadata": {
    "scrolled": true
   },
   "outputs": [
    {
     "name": "stdout",
     "output_type": "stream",
     "text": [
      "<class 'pandas.core.frame.DataFrame'>\n",
      "MultiIndex: 156 entries, (2013, Peyton Manning) to (2017, Brett Hundley)\n",
      "Data columns (total 32 columns):\n",
      "Age            156 non-null int64\n",
      "G              156 non-null int64\n",
      "GS             156 non-null int64\n",
      "Cmp            156 non-null int64\n",
      "Att            156 non-null int64\n",
      "Cmp%           156 non-null float64\n",
      "Yds            156 non-null int64\n",
      "TD             156 non-null int64\n",
      "TD%            156 non-null float64\n",
      "Int            156 non-null int64\n",
      "Int%           156 non-null float64\n",
      "Lng            156 non-null int64\n",
      "Y/A            156 non-null float64\n",
      "AY/A           156 non-null float64\n",
      "Y/C            156 non-null float64\n",
      "Y/G            156 non-null float64\n",
      "Rate           156 non-null float64\n",
      "QBR            156 non-null float64\n",
      "Sk             156 non-null int64\n",
      "Yds2           156 non-null int64\n",
      "NY/A           156 non-null float64\n",
      "ANY/A          156 non-null float64\n",
      "Sk%            156 non-null float64\n",
      "4QC            156 non-null float64\n",
      "GWD            156 non-null float64\n",
      "Rushing Att    156 non-null float64\n",
      "Rushing Yds    156 non-null float64\n",
      "Rushing TD     156 non-null float64\n",
      "wins           156 non-null int64\n",
      "losses         156 non-null int64\n",
      "ties           156 non-null int64\n",
      "win%           156 non-null float64\n",
      "dtypes: float64(18), int64(14)\n",
      "memory usage: 41.2+ KB\n"
     ]
    }
   ],
   "source": [
    "data2 = qb_ready.drop(['Pro_Bowl', 'Division', 'Conference'], axis = 1)\n",
    "data2 = data2[data2.GS >= 8]\n",
    "data2.info()"
   ]
  },
  {
   "cell_type": "markdown",
   "metadata": {},
   "source": [
    "### Implementing PCA and K-Means"
   ]
  },
  {
   "cell_type": "markdown",
   "metadata": {},
   "source": [
    "#### PCA Dimension Determination"
   ]
  },
  {
   "cell_type": "code",
   "execution_count": 44,
   "metadata": {},
   "outputs": [],
   "source": [
    "qb_stan=StandardScaler().fit_transform(data2)"
   ]
  },
  {
   "cell_type": "code",
   "execution_count": 45,
   "metadata": {
    "scrolled": true
   },
   "outputs": [
    {
     "data": {
      "image/png": "[encoded data removed]",
      "text/plain": [
       "<Figure size 432x288 with 1 Axes>"
      ]
     },
     "metadata": {},
     "output_type": "display_data"
    }
   ],
   "source": [
    "pca_fit = PCA().fit(qb_stan)\n",
    "plt.plot(np.cumsum(pca_fit.explained_variance_ratio_))\n",
    "plt.xlabel('number of components')\n",
    "plt.ylabel('cumulative explained variance')\n",
    "plt.show()"
   ]
  },
  {
   "cell_type": "markdown",
   "metadata": {},
   "source": [
    "### K-Means Optimal Cluster determination"
   ]
  },
  {
   "cell_type": "code",
   "execution_count": 51,
   "metadata": {},
   "outputs": [],
   "source": [
    "pca = PCA(n_components = 10)\n",
    "x_10d = pca.fit_transform(qb_stan)"
   ]
  },
  {
   "cell_type": "code",
   "execution_count": 52,
   "metadata": {},
   "outputs": [],
   "source": [
    "clusters = {}\n",
    "for i in range(2,8):\n",
    "    kmeans = KMeans(n_clusters = i)\n",
    "    kmeans.fit(x_10d)\n",
    "    clusters[i] = kmeans.labels_"
   ]
  },
  {
   "cell_type": "code",
   "execution_count": 53,
   "metadata": {
    "scrolled": true
   },
   "outputs": [
    {
     "data": {
      "image/png": "[encoded data removed]",
      "text/plain": [
       "<Figure size 432x288 with 1 Axes>"
      ]
     },
     "metadata": {},
     "output_type": "display_data"
    },
    {
     "data": {
      "image/png": "[encoded data removed]",
      "text/plain": [
       "<Figure size 432x288 with 1 Axes>"
      ]
     },
     "metadata": {},
     "output_type": "display_data"
    },
    {
     "data": {
      "image/png": "[encoded data removed]",
      "text/plain": [
       "<Figure size 432x288 with 1 Axes>"
      ]
     },
     "metadata": {},
     "output_type": "display_data"
    },
    {
     "data": {
      "image/png": "[encoded data removed]",
      "text/plain": [
       "<Figure size 432x288 with 1 Axes>"
      ]
     },
     "metadata": {},
     "output_type": "display_data"
    },
    {
     "data": {
      "image/png": "[encoded data removed]",
      "text/plain": [
       "<Figure size 432x288 with 1 Axes>"
      ]
     },
     "metadata": {},
     "output_type": "display_data"
    },
    {
     "data": {
      "image/png": "[encoded data removed]",
      "text/plain": [
       "<Figure size 432x288 with 1 Axes>"
      ]
     },
     "metadata": {},
     "output_type": "display_data"
    }
   ],
   "source": [
    "for i in range(2,8):\n",
    "    plt.scatter(x_10d[:,0], x_10d[:,1], alpha = 1, c = clusters[i], cmap = plt.get_cmap('Spectral', i))\n",
    "    plt.xlabel('Component 1')\n",
    "    plt.ylabel('Component 2')\n",
    "    plt.title('{} Clusters'.format(i))\n",
    "    plt.show()"
   ]
  },
  {
   "cell_type": "markdown",
   "metadata": {},
   "source": [
    "### Implementing K-Means algorithm with 3 clusters"
   ]
  },
  {
   "cell_type": "code",
   "execution_count": 54,
   "metadata": {
    "scrolled": false
   },
   "outputs": [
    {
     "data": {
      "image/png": "[encoded data removed]",
      "text/plain": [
       "<Figure size 504x504 with 1 Axes>"
      ]
     },
     "metadata": {},
     "output_type": "display_data"
    }
   ],
   "source": [
    "#use 10 components, explains almost all of the variance\n",
    "pca = PCA(n_components = 10)\n",
    "x_10d = pca.fit_transform(qb_stan)\n",
    "kmeans = KMeans(n_clusters = 3)\n",
    "X_clustered = kmeans.fit_predict(x_10d)\n",
    "color_map = {0: 'r', 1:'g', 2:'b'}\n",
    "label_color = [color_map[l] for l in X_clustered]\n",
    "plt.figure(figsize = (7,7))\n",
    "plt.scatter(x_10d[:,0], x_10d[:,1], c = label_color, alpha = 0.5)\n",
    "plt.show()"
   ]
  },
  {
   "cell_type": "markdown",
   "metadata": {},
   "source": [
    "### Full Dataset with Labels and Principal Components\n",
    "\n",
    "#### Creating a new complete data frame \n",
    "This new dataframe called full_data essentially has the original data including all of the variables while appending the respective principal components to each respective observation."
   ]
  },
  {
   "cell_type": "code",
   "execution_count": 55,
   "metadata": {},
   "outputs": [
    {
     "data": {
      "text/html": [
       "<div>\n",
       "<style scoped>\n",
       "    .dataframe tbody tr th:only-of-type {\n",
       "        vertical-align: middle;\n",
       "    }\n",
       "\n",
       "    .dataframe tbody tr th {\n",
       "        vertical-align: top;\n",
       "    }\n",
       "\n",
       "    .dataframe thead th {\n",
       "        text-align: right;\n",
       "    }\n",
       "</style>\n",
       "<table border=\"1\" class=\"dataframe\">\n",
       "  <thead>\n",
       "    <tr style=\"text-align: right;\">\n",
       "      <th></th>\n",
       "      <th>Year</th>\n",
       "      <th>Player</th>\n",
       "      <th>Age</th>\n",
       "      <th>G</th>\n",
       "      <th>GS</th>\n",
       "      <th>Cmp</th>\n",
       "      <th>Att</th>\n",
       "      <th>Cmp%</th>\n",
       "      <th>Yds</th>\n",
       "      <th>TD</th>\n",
       "      <th>...</th>\n",
       "      <th>1</th>\n",
       "      <th>2</th>\n",
       "      <th>3</th>\n",
       "      <th>4</th>\n",
       "      <th>5</th>\n",
       "      <th>6</th>\n",
       "      <th>7</th>\n",
       "      <th>8</th>\n",
       "      <th>9</th>\n",
       "      <th>Label</th>\n",
       "    </tr>\n",
       "  </thead>\n",
       "  <tbody>\n",
       "    <tr>\n",
       "      <th>0</th>\n",
       "      <td>2013</td>\n",
       "      <td>Peyton Manning</td>\n",
       "      <td>37</td>\n",
       "      <td>16</td>\n",
       "      <td>16</td>\n",
       "      <td>450</td>\n",
       "      <td>659</td>\n",
       "      <td>68.3</td>\n",
       "      <td>5477</td>\n",
       "      <td>55</td>\n",
       "      <td>...</td>\n",
       "      <td>1.978028</td>\n",
       "      <td>-1.839148</td>\n",
       "      <td>-0.395761</td>\n",
       "      <td>0.622690</td>\n",
       "      <td>-1.351513</td>\n",
       "      <td>-0.007475</td>\n",
       "      <td>0.743753</td>\n",
       "      <td>-0.578524</td>\n",
       "      <td>-0.379195</td>\n",
       "      <td>B</td>\n",
       "    </tr>\n",
       "    <tr>\n",
       "      <th>1</th>\n",
       "      <td>2013</td>\n",
       "      <td>Matt Ryan</td>\n",
       "      <td>28</td>\n",
       "      <td>16</td>\n",
       "      <td>16</td>\n",
       "      <td>439</td>\n",
       "      <td>651</td>\n",
       "      <td>67.4</td>\n",
       "      <td>4515</td>\n",
       "      <td>26</td>\n",
       "      <td>...</td>\n",
       "      <td>-3.307463</td>\n",
       "      <td>-2.664852</td>\n",
       "      <td>-2.879445</td>\n",
       "      <td>0.090854</td>\n",
       "      <td>0.124140</td>\n",
       "      <td>0.005272</td>\n",
       "      <td>-0.205012</td>\n",
       "      <td>0.112917</td>\n",
       "      <td>1.031856</td>\n",
       "      <td>C</td>\n",
       "    </tr>\n",
       "    <tr>\n",
       "      <th>2</th>\n",
       "      <td>2013</td>\n",
       "      <td>Drew Brees</td>\n",
       "      <td>34</td>\n",
       "      <td>16</td>\n",
       "      <td>16</td>\n",
       "      <td>446</td>\n",
       "      <td>650</td>\n",
       "      <td>68.6</td>\n",
       "      <td>5162</td>\n",
       "      <td>39</td>\n",
       "      <td>...</td>\n",
       "      <td>-0.686036</td>\n",
       "      <td>-0.793747</td>\n",
       "      <td>-1.060579</td>\n",
       "      <td>-0.064306</td>\n",
       "      <td>-0.227997</td>\n",
       "      <td>-0.085726</td>\n",
       "      <td>1.005858</td>\n",
       "      <td>0.086306</td>\n",
       "      <td>0.632624</td>\n",
       "      <td>B</td>\n",
       "    </tr>\n",
       "    <tr>\n",
       "      <th>3</th>\n",
       "      <td>2013</td>\n",
       "      <td>Matthew Stafford</td>\n",
       "      <td>25</td>\n",
       "      <td>16</td>\n",
       "      <td>16</td>\n",
       "      <td>371</td>\n",
       "      <td>634</td>\n",
       "      <td>58.5</td>\n",
       "      <td>4650</td>\n",
       "      <td>29</td>\n",
       "      <td>...</td>\n",
       "      <td>-1.614397</td>\n",
       "      <td>-2.110183</td>\n",
       "      <td>1.255529</td>\n",
       "      <td>2.620771</td>\n",
       "      <td>-0.342635</td>\n",
       "      <td>0.410797</td>\n",
       "      <td>-1.573922</td>\n",
       "      <td>-0.105826</td>\n",
       "      <td>-0.405076</td>\n",
       "      <td>C</td>\n",
       "    </tr>\n",
       "    <tr>\n",
       "      <th>4</th>\n",
       "      <td>2013</td>\n",
       "      <td>Tom Brady</td>\n",
       "      <td>36</td>\n",
       "      <td>16</td>\n",
       "      <td>16</td>\n",
       "      <td>380</td>\n",
       "      <td>628</td>\n",
       "      <td>60.5</td>\n",
       "      <td>4343</td>\n",
       "      <td>25</td>\n",
       "      <td>...</td>\n",
       "      <td>-1.721141</td>\n",
       "      <td>-1.083717</td>\n",
       "      <td>1.760212</td>\n",
       "      <td>-2.107886</td>\n",
       "      <td>1.337266</td>\n",
       "      <td>-1.481023</td>\n",
       "      <td>-0.161378</td>\n",
       "      <td>1.253736</td>\n",
       "      <td>-0.968618</td>\n",
       "      <td>C</td>\n",
       "    </tr>\n",
       "  </tbody>\n",
       "</table>\n",
       "<p>5 rows × 45 columns</p>\n",
       "</div>"
      ],
      "text/plain": [
       "   Year            Player  Age   G  GS  Cmp  Att  Cmp%   Yds  TD  ...    \\\n",
       "0  2013    Peyton Manning   37  16  16  450  659  68.3  5477  55  ...     \n",
       "1  2013         Matt Ryan   28  16  16  439  651  67.4  4515  26  ...     \n",
       "2  2013        Drew Brees   34  16  16  446  650  68.6  5162  39  ...     \n",
       "3  2013  Matthew Stafford   25  16  16  371  634  58.5  4650  29  ...     \n",
       "4  2013         Tom Brady   36  16  16  380  628  60.5  4343  25  ...     \n",
       "\n",
       "          1         2         3         4         5         6         7  \\\n",
       "0  1.978028 -1.839148 -0.395761  0.622690 -1.351513 -0.007475  0.743753   \n",
       "1 -3.307463 -2.664852 -2.879445  0.090854  0.124140  0.005272 -0.205012   \n",
       "2 -0.686036 -0.793747 -1.060579 -0.064306 -0.227997 -0.085726  1.005858   \n",
       "3 -1.614397 -2.110183  1.255529  2.620771 -0.342635  0.410797 -1.573922   \n",
       "4 -1.721141 -1.083717  1.760212 -2.107886  1.337266 -1.481023 -0.161378   \n",
       "\n",
       "          8         9  Label  \n",
       "0 -0.578524 -0.379195      B  \n",
       "1  0.112917  1.031856      C  \n",
       "2  0.086306  0.632624      B  \n",
       "3 -0.105826 -0.405076      C  \n",
       "4  1.253736 -0.968618      C  \n",
       "\n",
       "[5 rows x 45 columns]"
      ]
     },
     "execution_count": 55,
     "metadata": {},
     "output_type": "execute_result"
    }
   ],
   "source": [
    "full_data = pd.DataFrame(x_10d)\n",
    "full_data.index = data2.index\n",
    "full_data = pd.concat([data2, full_data], axis = 1)\n",
    "full_data.index = data2.index\n",
    "full_data = full_data.reset_index()\n",
    "full_data['Label'] = kmeans.labels_\n",
    "full_data.Label = full_data.Label.replace([0,1,2], ['A', 'B', 'C'])\n",
    "full_data.Label = full_data.Label.astype('category')\n",
    "\n",
    "full_data.head()"
   ]
  },
  {
   "cell_type": "code",
   "execution_count": 56,
   "metadata": {
    "scrolled": true
   },
   "outputs": [
    {
     "name": "stdout",
     "output_type": "stream",
     "text": [
      "<class 'pandas.core.frame.DataFrame'>\n",
      "RangeIndex: 156 entries, 0 to 155\n",
      "Data columns (total 45 columns):\n",
      "Year           156 non-null int64\n",
      "Player         156 non-null object\n",
      "Age            156 non-null int64\n",
      "G              156 non-null int64\n",
      "GS             156 non-null int64\n",
      "Cmp            156 non-null int64\n",
      "Att            156 non-null int64\n",
      "Cmp%           156 non-null float64\n",
      "Yds            156 non-null int64\n",
      "TD             156 non-null int64\n",
      "TD%            156 non-null float64\n",
      "Int            156 non-null int64\n",
      "Int%           156 non-null float64\n",
      "Lng            156 non-null int64\n",
      "Y/A            156 non-null float64\n",
      "AY/A           156 non-null float64\n",
      "Y/C            156 non-null float64\n",
      "Y/G            156 non-null float64\n",
      "Rate           156 non-null float64\n",
      "QBR            156 non-null float64\n",
      "Sk             156 non-null int64\n",
      "Yds2           156 non-null int64\n",
      "NY/A           156 non-null float64\n",
      "ANY/A          156 non-null float64\n",
      "Sk%            156 non-null float64\n",
      "4QC            156 non-null float64\n",
      "GWD            156 non-null float64\n",
      "Rushing Att    156 non-null float64\n",
      "Rushing Yds    156 non-null float64\n",
      "Rushing TD     156 non-null float64\n",
      "wins           156 non-null int64\n",
      "losses         156 non-null int64\n",
      "ties           156 non-null int64\n",
      "win%           156 non-null float64\n",
      "0              156 non-null float64\n",
      "1              156 non-null float64\n",
      "2              156 non-null float64\n",
      "3              156 non-null float64\n",
      "4              156 non-null float64\n",
      "5              156 non-null float64\n",
      "6              156 non-null float64\n",
      "7              156 non-null float64\n",
      "8              156 non-null float64\n",
      "9              156 non-null float64\n",
      "Label          156 non-null category\n",
      "dtypes: category(1), float64(28), int64(15), object(1)\n",
      "memory usage: 54.0+ KB\n"
     ]
    }
   ],
   "source": [
    "full_data.info()"
   ]
  },
  {
   "cell_type": "markdown",
   "metadata": {},
   "source": [
    "### Results of Clustering"
   ]
  },
  {
   "cell_type": "code",
   "execution_count": 65,
   "metadata": {},
   "outputs": [
    {
     "data": {
      "text/plain": [
       "Label\n",
       "A    38\n",
       "B    40\n",
       "C    78\n",
       "Name: Player, dtype: int64"
      ]
     },
     "execution_count": 65,
     "metadata": {},
     "output_type": "execute_result"
    }
   ],
   "source": [
    "full_data.groupby('Label').Player.count()"
   ]
  },
  {
   "cell_type": "code",
   "execution_count": 58,
   "metadata": {},
   "outputs": [],
   "source": [
    "basic_stats = full_data[['Player', 'Age', 'G', 'GS', 'Label']]\n",
    "\n",
    "baseline_stats = full_data[['Player','Cmp', 'Att', 'Yds', 'TD', 'Int', 'Y/G', 'Sk', '4QC', 'GWD', 'Label', 'Rate', 'QBR']]\n",
    "\n",
    "calculated_stats = full_data[['Player', 'Cmp%', 'TD%', 'Int%', 'Y/A', 'AY/A', 'Y/C', 'Label']]\n",
    "\n",
    "rushing_stats = full_data[['Player', 'Rushing Att', 'Rushing Yds', 'Rushing TD', 'Label']]\n",
    "\n",
    "record_stats = full_data[['Player', 'wins', 'losses', 'ties', 'win%', 'Label']]"
   ]
  },
  {
   "cell_type": "code",
   "execution_count": 59,
   "metadata": {
    "scrolled": true
   },
   "outputs": [
    {
     "data": {
      "text/html": [
       "<div>\n",
       "<style scoped>\n",
       "    .dataframe tbody tr th:only-of-type {\n",
       "        vertical-align: middle;\n",
       "    }\n",
       "\n",
       "    .dataframe tbody tr th {\n",
       "        vertical-align: top;\n",
       "    }\n",
       "\n",
       "    .dataframe thead th {\n",
       "        text-align: right;\n",
       "    }\n",
       "</style>\n",
       "<table border=\"1\" class=\"dataframe\">\n",
       "  <thead>\n",
       "    <tr style=\"text-align: right;\">\n",
       "      <th></th>\n",
       "      <th>Cmp</th>\n",
       "      <th>Att</th>\n",
       "      <th>Yds</th>\n",
       "      <th>TD</th>\n",
       "      <th>Int</th>\n",
       "      <th>Y/G</th>\n",
       "      <th>Sk</th>\n",
       "      <th>4QC</th>\n",
       "      <th>GWD</th>\n",
       "      <th>Rate</th>\n",
       "      <th>QBR</th>\n",
       "    </tr>\n",
       "    <tr>\n",
       "      <th>Label</th>\n",
       "      <th></th>\n",
       "      <th></th>\n",
       "      <th></th>\n",
       "      <th></th>\n",
       "      <th></th>\n",
       "      <th></th>\n",
       "      <th></th>\n",
       "      <th></th>\n",
       "      <th></th>\n",
       "      <th></th>\n",
       "      <th></th>\n",
       "    </tr>\n",
       "  </thead>\n",
       "  <tbody>\n",
       "    <tr>\n",
       "      <th>A</th>\n",
       "      <td>199.63</td>\n",
       "      <td>332.89</td>\n",
       "      <td>2228.37</td>\n",
       "      <td>11.47</td>\n",
       "      <td>10.29</td>\n",
       "      <td>207.90</td>\n",
       "      <td>25.03</td>\n",
       "      <td>1.00</td>\n",
       "      <td>1.18</td>\n",
       "      <td>79.23</td>\n",
       "      <td>45.09</td>\n",
       "    </tr>\n",
       "    <tr>\n",
       "      <th>B</th>\n",
       "      <td>351.18</td>\n",
       "      <td>530.88</td>\n",
       "      <td>4209.52</td>\n",
       "      <td>30.90</td>\n",
       "      <td>9.43</td>\n",
       "      <td>277.27</td>\n",
       "      <td>27.22</td>\n",
       "      <td>2.00</td>\n",
       "      <td>2.58</td>\n",
       "      <td>102.60</td>\n",
       "      <td>69.96</td>\n",
       "    </tr>\n",
       "    <tr>\n",
       "      <th>C</th>\n",
       "      <td>331.82</td>\n",
       "      <td>532.13</td>\n",
       "      <td>3752.09</td>\n",
       "      <td>22.73</td>\n",
       "      <td>12.91</td>\n",
       "      <td>243.52</td>\n",
       "      <td>36.23</td>\n",
       "      <td>2.06</td>\n",
       "      <td>2.59</td>\n",
       "      <td>87.57</td>\n",
       "      <td>55.04</td>\n",
       "    </tr>\n",
       "  </tbody>\n",
       "</table>\n",
       "</div>"
      ],
      "text/plain": [
       "          Cmp     Att      Yds     TD    Int     Y/G     Sk   4QC   GWD  \\\n",
       "Label                                                                     \n",
       "A      199.63  332.89  2228.37  11.47  10.29  207.90  25.03  1.00  1.18   \n",
       "B      351.18  530.88  4209.52  30.90   9.43  277.27  27.22  2.00  2.58   \n",
       "C      331.82  532.13  3752.09  22.73  12.91  243.52  36.23  2.06  2.59   \n",
       "\n",
       "         Rate    QBR  \n",
       "Label                 \n",
       "A       79.23  45.09  \n",
       "B      102.60  69.96  \n",
       "C       87.57  55.04  "
      ]
     },
     "execution_count": 59,
     "metadata": {},
     "output_type": "execute_result"
    }
   ],
   "source": [
    "baseline_stats.groupby('Label').mean().round(2)"
   ]
  },
  {
   "cell_type": "code",
   "execution_count": 60,
   "metadata": {
    "scrolled": true
   },
   "outputs": [
    {
     "data": {
      "text/html": [
       "<div>\n",
       "<style scoped>\n",
       "    .dataframe tbody tr th:only-of-type {\n",
       "        vertical-align: middle;\n",
       "    }\n",
       "\n",
       "    .dataframe tbody tr th {\n",
       "        vertical-align: top;\n",
       "    }\n",
       "\n",
       "    .dataframe thead th {\n",
       "        text-align: right;\n",
       "    }\n",
       "</style>\n",
       "<table border=\"1\" class=\"dataframe\">\n",
       "  <thead>\n",
       "    <tr style=\"text-align: right;\">\n",
       "      <th></th>\n",
       "      <th>Cmp%</th>\n",
       "      <th>TD%</th>\n",
       "      <th>Int%</th>\n",
       "      <th>Y/A</th>\n",
       "      <th>AY/A</th>\n",
       "      <th>Y/C</th>\n",
       "    </tr>\n",
       "    <tr>\n",
       "      <th>Label</th>\n",
       "      <th></th>\n",
       "      <th></th>\n",
       "      <th></th>\n",
       "      <th></th>\n",
       "      <th></th>\n",
       "      <th></th>\n",
       "    </tr>\n",
       "  </thead>\n",
       "  <tbody>\n",
       "    <tr>\n",
       "      <th>A</th>\n",
       "      <td>60.09</td>\n",
       "      <td>3.46</td>\n",
       "      <td>3.02</td>\n",
       "      <td>6.75</td>\n",
       "      <td>6.08</td>\n",
       "      <td>11.23</td>\n",
       "    </tr>\n",
       "    <tr>\n",
       "      <th>B</th>\n",
       "      <td>66.08</td>\n",
       "      <td>5.87</td>\n",
       "      <td>1.76</td>\n",
       "      <td>7.97</td>\n",
       "      <td>8.36</td>\n",
       "      <td>12.07</td>\n",
       "    </tr>\n",
       "    <tr>\n",
       "      <th>C</th>\n",
       "      <td>62.32</td>\n",
       "      <td>4.26</td>\n",
       "      <td>2.42</td>\n",
       "      <td>7.07</td>\n",
       "      <td>6.83</td>\n",
       "      <td>11.37</td>\n",
       "    </tr>\n",
       "  </tbody>\n",
       "</table>\n",
       "</div>"
      ],
      "text/plain": [
       "        Cmp%   TD%  Int%   Y/A  AY/A    Y/C\n",
       "Label                                      \n",
       "A      60.09  3.46  3.02  6.75  6.08  11.23\n",
       "B      66.08  5.87  1.76  7.97  8.36  12.07\n",
       "C      62.32  4.26  2.42  7.07  6.83  11.37"
      ]
     },
     "execution_count": 60,
     "metadata": {},
     "output_type": "execute_result"
    }
   ],
   "source": [
    "calculated_stats.groupby('Label').mean().round(2)"
   ]
  },
  {
   "cell_type": "code",
   "execution_count": 61,
   "metadata": {},
   "outputs": [
    {
     "data": {
      "text/html": [
       "<div>\n",
       "<style scoped>\n",
       "    .dataframe tbody tr th:only-of-type {\n",
       "        vertical-align: middle;\n",
       "    }\n",
       "\n",
       "    .dataframe tbody tr th {\n",
       "        vertical-align: top;\n",
       "    }\n",
       "\n",
       "    .dataframe thead th {\n",
       "        text-align: right;\n",
       "    }\n",
       "</style>\n",
       "<table border=\"1\" class=\"dataframe\">\n",
       "  <thead>\n",
       "    <tr style=\"text-align: right;\">\n",
       "      <th></th>\n",
       "      <th>Rushing Att</th>\n",
       "      <th>Rushing Yds</th>\n",
       "      <th>Rushing TD</th>\n",
       "    </tr>\n",
       "    <tr>\n",
       "      <th>Label</th>\n",
       "      <th></th>\n",
       "      <th></th>\n",
       "      <th></th>\n",
       "    </tr>\n",
       "  </thead>\n",
       "  <tbody>\n",
       "    <tr>\n",
       "      <th>A</th>\n",
       "      <td>30.74</td>\n",
       "      <td>142.05</td>\n",
       "      <td>1.11</td>\n",
       "    </tr>\n",
       "    <tr>\n",
       "      <th>B</th>\n",
       "      <td>41.05</td>\n",
       "      <td>137.40</td>\n",
       "      <td>1.55</td>\n",
       "    </tr>\n",
       "    <tr>\n",
       "      <th>C</th>\n",
       "      <td>48.73</td>\n",
       "      <td>223.23</td>\n",
       "      <td>1.95</td>\n",
       "    </tr>\n",
       "  </tbody>\n",
       "</table>\n",
       "</div>"
      ],
      "text/plain": [
       "       Rushing Att  Rushing Yds  Rushing TD\n",
       "Label                                      \n",
       "A            30.74       142.05        1.11\n",
       "B            41.05       137.40        1.55\n",
       "C            48.73       223.23        1.95"
      ]
     },
     "execution_count": 61,
     "metadata": {},
     "output_type": "execute_result"
    }
   ],
   "source": [
    "rushing_stats.groupby('Label').mean().round(2)"
   ]
  },
  {
   "cell_type": "code",
   "execution_count": 62,
   "metadata": {
    "scrolled": true
   },
   "outputs": [
    {
     "data": {
      "text/html": [
       "<div>\n",
       "<style scoped>\n",
       "    .dataframe tbody tr th:only-of-type {\n",
       "        vertical-align: middle;\n",
       "    }\n",
       "\n",
       "    .dataframe tbody tr th {\n",
       "        vertical-align: top;\n",
       "    }\n",
       "\n",
       "    .dataframe thead th {\n",
       "        text-align: right;\n",
       "    }\n",
       "</style>\n",
       "<table border=\"1\" class=\"dataframe\">\n",
       "  <thead>\n",
       "    <tr style=\"text-align: right;\">\n",
       "      <th></th>\n",
       "      <th>wins</th>\n",
       "      <th>losses</th>\n",
       "      <th>ties</th>\n",
       "      <th>win%</th>\n",
       "    </tr>\n",
       "    <tr>\n",
       "      <th>Label</th>\n",
       "      <th></th>\n",
       "      <th></th>\n",
       "      <th></th>\n",
       "      <th></th>\n",
       "    </tr>\n",
       "  </thead>\n",
       "  <tbody>\n",
       "    <tr>\n",
       "      <th>A</th>\n",
       "      <td>3.42</td>\n",
       "      <td>6.55</td>\n",
       "      <td>0.03</td>\n",
       "      <td>34.74</td>\n",
       "    </tr>\n",
       "    <tr>\n",
       "      <th>B</th>\n",
       "      <td>10.45</td>\n",
       "      <td>4.58</td>\n",
       "      <td>0.02</td>\n",
       "      <td>69.74</td>\n",
       "    </tr>\n",
       "    <tr>\n",
       "      <th>C</th>\n",
       "      <td>7.63</td>\n",
       "      <td>7.64</td>\n",
       "      <td>0.06</td>\n",
       "      <td>49.55</td>\n",
       "    </tr>\n",
       "  </tbody>\n",
       "</table>\n",
       "</div>"
      ],
      "text/plain": [
       "        wins  losses  ties   win%\n",
       "Label                            \n",
       "A       3.42    6.55  0.03  34.74\n",
       "B      10.45    4.58  0.02  69.74\n",
       "C       7.63    7.64  0.06  49.55"
      ]
     },
     "execution_count": 62,
     "metadata": {},
     "output_type": "execute_result"
    }
   ],
   "source": [
    "record_stats.groupby('Label').mean().round(2)"
   ]
  },
  {
   "cell_type": "markdown",
   "metadata": {},
   "source": [
    "##### How many times a player appeared in each Cluster\n",
    "\n",
    "<b>Group A</b>"
   ]
  },
  {
   "cell_type": "code",
   "execution_count": 71,
   "metadata": {
    "scrolled": true
   },
   "outputs": [
    {
     "data": {
      "text/plain": [
       "Player\n",
       "Austin Davis         1\n",
       "Blaine Gabbert       1\n",
       "Blake Bortles        1\n",
       "Brett Hundley        1\n",
       "Brian Hoyer          1\n",
       "Brock Osweiler       1\n",
       "Case Keenum          2\n",
       "Chad Henne           1\n",
       "Christian Ponder     1\n",
       "Cody Kessler         1\n",
       "Colin Kaepernick     2\n",
       "DeShone Kizer        1\n",
       "Drew Stanton         1\n",
       "EJ Manuel            1\n",
       "Geno Smith           1\n",
       "Jason Campbell       1\n",
       "Jay Cutler           2\n",
       "Joe Flacco           1\n",
       "Josh McCown          2\n",
       "Kellen Clemens       1\n",
       "Mark Sanchez         1\n",
       "Matt Hasselbeck      1\n",
       "Matt Schaub          1\n",
       "Mike Glennon         1\n",
       "Mitchell Trubisky    1\n",
       "Nick Foles           2\n",
       "Peyton Manning       1\n",
       "Ryan Fitzpatrick     3\n",
       "Shaun Hill           1\n",
       "Terrelle Pryor       1\n",
       "Trevor Siemian       1\n",
       "dtype: int64"
      ]
     },
     "execution_count": 71,
     "metadata": {},
     "output_type": "execute_result"
    }
   ],
   "source": [
    "full_data.groupby(['Label', 'Player']).size()['A']"
   ]
  },
  {
   "cell_type": "markdown",
   "metadata": {},
   "source": [
    "<b>Group B</b>"
   ]
  },
  {
   "cell_type": "code",
   "execution_count": 73,
   "metadata": {},
   "outputs": [
    {
     "data": {
      "text/plain": [
       "Player\n",
       "Aaron Rodgers         3\n",
       "Alex Smith            1\n",
       "Andrew Luck           1\n",
       "Andy Dalton           1\n",
       "Ben Roethlisberger    4\n",
       "Cam Newton            1\n",
       "Carson Palmer         1\n",
       "Carson Wentz          1\n",
       "Case Keenum           1\n",
       "Dak Prescott          1\n",
       "Derek Carr            1\n",
       "Drew Brees            5\n",
       "Jared Goff            1\n",
       "Joe Flacco            1\n",
       "Kirk Cousins          2\n",
       "Matt Ryan             2\n",
       "Matthew Stafford      1\n",
       "Nick Foles            1\n",
       "Peyton Manning        2\n",
       "Philip Rivers         2\n",
       "Russell Wilson        2\n",
       "Tom Brady             4\n",
       "Tony Romo             1\n",
       "dtype: int64"
      ]
     },
     "execution_count": 73,
     "metadata": {},
     "output_type": "execute_result"
    }
   ],
   "source": [
    "full_data.groupby(['Label', 'Player']).size()['B']"
   ]
  },
  {
   "cell_type": "markdown",
   "metadata": {},
   "source": [
    "<b>Group C</b>"
   ]
  },
  {
   "cell_type": "code",
   "execution_count": 72,
   "metadata": {},
   "outputs": [
    {
     "data": {
      "text/plain": [
       "Player\n",
       "Aaron Rodgers         1\n",
       "Alex Smith            4\n",
       "Andrew Luck           2\n",
       "Andy Dalton           4\n",
       "Ben Roethlisberger    1\n",
       "Blake Bortles         3\n",
       "Brian Hoyer           1\n",
       "Cam Newton            4\n",
       "Carson Palmer         2\n",
       "Carson Wentz          1\n",
       "Colin Kaepernick      2\n",
       "Dak Prescott          1\n",
       "Derek Carr            3\n",
       "Eli Manning           5\n",
       "Geno Smith            1\n",
       "Jacoby Brissett       1\n",
       "Jameis Winston        3\n",
       "Jay Cutler            2\n",
       "Joe Flacco            3\n",
       "Josh McCown           1\n",
       "Kirk Cousins          1\n",
       "Kyle Orton            1\n",
       "Marcus Mariota        3\n",
       "Matt Ryan             3\n",
       "Matthew Stafford      4\n",
       "Philip Rivers         3\n",
       "Robert Griffin        1\n",
       "Russell Wilson        3\n",
       "Ryan Fitzpatrick      1\n",
       "Ryan Tannehill        4\n",
       "Sam Bradford          2\n",
       "Teddy Bridgewater     2\n",
       "Tom Brady             1\n",
       "Tony Romo             1\n",
       "Trevor Siemian        1\n",
       "Tyrod Taylor          2\n",
       "dtype: int64"
      ]
     },
     "execution_count": 72,
     "metadata": {},
     "output_type": "execute_result"
    }
   ],
   "source": [
    "full_data.groupby(['Label', 'Player']).size()['C']"
   ]
  },
  {
   "cell_type": "markdown",
   "metadata": {},
   "source": [
    "### Bokeh Scatter Plot"
   ]
  },
  {
   "cell_type": "markdown",
   "metadata": {},
   "source": [
    "As an extra addition, we included an interactive scatter plot using the bokeh library that allows the user to hover their mouse over each individual point, allowing them to see which NFL quarterback represents each dot. Bokeh plots also allow for pan across the plot while being able to zoom in and out on the plot. Because Bokeh plots are not displayable on github, we included the html file in the github repository. Clone the repository and open up the html file in order to view the interactive Bokeh plot."
   ]
  },
  {
   "cell_type": "code",
   "execution_count": 66,
   "metadata": {},
   "outputs": [],
   "source": [
    "from bokeh.plotting import figure, output_notebook, show, ColumnDataSource\n",
    "from bokeh.models import CategoricalColorMapper\n",
    "from bokeh.palettes import Category10"
   ]
  },
  {
   "cell_type": "code",
   "execution_count": 67,
   "metadata": {},
   "outputs": [
    {
     "data": {
      "text/html": [
       "\n",
       "    <div class=\"bk-root\">\n",
       "        <a href=\"https://bokeh.pydata.org\" target=\"_blank\" class=\"bk-logo bk-logo-small bk-logo-notebook\"></a>\n",
       "        <span id=\"1001\">Loading BokehJS ...</span>\n",
       "    </div>"
      ]
     },
     "metadata": {},
     "output_type": "display_data"
    },
    {
     "data": {
      "application/javascript": [
       "\n",
       "(function(root) {\n",
       "  function now() {\n",
       "    return new Date();\n",
       "  }\n",
       "\n",
       "  var force = true;\n",
       "\n",
       "  if (typeof (root._bokeh_onload_callbacks) === \"undefined\" || force === true) {\n",
       "    root._bokeh_onload_callbacks = [];\n",
       "    root._bokeh_is_loading = undefined;\n",
       "  }\n",
       "\n",
       "  var JS_MIME_TYPE = 'application/javascript';\n",
       "  var HTML_MIME_TYPE = 'text/html';\n",
       "  var EXEC_MIME_TYPE = 'application/vnd.bokehjs_exec.v0+json';\n",
       "  var CLASS_NAME = 'output_bokeh rendered_html';\n",
       "\n",
       "  /**\n",
       "   * Render data to the DOM node\n",
       "   */\n",
       "  function render(props, node) {\n",
       "    var script = document.createElement(\"script\");\n",
       "    node.appendChild(script);\n",
       "  }\n",
       "\n",
       "  /**\n",
       "   * Handle when an output is cleared or removed\n",
       "   */\n",
       "  function handleClearOutput(event, handle) {\n",
       "    var cell = handle.cell;\n",
       "\n",
       "    var id = cell.output_area._bokeh_element_id;\n",
       "    var server_id = cell.output_area._bokeh_server_id;\n",
       "    // Clean up Bokeh references\n",
       "    if (id != null && id in Bokeh.index) {\n",
       "      Bokeh.index[id].model.document.clear();\n",
       "      delete Bokeh.index[id];\n",
       "    }\n",
       "\n",
       "    if (server_id !== undefined) {\n",
       "      // Clean up Bokeh references\n",
       "      var cmd = \"from bokeh.io.state import curstate; print(curstate().uuid_to_server['\" + server_id + \"'].get_sessions()[0].document.roots[0]._id)\";\n",
       "      cell.notebook.kernel.execute(cmd, {\n",
       "        iopub: {\n",
       "          output: function(msg) {\n",
       "            var id = msg.content.text.trim();\n",
       "            if (id in Bokeh.index) {\n",
       "              Bokeh.index[id].model.document.clear();\n",
       "              delete Bokeh.index[id];\n",
       "            }\n",
       "          }\n",
       "        }\n",
       "      });\n",
       "      // Destroy server and session\n",
       "      var cmd = \"import bokeh.io.notebook as ion; ion.destroy_server('\" + server_id + \"')\";\n",
       "      cell.notebook.kernel.execute(cmd);\n",
       "    }\n",
       "  }\n",
       "\n",
       "  /**\n",
       "   * Handle when a new output is added\n",
       "   */\n",
       "  function handleAddOutput(event, handle) {\n",
       "    var output_area = handle.output_area;\n",
       "    var output = handle.output;\n",
       "\n",
       "    // limit handleAddOutput to display_data with EXEC_MIME_TYPE content only\n",
       "    if ((output.output_type != \"display_data\") || (!output.data.hasOwnProperty(EXEC_MIME_TYPE))) {\n",
       "      return\n",
       "    }\n",
       "\n",
       "    var toinsert = output_area.element.find(\".\" + CLASS_NAME.split(' ')[0]);\n",
       "\n",
       "    if (output.metadata[EXEC_MIME_TYPE][\"id\"] !== undefined) {\n",
       "      toinsert[toinsert.length - 1].firstChild.textContent = output.data[JS_MIME_TYPE];\n",
       "      // store reference to embed id on output_area\n",
       "      output_area._bokeh_element_id = output.metadata[EXEC_MIME_TYPE][\"id\"];\n",
       "    }\n",
       "    if (output.metadata[EXEC_MIME_TYPE][\"server_id\"] !== undefined) {\n",
       "      var bk_div = document.createElement(\"div\");\n",
       "      bk_div.innerHTML = output.data[HTML_MIME_TYPE];\n",
       "      var script_attrs = bk_div.children[0].attributes;\n",
       "      for (var i = 0; i < script_attrs.length; i++) {\n",
       "        toinsert[toinsert.length - 1].firstChild.setAttribute(script_attrs[i].name, script_attrs[i].value);\n",
       "      }\n",
       "      // store reference to server id on output_area\n",
       "      output_area._bokeh_server_id = output.metadata[EXEC_MIME_TYPE][\"server_id\"];\n",
       "    }\n",
       "  }\n",
       "\n",
       "  function register_renderer(events, OutputArea) {\n",
       "\n",
       "    function append_mime(data, metadata, element) {\n",
       "      // create a DOM node to render to\n",
       "      var toinsert = this.create_output_subarea(\n",
       "        metadata,\n",
       "        CLASS_NAME,\n",
       "        EXEC_MIME_TYPE\n",
       "      );\n",
       "      this.keyboard_manager.register_events(toinsert);\n",
       "      // Render to node\n",
       "      var props = {data: data, metadata: metadata[EXEC_MIME_TYPE]};\n",
       "      render(props, toinsert[toinsert.length - 1]);\n",
       "      element.append(toinsert);\n",
       "      return toinsert\n",
       "    }\n",
       "\n",
       "    /* Handle when an output is cleared or removed */\n",
       "    events.on('clear_output.CodeCell', handleClearOutput);\n",
       "    events.on('delete.Cell', handleClearOutput);\n",
       "\n",
       "    /* Handle when a new output is added */\n",
       "    events.on('output_added.OutputArea', handleAddOutput);\n",
       "\n",
       "    /**\n",
       "     * Register the mime type and append_mime function with output_area\n",
       "     */\n",
       "    OutputArea.prototype.register_mime_type(EXEC_MIME_TYPE, append_mime, {\n",
       "      /* Is output safe? */\n",
       "      safe: true,\n",
       "      /* Index of renderer in `output_area.display_order` */\n",
       "      index: 0\n",
       "    });\n",
       "  }\n",
       "\n",
       "  // register the mime type if in Jupyter Notebook environment and previously unregistered\n",
       "  if (root.Jupyter !== undefined) {\n",
       "    var events = require('base/js/events');\n",
       "    var OutputArea = require('notebook/js/outputarea').OutputArea;\n",
       "\n",
       "    if (OutputArea.prototype.mime_types().indexOf(EXEC_MIME_TYPE) == -1) {\n",
       "      register_renderer(events, OutputArea);\n",
       "    }\n",
       "  }\n",
       "\n",
       "  \n",
       "  if (typeof (root._bokeh_timeout) === \"undefined\" || force === true) {\n",
       "    root._bokeh_timeout = Date.now() + 5000;\n",
       "    root._bokeh_failed_load = false;\n",
       "  }\n",
       "\n",
       "  var NB_LOAD_WARNING = {'data': {'text/html':\n",
       "     \"<div style='background-color: #fdd'>\\n\"+\n",
       "     \"<p>\\n\"+\n",
       "     \"BokehJS does not appear to have successfully loaded. If loading BokehJS from CDN, this \\n\"+\n",
       "     \"may be due to a slow or bad network connection. Possible fixes:\\n\"+\n",
       "     \"</p>\\n\"+\n",
       "     \"<ul>\\n\"+\n",
       "     \"<li>re-rerun `output_notebook()` to attempt to load from CDN again, or</li>\\n\"+\n",
       "     \"<li>use INLINE resources instead, as so:</li>\\n\"+\n",
       "     \"</ul>\\n\"+\n",
       "     \"<code>\\n\"+\n",
       "     \"from bokeh.resources import INLINE\\n\"+\n",
       "     \"output_notebook(resources=INLINE)\\n\"+\n",
       "     \"</code>\\n\"+\n",
       "     \"</div>\"}};\n",
       "\n",
       "  function display_loaded() {\n",
       "    var el = document.getElementById(\"1001\");\n",
       "    if (el != null) {\n",
       "      el.textContent = \"BokehJS is loading...\";\n",
       "    }\n",
       "    if (root.Bokeh !== undefined) {\n",
       "      if (el != null) {\n",
       "        el.textContent = \"BokehJS \" + root.Bokeh.version + \" successfully loaded.\";\n",
       "      }\n",
       "    } else if (Date.now() < root._bokeh_timeout) {\n",
       "      setTimeout(display_loaded, 100)\n",
       "    }\n",
       "  }\n",
       "\n",
       "\n",
       "  function run_callbacks() {\n",
       "    try {\n",
       "      root._bokeh_onload_callbacks.forEach(function(callback) { callback() });\n",
       "    }\n",
       "    finally {\n",
       "      delete root._bokeh_onload_callbacks\n",
       "    }\n",
       "    console.info(\"Bokeh: all callbacks have finished\");\n",
       "  }\n",
       "\n",
       "  function load_libs(js_urls, callback) {\n",
       "    root._bokeh_onload_callbacks.push(callback);\n",
       "    if (root._bokeh_is_loading > 0) {\n",
       "      console.log(\"Bokeh: BokehJS is being loaded, scheduling callback at\", now());\n",
       "      return null;\n",
       "    }\n",
       "    if (js_urls == null || js_urls.length === 0) {\n",
       "      run_callbacks();\n",
       "      return null;\n",
       "    }\n",
       "    console.log(\"Bokeh: BokehJS not loaded, scheduling load and callback at\", now());\n",
       "    root._bokeh_is_loading = js_urls.length;\n",
       "    for (var i = 0; i < js_urls.length; i++) {\n",
       "      var url = js_urls[i];\n",
       "      var s = document.createElement('script');\n",
       "      s.src = url;\n",
       "      s.async = false;\n",
       "      s.onreadystatechange = s.onload = function() {\n",
       "        root._bokeh_is_loading--;\n",
       "        if (root._bokeh_is_loading === 0) {\n",
       "          console.log(\"Bokeh: all BokehJS libraries loaded\");\n",
       "          run_callbacks()\n",
       "        }\n",
       "      };\n",
       "      s.onerror = function() {\n",
       "        console.warn(\"failed to load library \" + url);\n",
       "      };\n",
       "      console.log(\"Bokeh: injecting script tag for BokehJS library: \", url);\n",
       "      document.getElementsByTagName(\"head\")[0].appendChild(s);\n",
       "    }\n",
       "  };var element = document.getElementById(\"1001\");\n",
       "  if (element == null) {\n",
       "    console.log(\"Bokeh: ERROR: autoload.js configured with elementid '1001' but no matching script tag was found. \")\n",
       "    return false;\n",
       "  }\n",
       "\n",
       "  var js_urls = [\"https://cdn.pydata.org/bokeh/release/bokeh-1.0.2.min.js\", \"https://cdn.pydata.org/bokeh/release/bokeh-widgets-1.0.2.min.js\", \"https://cdn.pydata.org/bokeh/release/bokeh-tables-1.0.2.min.js\", \"https://cdn.pydata.org/bokeh/release/bokeh-gl-1.0.2.min.js\"];\n",
       "\n",
       "  var inline_js = [\n",
       "    function(Bokeh) {\n",
       "      Bokeh.set_log_level(\"info\");\n",
       "    },\n",
       "    \n",
       "    function(Bokeh) {\n",
       "      \n",
       "    },\n",
       "    function(Bokeh) {\n",
       "      console.log(\"Bokeh: injecting CSS: https://cdn.pydata.org/bokeh/release/bokeh-1.0.2.min.css\");\n",
       "      Bokeh.embed.inject_css(\"https://cdn.pydata.org/bokeh/release/bokeh-1.0.2.min.css\");\n",
       "      console.log(\"Bokeh: injecting CSS: https://cdn.pydata.org/bokeh/release/bokeh-widgets-1.0.2.min.css\");\n",
       "      Bokeh.embed.inject_css(\"https://cdn.pydata.org/bokeh/release/bokeh-widgets-1.0.2.min.css\");\n",
       "      console.log(\"Bokeh: injecting CSS: https://cdn.pydata.org/bokeh/release/bokeh-tables-1.0.2.min.css\");\n",
       "      Bokeh.embed.inject_css(\"https://cdn.pydata.org/bokeh/release/bokeh-tables-1.0.2.min.css\");\n",
       "    }\n",
       "  ];\n",
       "\n",
       "  function run_inline_js() {\n",
       "    \n",
       "    if ((root.Bokeh !== undefined) || (force === true)) {\n",
       "      for (var i = 0; i < inline_js.length; i++) {\n",
       "        inline_js[i].call(root, root.Bokeh);\n",
       "      }if (force === true) {\n",
       "        display_loaded();\n",
       "      }} else if (Date.now() < root._bokeh_timeout) {\n",
       "      setTimeout(run_inline_js, 100);\n",
       "    } else if (!root._bokeh_failed_load) {\n",
       "      console.log(\"Bokeh: BokehJS failed to load within specified timeout.\");\n",
       "      root._bokeh_failed_load = true;\n",
       "    } else if (force !== true) {\n",
       "      var cell = $(document.getElementById(\"1001\")).parents('.cell').data().cell;\n",
       "      cell.output_area.append_execute_result(NB_LOAD_WARNING)\n",
       "    }\n",
       "\n",
       "  }\n",
       "\n",
       "  if (root._bokeh_is_loading === 0) {\n",
       "    console.log(\"Bokeh: BokehJS loaded, going straight to plotting\");\n",
       "    run_inline_js();\n",
       "  } else {\n",
       "    load_libs(js_urls, function() {\n",
       "      console.log(\"Bokeh: BokehJS plotting callback run at\", now());\n",
       "      run_inline_js();\n",
       "    });\n",
       "  }\n",
       "}(window));"
      ],
      "application/vnd.bokehjs_load.v0+json": "\n(function(root) {\n  function now() {\n    return new Date();\n  }\n\n  var force = true;\n\n  if (typeof (root._bokeh_onload_callbacks) === \"undefined\" || force === true) {\n    root._bokeh_onload_callbacks = [];\n    root._bokeh_is_loading = undefined;\n  }\n\n  \n\n  \n  if (typeof (root._bokeh_timeout) === \"undefined\" || force === true) {\n    root._bokeh_timeout = Date.now() + 5000;\n    root._bokeh_failed_load = false;\n  }\n\n  var NB_LOAD_WARNING = {'data': {'text/html':\n     \"<div style='background-color: #fdd'>\\n\"+\n     \"<p>\\n\"+\n     \"BokehJS does not appear to have successfully loaded. If loading BokehJS from CDN, this \\n\"+\n     \"may be due to a slow or bad network connection. Possible fixes:\\n\"+\n     \"</p>\\n\"+\n     \"<ul>\\n\"+\n     \"<li>re-rerun `output_notebook()` to attempt to load from CDN again, or</li>\\n\"+\n     \"<li>use INLINE resources instead, as so:</li>\\n\"+\n     \"</ul>\\n\"+\n     \"<code>\\n\"+\n     \"from bokeh.resources import INLINE\\n\"+\n     \"output_notebook(resources=INLINE)\\n\"+\n     \"</code>\\n\"+\n     \"</div>\"}};\n\n  function display_loaded() {\n    var el = document.getElementById(\"1001\");\n    if (el != null) {\n      el.textContent = \"BokehJS is loading...\";\n    }\n    if (root.Bokeh !== undefined) {\n      if (el != null) {\n        el.textContent = \"BokehJS \" + root.Bokeh.version + \" successfully loaded.\";\n      }\n    } else if (Date.now() < root._bokeh_timeout) {\n      setTimeout(display_loaded, 100)\n    }\n  }\n\n\n  function run_callbacks() {\n    try {\n      root._bokeh_onload_callbacks.forEach(function(callback) { callback() });\n    }\n    finally {\n      delete root._bokeh_onload_callbacks\n    }\n    console.info(\"Bokeh: all callbacks have finished\");\n  }\n\n  function load_libs(js_urls, callback) {\n    root._bokeh_onload_callbacks.push(callback);\n    if (root._bokeh_is_loading > 0) {\n      console.log(\"Bokeh: BokehJS is being loaded, scheduling callback at\", now());\n      return null;\n    }\n    if (js_urls == null || js_urls.length === 0) {\n      run_callbacks();\n      return null;\n    }\n    console.log(\"Bokeh: BokehJS not loaded, scheduling load and callback at\", now());\n    root._bokeh_is_loading = js_urls.length;\n    for (var i = 0; i < js_urls.length; i++) {\n      var url = js_urls[i];\n      var s = document.createElement('script');\n      s.src = url;\n      s.async = false;\n      s.onreadystatechange = s.onload = function() {\n        root._bokeh_is_loading--;\n        if (root._bokeh_is_loading === 0) {\n          console.log(\"Bokeh: all BokehJS libraries loaded\");\n          run_callbacks()\n        }\n      };\n      s.onerror = function() {\n        console.warn(\"failed to load library \" + url);\n      };\n      console.log(\"Bokeh: injecting script tag for BokehJS library: \", url);\n      document.getElementsByTagName(\"head\")[0].appendChild(s);\n    }\n  };var element = document.getElementById(\"1001\");\n  if (element == null) {\n    console.log(\"Bokeh: ERROR: autoload.js configured with elementid '1001' but no matching script tag was found. \")\n    return false;\n  }\n\n  var js_urls = [\"https://cdn.pydata.org/bokeh/release/bokeh-1.0.2.min.js\", \"https://cdn.pydata.org/bokeh/release/bokeh-widgets-1.0.2.min.js\", \"https://cdn.pydata.org/bokeh/release/bokeh-tables-1.0.2.min.js\", \"https://cdn.pydata.org/bokeh/release/bokeh-gl-1.0.2.min.js\"];\n\n  var inline_js = [\n    function(Bokeh) {\n      Bokeh.set_log_level(\"info\");\n    },\n    \n    function(Bokeh) {\n      \n    },\n    function(Bokeh) {\n      console.log(\"Bokeh: injecting CSS: https://cdn.pydata.org/bokeh/release/bokeh-1.0.2.min.css\");\n      Bokeh.embed.inject_css(\"https://cdn.pydata.org/bokeh/release/bokeh-1.0.2.min.css\");\n      console.log(\"Bokeh: injecting CSS: https://cdn.pydata.org/bokeh/release/bokeh-widgets-1.0.2.min.css\");\n      Bokeh.embed.inject_css(\"https://cdn.pydata.org/bokeh/release/bokeh-widgets-1.0.2.min.css\");\n      console.log(\"Bokeh: injecting CSS: https://cdn.pydata.org/bokeh/release/bokeh-tables-1.0.2.min.css\");\n      Bokeh.embed.inject_css(\"https://cdn.pydata.org/bokeh/release/bokeh-tables-1.0.2.min.css\");\n    }\n  ];\n\n  function run_inline_js() {\n    \n    if ((root.Bokeh !== undefined) || (force === true)) {\n      for (var i = 0; i < inline_js.length; i++) {\n        inline_js[i].call(root, root.Bokeh);\n      }if (force === true) {\n        display_loaded();\n      }} else if (Date.now() < root._bokeh_timeout) {\n      setTimeout(run_inline_js, 100);\n    } else if (!root._bokeh_failed_load) {\n      console.log(\"Bokeh: BokehJS failed to load within specified timeout.\");\n      root._bokeh_failed_load = true;\n    } else if (force !== true) {\n      var cell = $(document.getElementById(\"1001\")).parents('.cell').data().cell;\n      cell.output_area.append_execute_result(NB_LOAD_WARNING)\n    }\n\n  }\n\n  if (root._bokeh_is_loading === 0) {\n    console.log(\"Bokeh: BokehJS loaded, going straight to plotting\");\n    run_inline_js();\n  } else {\n    load_libs(js_urls, function() {\n      console.log(\"Bokeh: BokehJS plotting callback run at\", now());\n      run_inline_js();\n    });\n  }\n}(window));"
     },
     "metadata": {},
     "output_type": "display_data"
    },
    {
     "data": {
      "text/html": [
       "\n",
       "\n",
       "\n",
       "\n",
       "\n",
       "\n",
       "  <div class=\"bk-root\" id=\"a83a570f-5dcb-496e-be97-2de5fabc9c8a\"></div>\n"
      ]
     },
     "metadata": {},
     "output_type": "display_data"
    },
    {
     "data": {
      "application/javascript": [
       "(function(root) {\n",
       "  function embed_document(root) {\n",
       "    \n",
       "  var docs_json = {\"27781f99-e4aa-421e-96a3-ec0d3e0a84c9\":{\"roots\":{\"references\":[{\"attributes\":{\"below\":[{\"id\":\"1015\",\"type\":\"LinearAxis\"}],\"left\":[{\"id\":\"1020\",\"type\":\"LinearAxis\"}],\"plot_width\":700,\"renderers\":[{\"id\":\"1015\",\"type\":\"LinearAxis\"},{\"id\":\"1019\",\"type\":\"Grid\"},{\"id\":\"1020\",\"type\":\"LinearAxis\"},{\"id\":\"1024\",\"type\":\"Grid\"},{\"id\":\"1034\",\"type\":\"BoxAnnotation\"},{\"id\":\"1053\",\"type\":\"Legend\"},{\"id\":\"1045\",\"type\":\"GlyphRenderer\"}],\"title\":{\"id\":\"1004\",\"type\":\"Title\"},\"toolbar\":{\"id\":\"1032\",\"type\":\"Toolbar\"},\"x_range\":{\"id\":\"1007\",\"type\":\"DataRange1d\"},\"x_scale\":{\"id\":\"1011\",\"type\":\"LinearScale\"},\"y_range\":{\"id\":\"1009\",\"type\":\"DataRange1d\"},\"y_scale\":{\"id\":\"1013\",\"type\":\"LinearScale\"}},\"id\":\"1005\",\"subtype\":\"Figure\",\"type\":\"Plot\"},{\"attributes\":{},\"id\":\"1026\",\"type\":\"WheelZoomTool\"},{\"attributes\":{\"callback\":null,\"data\":{\"Int\":[10,17,12,19,11,22,17,20,14,22,9,27,11,10,7,14,13,12,21,9,8,9,14,12,12,8,2,9,6,11,6,7,9,17,14,16,9,12,14,12,15,12,9,18,18,12,5,17,10,17,6,7,12,10,13,9,12,13,14,8,10,11,9,5,7,13,11,7,14,16,18,13,12,13,8,15,11,11,15,14,10,11,8,7,16,9,12,7,10,7,10,17,4,7,5,5,15,15,16,7,14,12,16,14,10,21,18,8,6,5,11,13,7,14,16,13,8,10,4,9,6,2,17,12,4,11,2,8,10,13,10,14,11,13,13,8,12,13,13,5,12,16,13,7,7,22,7,15,11,7,14,4,9,14,7,12],\"Passer_Rating\":{\"__ndarray__\":\"ZmZmZmbGXEBmZmZmZmZWQM3MzMzMLFpAzczMzMwMVUAzMzMzM9NVQGZmZmZmRlJAzczMzMxsVEAzMzMzMzNWQAAAAAAAAFdAmpmZmZn5VEAAAAAAAMBVQJqZmZmZWVFAAAAAAABgWkDNzMzMzCxYQGZmZmZmRlZAAAAAAAAgU0AzMzMzMzNWQM3MzMzMjFRAAAAAAACgUECamZmZmflUQGZmZmZm5lZAzczMzMxMWUAAAAAAAEBSQM3MzMzMTFZAAAAAAACAVECamZmZmTlTQM3MzMzMzF1AzczMzMxsU0CamZmZmTlaQGZmZmZmRlFAzczMzMyMU0AzMzMzM7NTQJqZmZmZeVNAAAAAAABAWECamZmZmXlXQAAAAAAAIFhAMzMzMzPTWUDNzMzMzGxVQGZmZmZmBldAZmZmZmYmU0AAAAAAAGBZQDMzMzMzM1dAmpmZmZlZWEAzMzMzM3NXQGZmZmZmJlZAAAAAAADAVkDNzMzMzAxcQAAAAAAA4FRAmpmZmZmZVUAAAAAAAGBRQJqZmZmZWVdAAAAAAADAV0BmZmZmZoZUQDMzMzMz81VAAAAAAAAgU0DNzMzMzExcQM3MzMzMTFVAAAAAAABgU0AAAAAAAKBRQDMzMzMz01dAmpmZmZlZVECamZmZmRlWQGZmZmZmRlVAzczMzMysU0CamZmZmflUQDMzMzMzc1dAAAAAAABAWUDNzMzMzIxZQGZmZmZmZldAAAAAAABAVkDNzMzMzAxWQAAAAAAAQFhAzczMzMwsVkBmZmZmZsZWQM3MzMzMLFdAAAAAAAAAVkBmZmZmZmZZQGZmZmZmJlpAzczMzMwMVUCamZmZmZlVQJqZmZmZ2VhAMzMzMzMTV0BmZmZmZoZbQJqZmZmZ2VdAAAAAAACgV0DNzMzMzCxWQGZmZmZmxlRAzczMzMyMWkAAAAAAAOBWQJqZmZmZ2VZAAAAAAABAUUCamZmZmflQQDMzMzMzU1dAzczMzMyMVUAAAAAAAABVQAAAAAAAoFNAzczMzMxsWUAAAAAAAOBUQDMzMzMzs1NAzczMzMwMWkAzMzMzM9NTQM3MzMzMTFhAAAAAAACAVUDNzMzMzMxVQDMzMzMzU1dAmpmZmZn5VUBmZmZmZoZVQDMzMzMz81ZAzczMzMwsWEAzMzMzM9NYQGZmZmZmJldAmpmZmZkZWEBmZmZmZkZdQDMzMzMz81JAzczMzMwMUkCamZmZmdlXQM3MzMzMzFZAZmZmZmYmVUCamZmZmTlaQGZmZmZm5ldAzczMzMxsVkDNzMzMzAxcQGZmZmZmZlFAAAAAAABgV0DNzMzMzKxWQJqZmZmZGVNAMzMzMzMTV0AzMzMzM7NZQAAAAAAAAFhAmpmZmZkZVEAzMzMzM9NYQJqZmZmZWVdAmpmZmZnZV0CamZmZmRlUQJqZmZmZeVdAmpmZmZn5WUCamZmZmdlWQM3MzMzMLFVAmpmZmZmZVUDNzMzMzCxaQGZmZmZmplVAzczMzMwsVEBmZmZmZqZVQDMzMzMzk1hAAAAAAAAgWUAAAAAAAEBOQM3MzMzMbFRAMzMzMzPTU0DNzMzMzAxXQJqZmZmZeVlAMzMzMzMzVEDNzMzMzExWQAAAAAAAoFdAMzMzMzNTUkAAAAAAAGBTQGZmZmZmplFA\",\"dtype\":\"float64\",\"shape\":[156]},\"Player\":[\"Peyton Manning\",\"Matt Ryan\",\"Drew Brees\",\"Matthew Stafford\",\"Tom Brady\",\"Joe Flacco\",\"Ryan Tannehill\",\"Andy Dalton\",\"Ben Roethlisberger\",\"Carson Palmer\",\"Andrew Luck\",\"Eli Manning\",\"Philip Rivers\",\"Tony Romo\",\"Alex Smith\",\"Chad Henne\",\"Cam Newton\",\"Robert Griffin\",\"Geno Smith\",\"Mike Glennon\",\"Colin Kaepernick\",\"Russell Wilson\",\"Matt Schaub\",\"Jay Cutler\",\"Ryan Fitzpatrick\",\"Jason Campbell\",\"Nick Foles\",\"EJ Manuel\",\"Aaron Rodgers\",\"Terrelle Pryor\",\"Case Keenum\",\"Kellen Clemens\",\"Christian Ponder\",\"Drew Brees\",\"Matt Ryan\",\"Andrew Luck\",\"Ben Roethlisberger\",\"Matthew Stafford\",\"Eli Manning\",\"Derek Carr\",\"Peyton Manning\",\"Ryan Tannehill\",\"Tom Brady\",\"Philip Rivers\",\"Jay Cutler\",\"Joe Flacco\",\"Aaron Rodgers\",\"Andy Dalton\",\"Colin Kaepernick\",\"Blake Bortles\",\"Alex Smith\",\"Russell Wilson\",\"Cam Newton\",\"Kyle Orton\",\"Brian Hoyer\",\"Tony Romo\",\"Teddy Bridgewater\",\"Geno Smith\",\"Josh McCown\",\"Ryan Fitzpatrick\",\"Nick Foles\",\"Mark Sanchez\",\"Austin Davis\",\"Drew Stanton\",\"Shaun Hill\",\"Philip Rivers\",\"Drew Brees\",\"Tom Brady\",\"Eli Manning\",\"Matt Ryan\",\"Blake Bortles\",\"Matthew Stafford\",\"Ryan Tannehill\",\"Derek Carr\",\"Aaron Rodgers\",\"Ryan Fitzpatrick\",\"Kirk Cousins\",\"Carson Palmer\",\"Jameis Winston\",\"Sam Bradford\",\"Cam Newton\",\"Jay Cutler\",\"Russell Wilson\",\"Alex Smith\",\"Ben Roethlisberger\",\"Teddy Bridgewater\",\"Joe Flacco\",\"Andy Dalton\",\"Marcus Mariota\",\"Brian Hoyer\",\"Nick Foles\",\"Peyton Manning\",\"Josh McCown\",\"Blaine Gabbert\",\"Matt Hasselbeck\",\"Colin Kaepernick\",\"Drew Brees\",\"Joe Flacco\",\"Blake Bortles\",\"Aaron Rodgers\",\"Carson Wentz\",\"Kirk Cousins\",\"Eli Manning\",\"Carson Palmer\",\"Matthew Stafford\",\"Philip Rivers\",\"Jameis Winston\",\"Andy Dalton\",\"Derek Carr\",\"Sam Bradford\",\"Russell Wilson\",\"Andrew Luck\",\"Matt Ryan\",\"Cam Newton\",\"Brock Osweiler\",\"Ben Roethlisberger\",\"Alex Smith\",\"Trevor Siemian\",\"Dak Prescott\",\"Marcus Mariota\",\"Tyrod Taylor\",\"Tom Brady\",\"Ryan Fitzpatrick\",\"Ryan Tannehill\",\"Colin Kaepernick\",\"Case Keenum\",\"Cody Kessler\",\"Tom Brady\",\"Philip Rivers\",\"Eli Manning\",\"Matthew Stafford\",\"Ben Roethlisberger\",\"Russell Wilson\",\"Joe Flacco\",\"Kirk Cousins\",\"Drew Brees\",\"Matt Ryan\",\"Blake Bortles\",\"Derek Carr\",\"Alex Smith\",\"Andy Dalton\",\"Cam Newton\",\"Dak Prescott\",\"Case Keenum\",\"Jared Goff\",\"DeShone Kizer\",\"Jacoby Brissett\",\"Marcus Mariota\",\"Jameis Winston\",\"Carson Wentz\",\"Jay Cutler\",\"Tyrod Taylor\",\"Josh McCown\",\"Trevor Siemian\",\"Mitchell Trubisky\",\"Brett Hundley\"],\"QBR\":{\"__ndarray__\":\"mpmZmZk5VEAAAAAAAEBQQM3MzMzMTFFAmpmZmZkZTEDNzMzMzAxPQGZmZmZm5kdAZmZmZmamSEDNzMzMzIxLQM3MzMzMDE1AzczMzMxMSkCamZmZmdlPQGZmZmZmpkNAMzMzMzPTUkAAAAAAAABPQM3MzMzMjEdAAAAAAACAQUAzMzMzMxNQQGZmZmZm5klAAAAAAAAARUDNzMzMzIxKQM3MzMzMbFBAMzMzMzOzUECamZmZmVlCQJqZmZmZuVFAmpmZmZmZTEAzMzMzM7NEQAAAAAAA4FFAAAAAAADAQ0DNzMzMzExOQM3MzMzMjExAZmZmZmYmSEAzMzMzM7NDQGZmZmZmZkVAMzMzMzOzUkCamZmZmRlRQM3MzMzMTE9AzczMzMwsUUBmZmZmZqZHQAAAAAAAQE9AzczMzMwMREAAAAAAAABSQGZmZmZmpk1AzczMzMwMU0DNzMzMzMxPQGZmZmZm5klAzczMzMwMUUAzMzMzM5NTQAAAAAAAQEhAMzMzMzNzTkAzMzMzM7M6QJqZmZmZ2UlAAAAAAADgUUBmZmZmZqZMQDMzMzMz80VAMzMzMzMzQ0DNzMzMzOxTQDMzMzMzM0tAMzMzMzPzRkAAAAAAAABDQM3MzMzMjE5AZmZmZmYGUEAAAAAAAMBMQJqZmZmZGUZAmpmZmZnZSUCamZmZmZlGQJqZmZmZ2UtAmpmZmZmZUUAAAAAAAABRQAAAAAAAQE5AZmZmZmZmUUBmZmZmZuZJQAAAAAAAQE1AZmZmZmYmR0CamZmZmZlEQGZmZmZmJk5AAAAAAADAT0DNzMzMzOxRQGZmZmZmRlNAzczMzMyMTkDNzMzMzAxFQAAAAAAAwFBAMzMzMzPzTUAzMzMzM9NQQDMzMzMzM01AZmZmZmbGUUAAAAAAAMBMQJqZmZmZ2UhAAAAAAACAUUBmZmZmZqZKQM3MzMzMDExAmpmZmZkZPEAzMzMzM/NFQGZmZmZmJklAZmZmZmbmQkAAAAAAAABIQDMzMzMzs0VAZmZmZmZGUECamZmZmVlKQGZmZmZmZkVAMzMzMzNzUkAzMzMzM7NIQGZmZmZmhlBAZmZmZmamSEAAAAAAAEBLQAAAAAAAoFBAAAAAAADATECamZmZmdlNQGZmZmZmZklAzczMzMxMS0BmZmZmZqZMQGZmZmZmZkxAmpmZmZl5UECamZmZmdlTQAAAAAAAAEhAAAAAAADASEBmZmZmZuZOQAAAAAAAAE1AMzMzMzMzSEAzMzMzM7NTQDMzMzMzs01AMzMzMzOzTkBmZmZmZsZTQDMzMzMz80JAMzMzMzOzSEAAAAAAAMBIQM3MzMzMjEJAzczMzMwMRUDNzMzMzExSQGZmZmZmBlBAMzMzMzOzRkAzMzMzM1NQQDMzMzMzk1BAmpmZmZnZTkBmZmZmZuZIQJqZmZmZGUtAZmZmZmYmUEAzMzMzMxNRQJqZmZmZmU1AAAAAAACASUAAAAAAAMBQQJqZmZmZ2UZAZmZmZmamSkAAAAAAAGBRQDMzMzMzk1JAzczMzMwMSkAzMzMzM7M9QAAAAAAAwERAZmZmZmZmTUAAAAAAAABLQM3MzMzMTFNAzczMzMzMRkAAAAAAAABOQAAAAAAAAE5AzczMzMyMQECamZmZmZk/QJqZmZmZGUZA\",\"dtype\":\"float64\",\"shape\":[156]},\"TD\":[55,26,39,29,25,19,24,33,28,24,23,18,32,31,23,13,24,16,12,19,21,26,10,19,14,11,27,11,17,7,9,8,7,33,28,40,32,22,30,21,39,27,33,31,28,27,38,19,19,11,18,20,18,18,12,34,14,13,11,17,13,14,12,7,8,29,32,36,35,21,35,32,24,32,31,31,29,35,22,19,35,21,34,20,21,14,14,25,19,19,7,9,12,10,9,6,37,20,23,40,16,25,26,26,24,33,28,18,28,20,21,31,38,19,15,29,15,18,23,26,17,28,12,19,16,9,6,32,28,19,29,28,34,18,27,23,20,21,22,26,25,22,22,22,28,11,13,13,19,33,19,14,18,12,7,9],\"Yards\":[5477,4515,5162,4650,4343,3912,3913,4293,4261,4274,3822,3818,4478,3828,3313,3241,3379,3203,3046,2608,3197,3357,2310,2621,2454,2015,2891,1972,2536,1798,1760,1673,1648,4952,4694,4761,4952,4257,4410,3270,4727,4045,4109,4286,3812,3986,4381,3398,3369,2908,3265,3475,3127,3018,3326,3705,2919,2525,2206,2483,2163,2418,2001,1711,1657,4792,4870,4770,4432,4591,4428,4262,4208,3987,3821,3905,4166,4671,4042,3725,3837,3659,4024,3486,3938,3231,2791,3250,2818,2606,2052,2249,2109,2031,1690,1615,5208,4317,3905,4428,3782,4917,4027,4233,4327,4386,4090,4206,3937,3877,4219,4240,4944,3509,2957,3819,3502,3401,3667,3426,3023,3554,2710,2995,2241,2201,1380,4577,4515,3468,4446,4251,3983,3141,4093,4334,4095,3687,3496,4042,3320,3302,3324,3547,3804,2894,3098,3232,3504,3296,2666,2799,2926,2285,2193,1836],\"Year\":[2013,2013,2013,2013,2013,2013,2013,2013,2013,2013,2013,2013,2013,2013,2013,2013,2013,2013,2013,2013,2013,2013,2013,2013,2013,2013,2013,2013,2013,2013,2013,2013,2013,2014,2014,2014,2014,2014,2014,2014,2014,2014,2014,2014,2014,2014,2014,2014,2014,2014,2014,2014,2014,2014,2014,2014,2014,2014,2014,2014,2014,2014,2014,2014,2014,2015,2015,2015,2015,2015,2015,2015,2015,2015,2015,2015,2015,2015,2015,2015,2015,2015,2015,2015,2015,2015,2015,2015,2015,2015,2015,2015,2015,2015,2015,2015,2016,2016,2016,2016,2016,2016,2016,2016,2016,2016,2016,2016,2016,2016,2016,2016,2016,2016,2016,2016,2016,2016,2016,2016,2016,2016,2016,2016,2016,2016,2016,2017,2017,2017,2017,2017,2017,2017,2017,2017,2017,2017,2017,2017,2017,2017,2017,2017,2017,2017,2017,2017,2017,2017,2017,2017,2017,2017,2017,2017],\"label\":[\"B\",\"C\",\"B\",\"C\",\"C\",\"C\",\"C\",\"C\",\"C\",\"C\",\"C\",\"C\",\"B\",\"C\",\"C\",\"A\",\"C\",\"C\",\"C\",\"A\",\"C\",\"B\",\"A\",\"A\",\"A\",\"A\",\"B\",\"A\",\"B\",\"A\",\"A\",\"A\",\"A\",\"B\",\"C\",\"B\",\"B\",\"C\",\"C\",\"C\",\"B\",\"C\",\"B\",\"C\",\"C\",\"B\",\"B\",\"C\",\"C\",\"A\",\"C\",\"C\",\"C\",\"C\",\"C\",\"B\",\"C\",\"A\",\"A\",\"A\",\"A\",\"A\",\"A\",\"A\",\"A\",\"C\",\"B\",\"B\",\"C\",\"C\",\"C\",\"C\",\"C\",\"C\",\"C\",\"C\",\"B\",\"B\",\"C\",\"C\",\"B\",\"C\",\"B\",\"C\",\"B\",\"C\",\"A\",\"B\",\"C\",\"A\",\"A\",\"A\",\"A\",\"A\",\"A\",\"A\",\"B\",\"C\",\"C\",\"B\",\"C\",\"B\",\"C\",\"C\",\"C\",\"C\",\"C\",\"C\",\"B\",\"C\",\"C\",\"C\",\"B\",\"C\",\"A\",\"B\",\"C\",\"C\",\"B\",\"C\",\"C\",\"B\",\"A\",\"C\",\"A\",\"A\",\"A\",\"B\",\"B\",\"C\",\"B\",\"B\",\"C\",\"C\",\"C\",\"B\",\"B\",\"C\",\"C\",\"B\",\"C\",\"C\",\"C\",\"B\",\"B\",\"A\",\"C\",\"C\",\"C\",\"B\",\"A\",\"C\",\"C\",\"A\",\"A\",\"A\"],\"one\":{\"__ndarray__\":\"jxLH5gCm/z/a04skr3UKwLoV/5UB9OW/CgNs8pHU+b8Acukoy4n7v5AB+zjc/BHApUbD9/ZEEsD+Nv/Stuf2v17CyS88WP2/2FPdulhOA8Cg5LTEiDb7v3VEiXQaJgrAwDLSj4qe6D+cRguLj1bfv01cbfeSC+i/7HmmEj3h+r9JM75Uhe4GwD+hhEp+2va/Ptt27jtJEMAQW4a0Pq7xv6SIsCcfB7u/W5tyJNZ/ob+joi8aQb76P0PTuQi3igVAaPg3wHPRAEDobiOgRiUKQCwHp/MVxhZAiGXa7wJ69j/wkYsZgCYYQB5V5sxw8OA/22uvEdaDDEDAq4u0jNsMQI4PYuVwjAJABEV81fmJ9L8Lf/TfgvX3v15MEZpJw+C/GuJOdU/24D9HS3HbsicDwIxQCa2b3+W/uv6DtoE2BcDDw22JLy74P0PzUBJergbAVsNsLiPa7T9maEi6pr7yvxgErLZrDALACMCP9MJ0uz+BdJfeWP8BQOY2A0iby++/7q2YruXvB8B8ggp+jl4QwMytkJvtOOe/olerUPxm8b9oIdwSiQMBwDaYfu0Pseg/Z2+WY+4l8D9U73oKynAEQCp9x0XinNa/Ek/6Yu++0r+engm7/y26PwvETuaI+w9ANhcdf4BBEkChHmgXGcMPQKL/sIGrlQVAI+FlzECuFkAqBs+zoLASQPKp1dCUIwLAToHFrLl5w7+1emfdI2KkP7eSLkRZtee/tLoLATZu+L9oktWdcXIPwJi+3RrMUQHAshY6UsqbB8C29FDftXD8v8J2e91YJgDAzeMLle4n0L+wbOmBb5Gzvz2T/YP+8gJAgqSeAtLA9b9qHGgUbVbXv4BW14yef++/Cp1a92vQrT8DjiVSa+LTv1pGVPUH/OS/lG9Vs2NICEDWdwopuZvxv6BLIIP69fw/vQINbs6dDUBk96t28P7hP2iVHOW1SwpAXc6hjEAF/D+yGG9U+P0EQAKAfSJ5YhFAQeik/f6RCUBwW/VcEowTQBXlg9t01gVAeORTnot68r8RZZhWL2wHwP/gdItFXgzAf1HF7R6j6L8Gta6vYGMGwNgXJTxArOG/O6/IE/i87r+PAAGXydT6v+HAdzJzngDAyP9XWq0x878u1A/G4gf+v7/ZCH3o3/q/ZsyfzXte7D+aXXaqroDgv0hCddB68/i/Dwk0AURI9b+P2D9TymIAQBY2iO5Dyf2/osxc3z+w/b/nBlh5hjn9PzB/QpHl09c/8cC4shFxyj/X1fOisrf0P1c46Fv9bvA/foMYwMfJ8L8RdwYcIAMXQMYbNZ1OhPE/dtqPo0LT8T9ed2VF7PLtP9J4v7OccAJAikuxa8kzEkDfa2eupEbxP6DBeoPqffc/zLOkYDuK/L/VkK/xm0Lvv6V1r5N4VOs/B0Spz0YGA8DT6qh1gaX7v/GepSX8aAHAP4vSJxi2/D+0YzfOEdreP2iprtGl59S/QiqgmvA4vj9/hus5603uP5IVwHkhqfy/lyiNS2lgB8CZt5HDOS/6v4W3Laek0/0/UYoyz+ziAEBb0BNqCKURwHYFNxAJawXA0kr5eeFa8b9XVUOj5tfkPwhJATT/uwRA2tFTuzMepr+ngKjlj/rqvxYy5WQWyNk/hJ6Yb1vG5D+2+eJUzMvjPyzbKCY1dbW/\",\"dtype\":\"float64\",\"shape\":[156]},\"zero\":{\"__ndarray__\":\"jsSk1cR9IUD0rQmu9qzXP4zbuWF41xVAW7xebk+A9z/sy73QBcgCQPQmzgjWWQDAKTMOocLp8L8/MNBNsvX9PzknH8NWnvU/hYKfO72R8z9xKCPBf0TpPxE1+3mTwAXAzcY/Lp4UE0DqsJ/KKxT/P8wQam3Bydu/pQpUUxGDD8DorLZ6Wi7lP5ydIIpnKwbA/fN4RSFmD8DruRI6PsoKwCrjU9fHSfA/HQz/qHUwB0A5cyWl/yMWwDgDsM4U5+e/tjG4BkoUB8B+MdRh/QAVwFUvQd4i5xBAG7NpEs7rFcDpkQEGopP7P/YAVKPQ8BrAGGjCkSO3FsBc7jTvBHoUwNZRmykhrxnAr4rwiiF5C0BlGm+skjEEQI8f+rg69w5As3/zBvKPFUBK3jkUfLHzPysJHHh9Qfs/tOOIey1FDsCx2g2IAi4VQDZiTIHN59g/bmI8cQYXDEA7xjBb5eQBQCFTbPtqruS/p8+kyAseAEDCC0spNngYQG78AX8J98C/CCYbLdCx6r8s05UKPUQZwK/2CH259su/YYkyPSIV/T9vGSRDXgQCwMCXy+GsRPS/4FbpnGNj8r8hUyLRCPUVQH4kpZlE1/y/gKmikieIEMB+GQcwEAQawGWglyzCzdC/AfJDLe0EAMB1EAbdwwz/v3IMV4UDcBHAPYIKv/kzDsB2sEwPYC0SwBAJAX8kjPk/le7JKxqAD0B3dMhcuncTQBcTmXMHLQFAT3isk+4EAUCTN1Nwyn3tP3e68CkZcPk/X68pFcRHwb9RLOqPtG/pP1QO6QGdD/A/M62+w2ox+T83ouyxcYIKQM8mji0lExlArrUtkaKC1D+9GRPuwjXlvxJpsd4PCRBAOOl+qy0a8z8L+MSa/8gQQIWIql6HQvA/YnsT0FvfAkAN32HXxg/uv+ECqmKgkQTADCX9USOCDkBFchqBys79v17zEjTnpvm/bARAsW1yGMCu1/BFRSsPwJyOI7hg3gbAghu/G25zDcCn+FfrXfANwF4x7w1v4BjASfBuBCJaE0DJVIq24t27P0RYtIGmiwXAnfgR6FwJD0AaxpymIu3/v4P1ojFdMRBAcXmcESgX9j/LA29576bkP8Q5WMh+aQdApI3svhlD7D9f4iEui6zZP35HeR8QVOk/xa3KCfF8C0B/CGeSBcjsP0obI74h9/0/BeWcbWjjBEDkfrTyasEdQINRZP63hAHAAR5F+NibDsCCt+RBNeIDQJPbxFIrdvE/K5nO3k7p5r/oD8kLKQESQNxIdedvCfM/EeDl/iPd8b/DuZYl6YEVQFdDVsX3YRPAbEvsWvLvsD+v7T12Zm4NwE3PncmxiBLAqRadm8r/FsAW+/67UbkTQKIQcJLJzQxAQXQHatH/BcBJkidjPooIQM+1vBoGvQ1AHJcFTTmB+z9mZENqQwMFwEJxPnR1zfQ/cXv0m3mZEEDP9xF1DGIDQOjUVmTaYsE/RV58V3JX5r8Maudl5H4MQMyC2XbVGe6/QdCLqTJZ8r89O0RdyJjRv+Xj4Kl1gQJALHFIHpBfCEASsuE/5PgdwOHBZEAx2AvASbvLe2pa8r9Gkczv/k7Sv2sTYqNt/wVAfXG/m+Q8B8A2osAfaN7/v8bsfp764um/Z3I8TMEUF8CTRWfnL2YVwAEhQFsJexzA\",\"dtype\":\"float64\",\"shape\":[156]}},\"selected\":{\"id\":\"1062\",\"type\":\"Selection\"},\"selection_policy\":{\"id\":\"1061\",\"type\":\"UnionRenderers\"}},\"id\":\"1002\",\"type\":\"ColumnDataSource\"},{\"attributes\":{\"overlay\":{\"id\":\"1034\",\"type\":\"BoxAnnotation\"}},\"id\":\"1027\",\"type\":\"BoxZoomTool\"},{\"attributes\":{\"source\":{\"id\":\"1002\",\"type\":\"ColumnDataSource\"}},\"id\":\"1046\",\"type\":\"CDSView\"},{\"attributes\":{},\"id\":\"1028\",\"type\":\"SaveTool\"},{\"attributes\":{},\"id\":\"1029\",\"type\":\"ResetTool\"},{\"attributes\":{\"callback\":null},\"id\":\"1007\",\"type\":\"DataRange1d\"},{\"attributes\":{},\"id\":\"1030\",\"type\":\"HelpTool\"},{\"attributes\":{\"callback\":null},\"id\":\"1009\",\"type\":\"DataRange1d\"},{\"attributes\":{\"callback\":null,\"tooltips\":[[\"Player\",\"@Player\"],[\"Year\",\"@Year\"],[\"Yards\",\"@Yards\"],[\"TDs\",\"@TD\"],[\"Ints\",\"@Int\"],[\"Passer Rating\",\"@Passer_Rating\"],[\"QBR\",\"@QBR\"]]},\"id\":\"1031\",\"type\":\"HoverTool\"},{\"attributes\":{\"active_drag\":\"auto\",\"active_inspect\":\"auto\",\"active_multi\":null,\"active_scroll\":\"auto\",\"active_tap\":\"auto\",\"tools\":[{\"id\":\"1025\",\"type\":\"PanTool\"},{\"id\":\"1026\",\"type\":\"WheelZoomTool\"},{\"id\":\"1027\",\"type\":\"BoxZoomTool\"},{\"id\":\"1028\",\"type\":\"SaveTool\"},{\"id\":\"1029\",\"type\":\"ResetTool\"},{\"id\":\"1030\",\"type\":\"HelpTool\"},{\"id\":\"1031\",\"type\":\"HoverTool\"}]},\"id\":\"1032\",\"type\":\"Toolbar\"},{\"attributes\":{},\"id\":\"1011\",\"type\":\"LinearScale\"},{\"attributes\":{},\"id\":\"1013\",\"type\":\"LinearScale\"},{\"attributes\":{\"bottom_units\":\"screen\",\"fill_alpha\":{\"value\":0.5},\"fill_color\":{\"value\":\"lightgrey\"},\"left_units\":\"screen\",\"level\":\"overlay\",\"line_alpha\":{\"value\":1.0},\"line_color\":{\"value\":\"black\"},\"line_dash\":[4,4],\"line_width\":{\"value\":2},\"plot\":null,\"render_mode\":\"css\",\"right_units\":\"screen\",\"top_units\":\"screen\"},\"id\":\"1034\",\"type\":\"BoxAnnotation\"},{\"attributes\":{\"fill_alpha\":{\"value\":0.1},\"fill_color\":{\"value\":\"#1f77b4\"},\"line_alpha\":{\"value\":0.1},\"line_color\":{\"value\":\"#1f77b4\"},\"size\":{\"units\":\"screen\",\"value\":10},\"x\":{\"field\":\"zero\"},\"y\":{\"field\":\"one\"}},\"id\":\"1044\",\"type\":\"Circle\"},{\"attributes\":{\"data_source\":{\"id\":\"1002\",\"type\":\"ColumnDataSource\"},\"glyph\":{\"id\":\"1043\",\"type\":\"Circle\"},\"hover_glyph\":null,\"muted_glyph\":null,\"nonselection_glyph\":{\"id\":\"1044\",\"type\":\"Circle\"},\"selection_glyph\":null,\"view\":{\"id\":\"1046\",\"type\":\"CDSView\"}},\"id\":\"1045\",\"type\":\"GlyphRenderer\"},{\"attributes\":{\"formatter\":{\"id\":\"1048\",\"type\":\"BasicTickFormatter\"},\"plot\":{\"id\":\"1005\",\"subtype\":\"Figure\",\"type\":\"Plot\"},\"ticker\":{\"id\":\"1016\",\"type\":\"BasicTicker\"}},\"id\":\"1015\",\"type\":\"LinearAxis\"},{\"attributes\":{\"fill_alpha\":{\"value\":0.5},\"fill_color\":{\"field\":\"label\",\"transform\":{\"id\":\"1003\",\"type\":\"CategoricalColorMapper\"}},\"line_alpha\":{\"value\":0.5},\"line_color\":{\"field\":\"label\",\"transform\":{\"id\":\"1003\",\"type\":\"CategoricalColorMapper\"}},\"size\":{\"units\":\"screen\",\"value\":10},\"x\":{\"field\":\"zero\"},\"y\":{\"field\":\"one\"}},\"id\":\"1043\",\"type\":\"Circle\"},{\"attributes\":{},\"id\":\"1016\",\"type\":\"BasicTicker\"},{\"attributes\":{},\"id\":\"1062\",\"type\":\"Selection\"},{\"attributes\":{\"plot\":{\"id\":\"1005\",\"subtype\":\"Figure\",\"type\":\"Plot\"},\"ticker\":{\"id\":\"1016\",\"type\":\"BasicTicker\"}},\"id\":\"1019\",\"type\":\"Grid\"},{\"attributes\":{},\"id\":\"1061\",\"type\":\"UnionRenderers\"},{\"attributes\":{\"formatter\":{\"id\":\"1050\",\"type\":\"BasicTickFormatter\"},\"plot\":{\"id\":\"1005\",\"subtype\":\"Figure\",\"type\":\"Plot\"},\"ticker\":{\"id\":\"1021\",\"type\":\"BasicTicker\"}},\"id\":\"1020\",\"type\":\"LinearAxis\"},{\"attributes\":{\"plot\":null,\"text\":\"K-Means NFL Quarterbacks\"},\"id\":\"1004\",\"type\":\"Title\"},{\"attributes\":{},\"id\":\"1021\",\"type\":\"BasicTicker\"},{\"attributes\":{\"dimension\":1,\"plot\":{\"id\":\"1005\",\"subtype\":\"Figure\",\"type\":\"Plot\"},\"ticker\":{\"id\":\"1021\",\"type\":\"BasicTicker\"}},\"id\":\"1024\",\"type\":\"Grid\"},{\"attributes\":{\"items\":[{\"id\":\"1054\",\"type\":\"LegendItem\"}],\"plot\":{\"id\":\"1005\",\"subtype\":\"Figure\",\"type\":\"Plot\"}},\"id\":\"1053\",\"type\":\"Legend\"},{\"attributes\":{\"label\":{\"field\":\"label\"},\"renderers\":[{\"id\":\"1045\",\"type\":\"GlyphRenderer\"}]},\"id\":\"1054\",\"type\":\"LegendItem\"},{\"attributes\":{},\"id\":\"1048\",\"type\":\"BasicTickFormatter\"},{\"attributes\":{},\"id\":\"1050\",\"type\":\"BasicTickFormatter\"},{\"attributes\":{},\"id\":\"1025\",\"type\":\"PanTool\"},{\"attributes\":{\"factors\":[\"A\",\"B\",\"C\"],\"palette\":[\"#1f77b4\",\"#ff7f0e\",\"#2ca02c\"]},\"id\":\"1003\",\"type\":\"CategoricalColorMapper\"}],\"root_ids\":[\"1005\"]},\"title\":\"Bokeh Application\",\"version\":\"1.0.2\"}};\n",
       "  var render_items = [{\"docid\":\"27781f99-e4aa-421e-96a3-ec0d3e0a84c9\",\"roots\":{\"1005\":\"a83a570f-5dcb-496e-be97-2de5fabc9c8a\"}}];\n",
       "  root.Bokeh.embed.embed_items_notebook(docs_json, render_items);\n",
       "\n",
       "  }\n",
       "  if (root.Bokeh !== undefined) {\n",
       "    embed_document(root);\n",
       "  } else {\n",
       "    var attempts = 0;\n",
       "    var timer = setInterval(function(root) {\n",
       "      if (root.Bokeh !== undefined) {\n",
       "        embed_document(root);\n",
       "        clearInterval(timer);\n",
       "      }\n",
       "      attempts++;\n",
       "      if (attempts > 100) {\n",
       "        console.log(\"Bokeh: ERROR: Unable to run BokehJS code because BokehJS library is missing\");\n",
       "        clearInterval(timer);\n",
       "      }\n",
       "    }, 10, root)\n",
       "  }\n",
       "})(window);"
      ],
      "application/vnd.bokehjs_exec.v0+json": ""
     },
     "metadata": {
      "application/vnd.bokehjs_exec.v0+json": {
       "id": "1005"
      }
     },
     "output_type": "display_data"
    }
   ],
   "source": [
    "output_notebook()\n",
    "\n",
    "source = ColumnDataSource(data = {'Player' : full_data.Player,\n",
    "                                  'Year' : full_data.Year,\n",
    "                                  'Yards' : full_data.Yds,\n",
    "                                  'TD' : full_data.TD,\n",
    "                                  'Int' : full_data.Int,\n",
    "                                  'QBR' : full_data.QBR,\n",
    "                                  'Passer_Rating' : full_data.Rate,\n",
    "                                  'label' : full_data.Label,\n",
    "                                  'zero' : full_data.iloc[:,34],\n",
    "                                 'one' : full_data.iloc[:,35]})\n",
    "\n",
    "color_labels = CategoricalColorMapper(factors = ['A','B','C'], palette = [Category10[3][0], Category10[3][1], Category10[3][2]])\n",
    "\n",
    "info = [('Player','@Player'),\n",
    "       ('Year', '@Year'),\n",
    "       ('Yards', '@Yards'),\n",
    "       ('TDs', '@TD'),\n",
    "       ('Ints','@Int'),\n",
    "       ('Passer Rating','@Passer_Rating'),\n",
    "       ('QBR','@QBR')]\n",
    "\n",
    "p = figure(plot_width = 700, plot_height = 600, title = 'K-Means NFL Quarterbacks', tooltips = info)\n",
    "p.circle('zero', 'one', size = 10, alpha = 0.5, source=source, \n",
    "         color = {'field':'label', 'transform':color_labels}, legend = 'label')\n",
    "show(p)"
   ]
  }
 ],
 "metadata": {
  "kernelspec": {
   "display_name": "Python 3",
   "language": "python",
   "name": "python3"
  },
  "language_info": {
   "codemirror_mode": {
    "name": "ipython",
    "version": 3
   },
   "file_extension": ".py",
   "mimetype": "text/x-python",
   "name": "python",
   "nbconvert_exporter": "python",
   "pygments_lexer": "ipython3",
   "version": "3.6.6"
  }
 },
 "nbformat": 4,
 "nbformat_minor": 2
}
